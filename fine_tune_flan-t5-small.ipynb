{
 "cells": [
  {
   "metadata": {},
   "cell_type": "code",
   "outputs": [],
   "execution_count": null,
   "source": "# !pip install -r requirements.txt",
   "id": "f67bafb89fd5fef2"
  },
  {
   "metadata": {
    "collapsed": true,
    "ExecuteTime": {
     "end_time": "2024-08-25T21:21:31.257541Z",
     "start_time": "2024-08-25T21:21:29.214129Z"
    }
   },
   "cell_type": "code",
   "source": [
    "import gc\n",
    "import inspect\n",
    "from collections import Counter\n",
    "\n",
    "import evaluate\n",
    "import matplotlib.pyplot as plt\n",
    "import numpy as np\n",
    "import pandas as pd\n",
    "import torch\n",
    "from datasets import Dataset\n",
    "from peft import LoraConfig, get_peft_model, TaskType\n",
    "from torch.utils.data import DataLoader\n",
    "from tqdm.auto import tqdm\n",
    "from transformers import AutoModelForSeq2SeqLM, AutoTokenizer, DataCollatorForSeq2Seq, set_seed"
   ],
   "id": "initial_id",
   "outputs": [],
   "execution_count": 1
  },
  {
   "metadata": {
    "ExecuteTime": {
     "end_time": "2024-08-25T21:21:31.286457Z",
     "start_time": "2024-08-25T21:21:31.268439Z"
    }
   },
   "cell_type": "code",
   "source": [
    "device = torch.device(\"cuda\") if torch.cuda.is_available() else torch.device(\"cpu\")\n",
    "device"
   ],
   "id": "b3d1e168610da99e",
   "outputs": [
    {
     "data": {
      "text/plain": [
       "device(type='cuda')"
      ]
     },
     "execution_count": 2,
     "metadata": {},
     "output_type": "execute_result"
    }
   ],
   "execution_count": 2
  },
  {
   "metadata": {},
   "cell_type": "markdown",
   "source": "# Data Exploration",
   "id": "5f3041b1d7e3050"
  },
  {
   "metadata": {
    "ExecuteTime": {
     "end_time": "2024-08-25T21:21:31.393602Z",
     "start_time": "2024-08-25T21:21:31.390011Z"
    }
   },
   "cell_type": "code",
   "source": "df = pd.read_csv('data.csv')",
   "id": "dcf0b69071b5b416",
   "outputs": [],
   "execution_count": 3
  },
  {
   "metadata": {
    "ExecuteTime": {
     "end_time": "2024-08-25T21:21:31.453094Z",
     "start_time": "2024-08-25T21:21:31.447527Z"
    }
   },
   "cell_type": "code",
   "source": "df.head(3)",
   "id": "159d420bbb475943",
   "outputs": [
    {
     "data": {
      "text/plain": [
       "                                              Prompt  \\\n",
       "0  Trigger an alert when a variable changes to 't...   \n",
       "1  Assign a new value to a variable when it chang...   \n",
       "2  Send a request when a variable changes and upd...   \n",
       "\n",
       "                           Sequence of Nodes  \n",
       "0           [OnVariableChange],[Alert],[Log]  \n",
       "1         [OnVariableChange],[Assign],[Show]  \n",
       "2  [OnVariableChange],[SendRequest],[Update]  "
      ],
      "text/html": [
       "<div>\n",
       "<style scoped>\n",
       "    .dataframe tbody tr th:only-of-type {\n",
       "        vertical-align: middle;\n",
       "    }\n",
       "\n",
       "    .dataframe tbody tr th {\n",
       "        vertical-align: top;\n",
       "    }\n",
       "\n",
       "    .dataframe thead th {\n",
       "        text-align: right;\n",
       "    }\n",
       "</style>\n",
       "<table border=\"1\" class=\"dataframe\">\n",
       "  <thead>\n",
       "    <tr style=\"text-align: right;\">\n",
       "      <th></th>\n",
       "      <th>Prompt</th>\n",
       "      <th>Sequence of Nodes</th>\n",
       "    </tr>\n",
       "  </thead>\n",
       "  <tbody>\n",
       "    <tr>\n",
       "      <th>0</th>\n",
       "      <td>Trigger an alert when a variable changes to 't...</td>\n",
       "      <td>[OnVariableChange],[Alert],[Log]</td>\n",
       "    </tr>\n",
       "    <tr>\n",
       "      <th>1</th>\n",
       "      <td>Assign a new value to a variable when it chang...</td>\n",
       "      <td>[OnVariableChange],[Assign],[Show]</td>\n",
       "    </tr>\n",
       "    <tr>\n",
       "      <th>2</th>\n",
       "      <td>Send a request when a variable changes and upd...</td>\n",
       "      <td>[OnVariableChange],[SendRequest],[Update]</td>\n",
       "    </tr>\n",
       "  </tbody>\n",
       "</table>\n",
       "</div>"
      ]
     },
     "execution_count": 4,
     "metadata": {},
     "output_type": "execute_result"
    }
   ],
   "execution_count": 4
  },
  {
   "metadata": {
    "ExecuteTime": {
     "end_time": "2024-08-25T21:21:31.524420Z",
     "start_time": "2024-08-25T21:21:31.521651Z"
    }
   },
   "cell_type": "code",
   "source": "df['Prompt'][0]",
   "id": "7b4df525e5749753",
   "outputs": [
    {
     "data": {
      "text/plain": [
       "\"Trigger an alert when a variable changes to 'true' and log the event.\""
      ]
     },
     "execution_count": 5,
     "metadata": {},
     "output_type": "execute_result"
    }
   ],
   "execution_count": 5
  },
  {
   "metadata": {
    "ExecuteTime": {
     "end_time": "2024-08-25T21:21:31.610477Z",
     "start_time": "2024-08-25T21:21:31.605482Z"
    }
   },
   "cell_type": "code",
   "source": [
    "df['Nodes List'] = df['Sequence of Nodes'].apply(lambda x: x.strip(\"[]\").split(\"],[\"))\n",
    "df['Nodes List'].head(3)"
   ],
   "id": "b94a83391c87bbe7",
   "outputs": [
    {
     "data": {
      "text/plain": [
       "0             [OnVariableChange, Alert, Log]\n",
       "1           [OnVariableChange, Assign, Show]\n",
       "2    [OnVariableChange, SendRequest, Update]\n",
       "Name: Nodes List, dtype: object"
      ]
     },
     "execution_count": 6,
     "metadata": {},
     "output_type": "execute_result"
    }
   ],
   "execution_count": 6
  },
  {
   "metadata": {
    "ExecuteTime": {
     "end_time": "2024-08-25T21:21:31.648316Z",
     "start_time": "2024-08-25T21:21:31.641772Z"
    }
   },
   "cell_type": "code",
   "source": [
    "# Flatten the list of all nodes and count occurrences\n",
    "all_nodes = [node for nodes_list in df['Nodes List'] for node in nodes_list]\n",
    "node_counts = Counter(all_nodes)\n",
    "# Convert the counter to a DataFrame for easy viewing\n",
    "node_counts_df = pd.DataFrame(node_counts.items(), columns=['Node', 'Count'])\n",
    "node_counts_df.head(3)"
   ],
   "id": "70588b34bff20942",
   "outputs": [
    {
     "data": {
      "text/plain": [
       "               Node  Count\n",
       "0  OnVariableChange     20\n",
       "1             Alert     13\n",
       "2               Log     54"
      ],
      "text/html": [
       "<div>\n",
       "<style scoped>\n",
       "    .dataframe tbody tr th:only-of-type {\n",
       "        vertical-align: middle;\n",
       "    }\n",
       "\n",
       "    .dataframe tbody tr th {\n",
       "        vertical-align: top;\n",
       "    }\n",
       "\n",
       "    .dataframe thead th {\n",
       "        text-align: right;\n",
       "    }\n",
       "</style>\n",
       "<table border=\"1\" class=\"dataframe\">\n",
       "  <thead>\n",
       "    <tr style=\"text-align: right;\">\n",
       "      <th></th>\n",
       "      <th>Node</th>\n",
       "      <th>Count</th>\n",
       "    </tr>\n",
       "  </thead>\n",
       "  <tbody>\n",
       "    <tr>\n",
       "      <th>0</th>\n",
       "      <td>OnVariableChange</td>\n",
       "      <td>20</td>\n",
       "    </tr>\n",
       "    <tr>\n",
       "      <th>1</th>\n",
       "      <td>Alert</td>\n",
       "      <td>13</td>\n",
       "    </tr>\n",
       "    <tr>\n",
       "      <th>2</th>\n",
       "      <td>Log</td>\n",
       "      <td>54</td>\n",
       "    </tr>\n",
       "  </tbody>\n",
       "</table>\n",
       "</div>"
      ]
     },
     "execution_count": 7,
     "metadata": {},
     "output_type": "execute_result"
    }
   ],
   "execution_count": 7
  },
  {
   "metadata": {
    "ExecuteTime": {
     "end_time": "2024-08-25T21:21:31.870795Z",
     "start_time": "2024-08-25T21:21:31.695661Z"
    }
   },
   "cell_type": "code",
   "source": [
    "# Plot the counts as a histogram\n",
    "plt.figure(figsize=[17, 5])\n",
    "node_counts_df.plot(kind='bar', x='Node', y='Count', legend=False, ax=plt.gca())\n",
    "plt.title('Node Frequency')\n",
    "plt.xlabel('Node')\n",
    "plt.ylabel('Count')\n",
    "plt.xticks(rotation=45)\n",
    "plt.show()"
   ],
   "id": "83ea36045b2559eb",
   "outputs": [
    {
     "data": {
      "text/plain": [
       "<Figure size 1700x500 with 1 Axes>"
      ],
      "image/png": "[encoded data removed]"
     },
     "metadata": {},
     "output_type": "display_data"
    }
   ],
   "execution_count": 8
  },
  {
   "metadata": {
    "ExecuteTime": {
     "end_time": "2024-08-25T21:21:31.919044Z",
     "start_time": "2024-08-25T21:21:31.914066Z"
    }
   },
   "cell_type": "code",
   "source": [
    "# Print least repeated node names\n",
    "node_counts_df[node_counts_df['Count'] == node_counts_df['Count'].min()]"
   ],
   "id": "5dd391301621d451",
   "outputs": [
    {
     "data": {
      "text/plain": [
       "           Node  Count\n",
       "5   SendRequest      7\n",
       "15        Delay      7"
      ],
      "text/html": [
       "<div>\n",
       "<style scoped>\n",
       "    .dataframe tbody tr th:only-of-type {\n",
       "        vertical-align: middle;\n",
       "    }\n",
       "\n",
       "    .dataframe tbody tr th {\n",
       "        vertical-align: top;\n",
       "    }\n",
       "\n",
       "    .dataframe thead th {\n",
       "        text-align: right;\n",
       "    }\n",
       "</style>\n",
       "<table border=\"1\" class=\"dataframe\">\n",
       "  <thead>\n",
       "    <tr style=\"text-align: right;\">\n",
       "      <th></th>\n",
       "      <th>Node</th>\n",
       "      <th>Count</th>\n",
       "    </tr>\n",
       "  </thead>\n",
       "  <tbody>\n",
       "    <tr>\n",
       "      <th>5</th>\n",
       "      <td>SendRequest</td>\n",
       "      <td>7</td>\n",
       "    </tr>\n",
       "    <tr>\n",
       "      <th>15</th>\n",
       "      <td>Delay</td>\n",
       "      <td>7</td>\n",
       "    </tr>\n",
       "  </tbody>\n",
       "</table>\n",
       "</div>"
      ]
     },
     "execution_count": 9,
     "metadata": {},
     "output_type": "execute_result"
    }
   ],
   "execution_count": 9
  },
  {
   "metadata": {},
   "cell_type": "markdown",
   "source": "# Tokenize words and prepare dataset class",
   "id": "4ce1a26802678d7d"
  },
  {
   "metadata": {
    "ExecuteTime": {
     "end_time": "2024-08-25T21:21:33.525360Z",
     "start_time": "2024-08-25T21:21:31.941118Z"
    }
   },
   "cell_type": "code",
   "source": [
    "# Load the pre-trained flan-t5 tokenizer\n",
    "\n",
    "model_name = 'google/flan-t5-small'\n",
    "original_model = AutoModelForSeq2SeqLM.from_pretrained(model_name, torch_dtype=torch.bfloat16)\n",
    "tokenizer = AutoTokenizer.from_pretrained(model_name)\n",
    "\n",
    "print('Special tokens:', tokenizer.all_special_tokens)\n",
    "print('Numer of unique tokens:', len(tokenizer))"
   ],
   "id": "b366b38311c25b8d",
   "outputs": [
    {
     "name": "stdout",
     "output_type": "stream",
     "text": [
      "Special tokens: ['</s>', '<unk>', '<pad>', '<extra_id_0>', '<extra_id_1>', '<extra_id_2>', '<extra_id_3>', '<extra_id_4>', '<extra_id_5>', '<extra_id_6>', '<extra_id_7>', '<extra_id_8>', '<extra_id_9>', '<extra_id_10>', '<extra_id_11>', '<extra_id_12>', '<extra_id_13>', '<extra_id_14>', '<extra_id_15>', '<extra_id_16>', '<extra_id_17>', '<extra_id_18>', '<extra_id_19>', '<extra_id_20>', '<extra_id_21>', '<extra_id_22>', '<extra_id_23>', '<extra_id_24>', '<extra_id_25>', '<extra_id_26>', '<extra_id_27>', '<extra_id_28>', '<extra_id_29>', '<extra_id_30>', '<extra_id_31>', '<extra_id_32>', '<extra_id_33>', '<extra_id_34>', '<extra_id_35>', '<extra_id_36>', '<extra_id_37>', '<extra_id_38>', '<extra_id_39>', '<extra_id_40>', '<extra_id_41>', '<extra_id_42>', '<extra_id_43>', '<extra_id_44>', '<extra_id_45>', '<extra_id_46>', '<extra_id_47>', '<extra_id_48>', '<extra_id_49>', '<extra_id_50>', '<extra_id_51>', '<extra_id_52>', '<extra_id_53>', '<extra_id_54>', '<extra_id_55>', '<extra_id_56>', '<extra_id_57>', '<extra_id_58>', '<extra_id_59>', '<extra_id_60>', '<extra_id_61>', '<extra_id_62>', '<extra_id_63>', '<extra_id_64>', '<extra_id_65>', '<extra_id_66>', '<extra_id_67>', '<extra_id_68>', '<extra_id_69>', '<extra_id_70>', '<extra_id_71>', '<extra_id_72>', '<extra_id_73>', '<extra_id_74>', '<extra_id_75>', '<extra_id_76>', '<extra_id_77>', '<extra_id_78>', '<extra_id_79>', '<extra_id_80>', '<extra_id_81>', '<extra_id_82>', '<extra_id_83>', '<extra_id_84>', '<extra_id_85>', '<extra_id_86>', '<extra_id_87>', '<extra_id_88>', '<extra_id_89>', '<extra_id_90>', '<extra_id_91>', '<extra_id_92>', '<extra_id_93>', '<extra_id_94>', '<extra_id_95>', '<extra_id_96>', '<extra_id_97>', '<extra_id_98>', '<extra_id_99>']\n",
      "Numer of unique tokens: 32100\n"
     ]
    }
   ],
   "execution_count": 10
  },
  {
   "metadata": {
    "ExecuteTime": {
     "end_time": "2024-08-25T21:21:33.579934Z",
     "start_time": "2024-08-25T21:21:33.576123Z"
    }
   },
   "cell_type": "code",
   "source": [
    "example = \"A brown fox jumps over the lazy dog\"\n",
    "token_ids = tokenizer.encode(example)\n",
    "print(\"Example tokenization:\")\n",
    "print(\"\\t Sentence: \", example)\n",
    "print('\\t Tokens: ', tokenizer.decode(token_ids, skip_special_tokens=False))"
   ],
   "id": "303667a2917d1f07",
   "outputs": [
    {
     "name": "stdout",
     "output_type": "stream",
     "text": [
      "Example tokenization:\n",
      "\t Sentence:  A brown fox jumps over the lazy dog\n",
      "\t Tokens:  A brown fox jumps over the lazy dog</s>\n"
     ]
    }
   ],
   "execution_count": 11
  },
  {
   "metadata": {},
   "cell_type": "markdown",
   "source": "### Create pandas dataframe with text ready to be tokenized",
   "id": "382c9d830fec18a6"
  },
  {
   "metadata": {
    "ExecuteTime": {
     "end_time": "2024-08-25T21:21:33.649409Z",
     "start_time": "2024-08-25T21:21:33.644775Z"
    }
   },
   "cell_type": "code",
   "source": [
    "df['concatenated_node_names'] = df['Sequence of Nodes'].apply(\n",
    "    lambda x: ' '.join(x.strip(\"[]\").split(\"],[\")))\n",
    "df['concatenated_node_names'].head(3)"
   ],
   "id": "25c98dbffccb91da",
   "outputs": [
    {
     "data": {
      "text/plain": [
       "0             OnVariableChange Alert Log\n",
       "1           OnVariableChange Assign Show\n",
       "2    OnVariableChange SendRequest Update\n",
       "Name: concatenated_node_names, dtype: object"
      ]
     },
     "execution_count": 12,
     "metadata": {},
     "output_type": "execute_result"
    }
   ],
   "execution_count": 12
  },
  {
   "metadata": {
    "ExecuteTime": {
     "end_time": "2024-08-25T21:21:33.712343Z",
     "start_time": "2024-08-25T21:21:33.708977Z"
    }
   },
   "cell_type": "code",
   "source": [
    "sample_text = df['concatenated_node_names'][0]\n",
    "sample_tokens = tokenizer.encode(sample_text, truncation=True, max_length=tokenizer.model_max_length)\n",
    "print('Sample text: ', sample_text)\n",
    "print(\"Tokens: \", sample_tokens)\n",
    "for token in sample_tokens:\n",
    "    print(f'\\tToken:  {tokenizer.decode(token)} = {token}')"
   ],
   "id": "ab2771ba45a4ed1c",
   "outputs": [
    {
     "name": "stdout",
     "output_type": "stream",
     "text": [
      "Sample text:  OnVariableChange Alert Log\n",
      "Tokens:  [461, 553, 1665, 179, 3541, 3280, 23951, 7736, 1]\n",
      "\tToken:  On = 461\n",
      "\tToken:  V = 553\n",
      "\tToken:  ari = 1665\n",
      "\tToken:  able = 179\n",
      "\tToken:  Ch = 3541\n",
      "\tToken:  ange = 3280\n",
      "\tToken:  Alert = 23951\n",
      "\tToken:  Log = 7736\n",
      "\tToken:  </s> = 1\n"
     ]
    }
   ],
   "execution_count": 13
  },
  {
   "metadata": {},
   "cell_type": "markdown",
   "source": "### Split data",
   "id": "e8bc0f210c53260f"
  },
  {
   "metadata": {
    "ExecuteTime": {
     "end_time": "2024-08-25T21:21:33.799375Z",
     "start_time": "2024-08-25T21:21:33.783267Z"
    }
   },
   "cell_type": "code",
   "source": [
    "raw_datasets = Dataset.from_pandas(df).train_test_split(test_size=0.2, seed=42)\n",
    "raw_datasets"
   ],
   "id": "8ff3d1381e5da8e1",
   "outputs": [
    {
     "data": {
      "text/plain": [
       "DatasetDict({\n",
       "    train: Dataset({\n",
       "        features: ['Prompt', 'Sequence of Nodes', 'Nodes List', 'concatenated_node_names'],\n",
       "        num_rows: 244\n",
       "    })\n",
       "    test: Dataset({\n",
       "        features: ['Prompt', 'Sequence of Nodes', 'Nodes List', 'concatenated_node_names'],\n",
       "        num_rows: 62\n",
       "    })\n",
       "})"
      ]
     },
     "execution_count": 14,
     "metadata": {},
     "output_type": "execute_result"
    }
   ],
   "execution_count": 14
  },
  {
   "metadata": {
    "ExecuteTime": {
     "end_time": "2024-08-25T21:21:33.916623Z",
     "start_time": "2024-08-25T21:21:33.912852Z"
    }
   },
   "cell_type": "code",
   "source": "tokenizer.model_max_length",
   "id": "382b484a598f16e6",
   "outputs": [
    {
     "data": {
      "text/plain": [
       "512"
      ]
     },
     "execution_count": 15,
     "metadata": {},
     "output_type": "execute_result"
    }
   ],
   "execution_count": 15
  },
  {
   "metadata": {
    "ExecuteTime": {
     "end_time": "2024-08-25T21:21:34.108025Z",
     "start_time": "2024-08-25T21:21:34.062128Z"
    }
   },
   "cell_type": "code",
   "source": [
    "def tokenize_function(example):\n",
    "    example['input_ids'] = tokenizer(example['Prompt'], padding=True, truncation=True, return_tensors=\"pt\").input_ids\n",
    "    example['labels'] = tokenizer(example[\"concatenated_node_names\"], padding=True, truncation=True,\n",
    "                                  return_tensors=\"pt\").input_ids\n",
    "\n",
    "    return example\n",
    "\n",
    "\n",
    "tokenized_datasets = raw_datasets.map(tokenize_function, batched=True)\n",
    "tokenized_datasets = tokenized_datasets.remove_columns(\n",
    "    ['Prompt', 'Sequence of Nodes', 'Nodes List', 'concatenated_node_names'])\n",
    "tokenized_datasets"
   ],
   "id": "d7148ef34ebe903",
   "outputs": [
    {
     "data": {
      "text/plain": [
       "Map:   0%|          | 0/244 [00:00<?, ? examples/s]"
      ],
      "application/vnd.jupyter.widget-view+json": {
       "version_major": 2,
       "version_minor": 0,
       "model_id": "37856573cae44b5594a709ef824de0d5"
      }
     },
     "metadata": {},
     "output_type": "display_data"
    },
    {
     "data": {
      "text/plain": [
       "Map:   0%|          | 0/62 [00:00<?, ? examples/s]"
      ],
      "application/vnd.jupyter.widget-view+json": {
       "version_major": 2,
       "version_minor": 0,
       "model_id": "4053455a9d97469980d9ec8856c48970"
      }
     },
     "metadata": {},
     "output_type": "display_data"
    },
    {
     "data": {
      "text/plain": [
       "DatasetDict({\n",
       "    train: Dataset({\n",
       "        features: ['input_ids', 'labels'],\n",
       "        num_rows: 244\n",
       "    })\n",
       "    test: Dataset({\n",
       "        features: ['input_ids', 'labels'],\n",
       "        num_rows: 62\n",
       "    })\n",
       "})"
      ]
     },
     "execution_count": 16,
     "metadata": {},
     "output_type": "execute_result"
    }
   ],
   "execution_count": 16
  },
  {
   "metadata": {},
   "cell_type": "markdown",
   "source": "## Training/validation loops",
   "id": "307ff124eb86ede9"
  },
  {
   "metadata": {},
   "cell_type": "markdown",
   "source": "### Create a DataLoader classes",
   "id": "9171c7597a0837b6"
  },
  {
   "metadata": {
    "ExecuteTime": {
     "end_time": "2024-08-25T21:21:34.275565Z",
     "start_time": "2024-08-25T21:21:34.269639Z"
    }
   },
   "cell_type": "code",
   "source": [
    "set_seed(42)\n",
    "data_collator = DataCollatorForSeq2Seq(tokenizer=tokenizer, model=original_model, padding='longest',\n",
    "                                       return_tensors=\"pt\")\n",
    "train_dataloader = DataLoader(\n",
    "    tokenized_datasets[\"train\"], shuffle=True, batch_size=1, collate_fn=data_collator\n",
    "    # higher batch size did not show good result!\n",
    ")\n",
    "eval_dataloader = DataLoader(\n",
    "    tokenized_datasets[\"test\"], shuffle=False, batch_size=64, collate_fn=data_collator\n",
    ")"
   ],
   "id": "ae226dd27034d35",
   "outputs": [],
   "execution_count": 17
  },
  {
   "metadata": {
    "ExecuteTime": {
     "end_time": "2024-08-25T21:21:34.430944Z",
     "start_time": "2024-08-25T21:21:34.425455Z"
    }
   },
   "cell_type": "code",
   "source": [
    "for batch in eval_dataloader:\n",
    "    break\n",
    "{k: v.shape for k, v in batch.items()}"
   ],
   "id": "e38270018effc079",
   "outputs": [
    {
     "data": {
      "text/plain": [
       "{'input_ids': torch.Size([62, 34]),\n",
       " 'attention_mask': torch.Size([62, 34]),\n",
       " 'labels': torch.Size([62, 18]),\n",
       " 'decoder_input_ids': torch.Size([62, 18])}"
      ]
     },
     "execution_count": 18,
     "metadata": {},
     "output_type": "execute_result"
    }
   ],
   "execution_count": 18
  },
  {
   "metadata": {
    "ExecuteTime": {
     "end_time": "2024-08-25T21:21:34.662393Z",
     "start_time": "2024-08-25T21:21:34.658440Z"
    }
   },
   "cell_type": "code",
   "source": "batch['labels']",
   "id": "6399484a5918a1c6",
   "outputs": [
    {
     "data": {
      "text/plain": [
       "tensor([[  461,   329,  1162,  ...,     0,     0,     0],\n",
       "        [  461,   329,  1162,  ...,   221,     1,     0],\n",
       "        [  461, 13368,    52,  ...,     0,     0,     0],\n",
       "        ...,\n",
       "        [ 6130, 20367,   377,  ...,     0,     0,     0],\n",
       "        [ 3111,  7736,     1,  ...,     0,     0,     0],\n",
       "        [  374,  5595,  3111,  ...,     0,     0,     0]])"
      ]
     },
     "execution_count": 19,
     "metadata": {},
     "output_type": "execute_result"
    }
   ],
   "execution_count": 19
  },
  {
   "metadata": {
    "ExecuteTime": {
     "end_time": "2024-08-25T21:21:34.982076Z",
     "start_time": "2024-08-25T21:21:34.976298Z"
    }
   },
   "cell_type": "code",
   "source": "batch['decoder_input_ids']",
   "id": "53fa970ab456638f",
   "outputs": [
    {
     "data": {
      "text/plain": [
       "tensor([[    0,   461,   329,  ...,     0,     0,     0],\n",
       "        [    0,   461,   329,  ...,  2018,   221,     1],\n",
       "        [    0,   461, 13368,  ...,     0,     0,     0],\n",
       "        ...,\n",
       "        [    0,  6130, 20367,  ...,     0,     0,     0],\n",
       "        [    0,  3111,  7736,  ...,     0,     0,     0],\n",
       "        [    0,   374,  5595,  ...,     0,     0,     0]])"
      ]
     },
     "execution_count": 20,
     "metadata": {},
     "output_type": "execute_result"
    }
   ],
   "execution_count": 20
  },
  {
   "metadata": {
    "ExecuteTime": {
     "end_time": "2024-08-25T21:22:18.003900Z",
     "start_time": "2024-08-25T21:21:35.207148Z"
    }
   },
   "cell_type": "code",
   "source": [
    "with torch.no_grad():\n",
    "    outputs = original_model(**batch)\n",
    "    print(outputs.loss, outputs.logits.shape)"
   ],
   "id": "40926b72439b6fb3",
   "outputs": [
    {
     "name": "stdout",
     "output_type": "stream",
     "text": [
      "tensor(30.3750, dtype=torch.bfloat16) torch.Size([62, 18, 32128])\n"
     ]
    }
   ],
   "execution_count": 21
  },
  {
   "metadata": {
    "ExecuteTime": {
     "end_time": "2024-08-25T21:22:18.059276Z",
     "start_time": "2024-08-25T21:22:18.054712Z"
    }
   },
   "cell_type": "code",
   "source": "tokenizer.decode(batch['input_ids'][0], skip_special_tokens=False)",
   "id": "916c2d9f80693a90",
   "outputs": [
    {
     "data": {
      "text/plain": [
       "'Highlight a text box when the mouse enters and display a tooltip.</s><pad><pad><pad><pad><pad><pad><pad><pad><pad><pad><pad><pad><pad><pad><pad><pad>'"
      ]
     },
     "execution_count": 22,
     "metadata": {},
     "output_type": "execute_result"
    }
   ],
   "execution_count": 22
  },
  {
   "metadata": {
    "ExecuteTime": {
     "end_time": "2024-08-25T21:22:18.368769Z",
     "start_time": "2024-08-25T21:22:18.364544Z"
    }
   },
   "cell_type": "code",
   "source": "tokenizer.decode(batch['labels'][0], skip_special_tokens=False)",
   "id": "34e663219584279a",
   "outputs": [
    {
     "data": {
      "text/plain": [
       "'OnMouseEnter Highlight Tooltip</s><pad><pad><pad><pad><pad><pad><pad><pad>'"
      ]
     },
     "execution_count": 23,
     "metadata": {},
     "output_type": "execute_result"
    }
   ],
   "execution_count": 23
  },
  {
   "metadata": {},
   "cell_type": "markdown",
   "source": "### Create PEFT model",
   "id": "2b87e840599e4d98"
  },
  {
   "metadata": {
    "ExecuteTime": {
     "end_time": "2024-08-25T21:22:18.668588Z",
     "start_time": "2024-08-25T21:22:18.666441Z"
    }
   },
   "cell_type": "code",
   "source": "# !pip install peft==0.3.0 --quiet",
   "id": "f3006a35092cf4dd",
   "outputs": [],
   "execution_count": 24
  },
  {
   "metadata": {
    "ExecuteTime": {
     "end_time": "2024-08-25T21:22:19.012394Z",
     "start_time": "2024-08-25T21:22:19.008558Z"
    }
   },
   "cell_type": "code",
   "source": [
    "def print_number_of_trainable_model_parameters(model):\n",
    "    trainable_model_params = 0\n",
    "    all_model_params = 0\n",
    "    for _, param in model.named_parameters():\n",
    "        all_model_params += param.numel()\n",
    "        if param.requires_grad:\n",
    "            trainable_model_params += param.numel()\n",
    "    return f\"trainable model parameters: {trainable_model_params}\\nall model parameters: {all_model_params}\\npercentage of trainable model parameters: {100 * trainable_model_params / all_model_params:.2f}%\"\n",
    "\n",
    "\n",
    "print(print_number_of_trainable_model_parameters(original_model))"
   ],
   "id": "a27066b08a213d6f",
   "outputs": [
    {
     "name": "stdout",
     "output_type": "stream",
     "text": [
      "trainable model parameters: 76961152\n",
      "all model parameters: 76961152\n",
      "percentage of trainable model parameters: 100.00%\n"
     ]
    }
   ],
   "execution_count": 25
  },
  {
   "metadata": {
    "ExecuteTime": {
     "end_time": "2024-08-25T21:22:19.428405Z",
     "start_time": "2024-08-25T21:22:19.425363Z"
    }
   },
   "cell_type": "code",
   "source": [
    "lora_config = LoraConfig(\n",
    "    r=32,  # Rank\n",
    "    lora_alpha=32,\n",
    "    target_modules=[\"q\", \"v\"],\n",
    "    lora_dropout=0.05,\n",
    "    bias=\"none\",\n",
    "    task_type=TaskType.SEQ_2_SEQ_LM  # FLAN-T5\n",
    ")"
   ],
   "id": "5a25e59699dfefa",
   "outputs": [],
   "execution_count": 26
  },
  {
   "metadata": {
    "ExecuteTime": {
     "end_time": "2024-08-25T21:22:19.753416Z",
     "start_time": "2024-08-25T21:22:19.749410Z"
    }
   },
   "cell_type": "code",
   "source": "lora_config.inference_mode",
   "id": "804d38d30f77799f",
   "outputs": [
    {
     "data": {
      "text/plain": [
       "False"
      ]
     },
     "execution_count": 27,
     "metadata": {},
     "output_type": "execute_result"
    }
   ],
   "execution_count": 27
  },
  {
   "metadata": {
    "ExecuteTime": {
     "end_time": "2024-08-25T21:22:20.156893Z",
     "start_time": "2024-08-25T21:22:20.069290Z"
    }
   },
   "cell_type": "code",
   "source": [
    "peft_model = get_peft_model(original_model,\n",
    "                            lora_config)"
   ],
   "id": "6f2e704fa2a653b9",
   "outputs": [],
   "execution_count": 28
  },
  {
   "metadata": {
    "ExecuteTime": {
     "end_time": "2024-08-25T21:22:20.560203Z",
     "start_time": "2024-08-25T21:22:20.555544Z"
    }
   },
   "cell_type": "code",
   "source": "print(print_number_of_trainable_model_parameters(peft_model))",
   "id": "b645d9a8d543c729",
   "outputs": [
    {
     "name": "stdout",
     "output_type": "stream",
     "text": [
      "trainable model parameters: 1376256\n",
      "all model parameters: 78337408\n",
      "percentage of trainable model parameters: 1.76%\n"
     ]
    }
   ],
   "execution_count": 29
  },
  {
   "metadata": {
    "ExecuteTime": {
     "end_time": "2024-08-25T21:22:21.098445Z",
     "start_time": "2024-08-25T21:22:20.958514Z"
    }
   },
   "cell_type": "code",
   "source": "peft_model.to(device);",
   "id": "ddd5d1c4b0a252d7",
   "outputs": [],
   "execution_count": 30
  },
  {
   "metadata": {},
   "cell_type": "markdown",
   "source": "### Create custom training loop",
   "id": "3549f05931ddf713"
  },
  {
   "metadata": {
    "ExecuteTime": {
     "end_time": "2024-08-25T21:22:21.420530Z",
     "start_time": "2024-08-25T21:22:21.416123Z"
    }
   },
   "cell_type": "code",
   "source": "raw_datasets",
   "id": "22afc7dccb5ba9ff",
   "outputs": [
    {
     "data": {
      "text/plain": [
       "DatasetDict({\n",
       "    train: Dataset({\n",
       "        features: ['Prompt', 'Sequence of Nodes', 'Nodes List', 'concatenated_node_names'],\n",
       "        num_rows: 244\n",
       "    })\n",
       "    test: Dataset({\n",
       "        features: ['Prompt', 'Sequence of Nodes', 'Nodes List', 'concatenated_node_names'],\n",
       "        num_rows: 62\n",
       "    })\n",
       "})"
      ]
     },
     "execution_count": 31,
     "metadata": {},
     "output_type": "execute_result"
    }
   ],
   "execution_count": 31
  },
  {
   "metadata": {
    "ExecuteTime": {
     "end_time": "2024-08-25T21:22:30.960694Z",
     "start_time": "2024-08-25T21:22:21.746837Z"
    }
   },
   "cell_type": "code",
   "source": [
    "@torch.no_grad()\n",
    "def generate_text(model, split, dataset):\n",
    "    set_seed(42)\n",
    "    gt_labels = []\n",
    "    model_generated = []\n",
    "    for i in tqdm(range(len(dataset[split]))):\n",
    "        input_text = pd.DataFrame(dataset[split])['Prompt'][i]\n",
    "        # Tokenize input\n",
    "        input_ids = tokenizer.encode(input_text, return_tensors='pt')\n",
    "        output = model.generate(input_ids=input_ids.to(device),\n",
    "                                do_sample=True,\n",
    "                                max_new_tokens=30,\n",
    "                                pad_token_id=tokenizer.pad_token_id,\n",
    "                                eos_token_id=tokenizer.eos_token_id,\n",
    "                                top_k=20,\n",
    "                                top_p=0.95,\n",
    "                                )\n",
    "\n",
    "        # Decode the output\n",
    "        decoded_output = tokenizer.decode(output[0], skip_special_tokens=True)\n",
    "        model_generated.append(decoded_output)\n",
    "\n",
    "        gt_label = ' '.join(pd.DataFrame(dataset[split])['Nodes List'][i])\n",
    "        gt_labels.append(gt_label)\n",
    "    return model_generated, gt_labels\n",
    "\n",
    "\n",
    "rouge = evaluate.load('rouge')\n",
    "\n",
    "\n",
    "def compute_rouge(model, split, dataset):\n",
    "    model.eval()\n",
    "    model_generated, gt_labels = generate_text(model=model, split=split, dataset=dataset)\n",
    "    results = rouge.compute(predictions=model_generated,\n",
    "                            references=gt_labels,\n",
    "                            use_aggregator=True,\n",
    "                            use_stemmer=True,\n",
    "                            )\n",
    "    return results\n",
    "\n",
    "\n",
    "compute_rouge(model=peft_model, split='test', dataset=raw_datasets)"
   ],
   "id": "a6215ae4fc1a2d40",
   "outputs": [
    {
     "data": {
      "text/plain": [
       "  0%|          | 0/62 [00:00<?, ?it/s]"
      ],
      "application/vnd.jupyter.widget-view+json": {
       "version_major": 2,
       "version_minor": 0,
       "model_id": "73c2b317626748788b6841c9a4e49418"
      }
     },
     "metadata": {},
     "output_type": "display_data"
    },
    {
     "data": {
      "text/plain": [
       "{'rouge1': 0.07961064388171649,\n",
       " 'rouge2': 0.0,\n",
       " 'rougeL': 0.07997793405351081,\n",
       " 'rougeLsum': 0.0807275359021839}"
      ]
     },
     "execution_count": 32,
     "metadata": {},
     "output_type": "execute_result"
    }
   ],
   "execution_count": 32
  },
  {
   "metadata": {
    "ExecuteTime": {
     "end_time": "2024-08-25T21:22:31.671959Z",
     "start_time": "2024-08-25T21:22:31.665201Z"
    }
   },
   "cell_type": "code",
   "source": [
    "def configure_optimizers(model, weight_decay, learning_rate, device_type):\n",
    "    # start with all of the candidate parameters (that require grad)\n",
    "    param_dict = {pn: p for pn, p in model.named_parameters()}\n",
    "    param_dict = {pn: p for pn, p in param_dict.items() if p.requires_grad}\n",
    "    # create optim groups. Any parameters that is 2D will be weight decayed, otherwise no.\n",
    "    # i.e. all weight tensors in matmuls + embeddings decay, all biases and layernorms don't.\n",
    "    decay_params = [p for n, p in param_dict.items() if p.dim() >= 2]\n",
    "    nodecay_params = [p for n, p in param_dict.items() if p.dim() < 2]\n",
    "    optim_groups = [\n",
    "        {'params': decay_params, 'weight_decay': weight_decay},\n",
    "        {'params': nodecay_params, 'weight_decay': 0.0}\n",
    "    ]\n",
    "    num_decay_params = sum(p.numel() for p in decay_params)\n",
    "    num_nodecay_params = sum(p.numel() for p in nodecay_params)\n",
    "    print(f\"num decayed parameter tensors: {len(decay_params)}, with {num_decay_params:,} parameters\")\n",
    "    print(f\"num non-decayed parameter tensors: {len(nodecay_params)}, with {num_nodecay_params:,} parameters\")\n",
    "    # Create AdamW optimizer and use the fused version if it is available\n",
    "    fused_available = 'fused' in inspect.signature(torch.optim.AdamW).parameters\n",
    "    use_fused = fused_available and device_type == \"cuda\"\n",
    "    optimizer = torch.optim.AdamW(optim_groups, lr=learning_rate, betas=(0.9, 0.95), eps=1e-8, fused=use_fused)\n",
    "    return optimizer\n",
    "\n",
    "\n",
    "optimizer = configure_optimizers(model=peft_model, weight_decay=0.1, learning_rate=1e-3, device_type=device)"
   ],
   "id": "46c413c682045c4d",
   "outputs": [
    {
     "name": "stdout",
     "output_type": "stream",
     "text": [
      "num decayed parameter tensors: 96, with 1,376,256 parameters\n",
      "num non-decayed parameter tensors: 0, with 0 parameters\n"
     ]
    }
   ],
   "execution_count": 33
  },
  {
   "metadata": {
    "ExecuteTime": {
     "end_time": "2024-08-25T21:22:31.693243Z",
     "start_time": "2024-08-25T21:22:31.685306Z"
    }
   },
   "cell_type": "code",
   "source": [
    "best_val_rouge1 = -1\n",
    "\n",
    "\n",
    "def train_loop(model, num_epochs, eval_every_epoch=2):\n",
    "    global best_val_rouge1\n",
    "    model.train()\n",
    "    train_loss_list = []\n",
    "    for epoch in range(num_epochs):\n",
    "        print('Epoch: ', epoch)\n",
    "        for batch in tqdm(train_dataloader):\n",
    "            batch = {k: v.to(device) for k, v in batch.items()}\n",
    "            optimizer.zero_grad()\n",
    "            with torch.autocast(device_type='cuda', dtype=torch.bfloat16):\n",
    "                outputs = model(**batch)\n",
    "            loss = outputs.loss\n",
    "            loss.backward()\n",
    "            torch.nn.utils.clip_grad_norm_(model.parameters(), 1)  # clip grads\n",
    "            optimizer.step()\n",
    "            train_loss_list.append(loss.item())\n",
    "        train_loss = np.mean(train_loss_list)\n",
    "        print(f'Epoch {epoch} train loss: {round(train_loss, 4)}')\n",
    "        train_loss_list = []\n",
    "        if epoch % eval_every_epoch and epoch > 0:\n",
    "            print('\\tEval...')\n",
    "            rouge1 = compute_rouge(model=model, split='test', dataset=raw_datasets)['rouge1']\n",
    "            model.train()\n",
    "            print('\\tEvaluation rouge1 score:', round(rouge1, 5), end=' <> ')\n",
    "            if rouge1 > best_val_rouge1:\n",
    "                best_val_rouge1 = rouge1\n",
    "                peft_model_path = 't5_adapter_ckpt'\n",
    "                model.save_pretrained(peft_model_path)\n",
    "                # torch.save(model, 't5_best_val_rouge1_model.pt')\n",
    "            print('Best val rouge1 up to now: ', round(best_val_rouge1, 5))"
   ],
   "id": "cf60456593598ea1",
   "outputs": [],
   "execution_count": 34
  },
  {
   "metadata": {
    "ExecuteTime": {
     "end_time": "2024-08-25T21:32:33.295734Z",
     "start_time": "2024-08-25T21:22:32.105116Z"
    }
   },
   "cell_type": "code",
   "source": "train_loop(model=peft_model, num_epochs=50)",
   "id": "68a82e7ec227b365",
   "outputs": [
    {
     "name": "stdout",
     "output_type": "stream",
     "text": [
      "Epoch:  0\n"
     ]
    },
    {
     "data": {
      "text/plain": [
       "  0%|          | 0/244 [00:00<?, ?it/s]"
      ],
      "application/vnd.jupyter.widget-view+json": {
       "version_major": 2,
       "version_minor": 0,
       "model_id": "cf14138fed9f4e0e9ca170887bb0c945"
      }
     },
     "metadata": {},
     "output_type": "display_data"
    },
    {
     "name": "stdout",
     "output_type": "stream",
     "text": [
      "Epoch 0 train loss: 6.7894\n",
      "Epoch:  1\n"
     ]
    },
    {
     "data": {
      "text/plain": [
       "  0%|          | 0/244 [00:00<?, ?it/s]"
      ],
      "application/vnd.jupyter.widget-view+json": {
       "version_major": 2,
       "version_minor": 0,
       "model_id": "dc891bdab3e54f7f85f55425deb9748c"
      }
     },
     "metadata": {},
     "output_type": "display_data"
    },
    {
     "name": "stdout",
     "output_type": "stream",
     "text": [
      "Epoch 1 train loss: 2.5681\n",
      "\tEval...\n"
     ]
    },
    {
     "data": {
      "text/plain": [
       "  0%|          | 0/62 [00:00<?, ?it/s]"
      ],
      "application/vnd.jupyter.widget-view+json": {
       "version_major": 2,
       "version_minor": 0,
       "model_id": "28b798043a7a417d86f70cb57cf2d26f"
      }
     },
     "metadata": {},
     "output_type": "display_data"
    },
    {
     "name": "stdout",
     "output_type": "stream",
     "text": [
      "\tEvaluation rouge1 score: 0.51396 <> Best val rouge1 up to now:  0.51396\n",
      "Epoch:  2\n"
     ]
    },
    {
     "data": {
      "text/plain": [
       "  0%|          | 0/244 [00:00<?, ?it/s]"
      ],
      "application/vnd.jupyter.widget-view+json": {
       "version_major": 2,
       "version_minor": 0,
       "model_id": "7e286a8c628948508f3f0c19498f9ed1"
      }
     },
     "metadata": {},
     "output_type": "display_data"
    },
    {
     "name": "stdout",
     "output_type": "stream",
     "text": [
      "Epoch 2 train loss: 2.0901\n",
      "Epoch:  3\n"
     ]
    },
    {
     "data": {
      "text/plain": [
       "  0%|          | 0/244 [00:00<?, ?it/s]"
      ],
      "application/vnd.jupyter.widget-view+json": {
       "version_major": 2,
       "version_minor": 0,
       "model_id": "efc3a89e29a94c12bc3648b32a7e8fcd"
      }
     },
     "metadata": {},
     "output_type": "display_data"
    },
    {
     "name": "stdout",
     "output_type": "stream",
     "text": [
      "Epoch 3 train loss: 1.8873\n",
      "\tEval...\n"
     ]
    },
    {
     "data": {
      "text/plain": [
       "  0%|          | 0/62 [00:00<?, ?it/s]"
      ],
      "application/vnd.jupyter.widget-view+json": {
       "version_major": 2,
       "version_minor": 0,
       "model_id": "8750526a78744cf8a6c928dd6e8055cd"
      }
     },
     "metadata": {},
     "output_type": "display_data"
    },
    {
     "name": "stdout",
     "output_type": "stream",
     "text": [
      "\tEvaluation rouge1 score: 0.66359 <> Best val rouge1 up to now:  0.66359\n",
      "Epoch:  4\n"
     ]
    },
    {
     "data": {
      "text/plain": [
       "  0%|          | 0/244 [00:00<?, ?it/s]"
      ],
      "application/vnd.jupyter.widget-view+json": {
       "version_major": 2,
       "version_minor": 0,
       "model_id": "31bbeb61680f4863bc2aafc16929c63d"
      }
     },
     "metadata": {},
     "output_type": "display_data"
    },
    {
     "name": "stdout",
     "output_type": "stream",
     "text": [
      "Epoch 4 train loss: 1.7639\n",
      "Epoch:  5\n"
     ]
    },
    {
     "data": {
      "text/plain": [
       "  0%|          | 0/244 [00:00<?, ?it/s]"
      ],
      "application/vnd.jupyter.widget-view+json": {
       "version_major": 2,
       "version_minor": 0,
       "model_id": "06e2d01b72594b33aef2859b6e3b7476"
      }
     },
     "metadata": {},
     "output_type": "display_data"
    },
    {
     "name": "stdout",
     "output_type": "stream",
     "text": [
      "Epoch 5 train loss: 1.6757\n",
      "\tEval...\n"
     ]
    },
    {
     "data": {
      "text/plain": [
       "  0%|          | 0/62 [00:00<?, ?it/s]"
      ],
      "application/vnd.jupyter.widget-view+json": {
       "version_major": 2,
       "version_minor": 0,
       "model_id": "971bc07f040b446ba7387adee2ff83b1"
      }
     },
     "metadata": {},
     "output_type": "display_data"
    },
    {
     "name": "stdout",
     "output_type": "stream",
     "text": [
      "\tEvaluation rouge1 score: 0.63776 <> Best val rouge1 up to now:  0.66359\n",
      "Epoch:  6\n"
     ]
    },
    {
     "data": {
      "text/plain": [
       "  0%|          | 0/244 [00:00<?, ?it/s]"
      ],
      "application/vnd.jupyter.widget-view+json": {
       "version_major": 2,
       "version_minor": 0,
       "model_id": "aa21a340197f451b87a1a722480a803a"
      }
     },
     "metadata": {},
     "output_type": "display_data"
    },
    {
     "name": "stdout",
     "output_type": "stream",
     "text": [
      "Epoch 6 train loss: 1.5642\n",
      "Epoch:  7\n"
     ]
    },
    {
     "data": {
      "text/plain": [
       "  0%|          | 0/244 [00:00<?, ?it/s]"
      ],
      "application/vnd.jupyter.widget-view+json": {
       "version_major": 2,
       "version_minor": 0,
       "model_id": "386c285df77642e2aa4703a68b6ad296"
      }
     },
     "metadata": {},
     "output_type": "display_data"
    },
    {
     "name": "stdout",
     "output_type": "stream",
     "text": [
      "Epoch 7 train loss: 1.5543\n",
      "\tEval...\n"
     ]
    },
    {
     "data": {
      "text/plain": [
       "  0%|          | 0/62 [00:00<?, ?it/s]"
      ],
      "application/vnd.jupyter.widget-view+json": {
       "version_major": 2,
       "version_minor": 0,
       "model_id": "df4057de9c5246b6ac786063dc70f9c5"
      }
     },
     "metadata": {},
     "output_type": "display_data"
    },
    {
     "name": "stdout",
     "output_type": "stream",
     "text": [
      "\tEvaluation rouge1 score: 0.7413 <> Best val rouge1 up to now:  0.7413\n",
      "Epoch:  8\n"
     ]
    },
    {
     "data": {
      "text/plain": [
       "  0%|          | 0/244 [00:00<?, ?it/s]"
      ],
      "application/vnd.jupyter.widget-view+json": {
       "version_major": 2,
       "version_minor": 0,
       "model_id": "e7003e3103d8410280f44e74a086929d"
      }
     },
     "metadata": {},
     "output_type": "display_data"
    },
    {
     "name": "stdout",
     "output_type": "stream",
     "text": [
      "Epoch 8 train loss: 1.4933\n",
      "Epoch:  9\n"
     ]
    },
    {
     "data": {
      "text/plain": [
       "  0%|          | 0/244 [00:00<?, ?it/s]"
      ],
      "application/vnd.jupyter.widget-view+json": {
       "version_major": 2,
       "version_minor": 0,
       "model_id": "e4a8d7ae15c54711a9a10df6560e7402"
      }
     },
     "metadata": {},
     "output_type": "display_data"
    },
    {
     "name": "stdout",
     "output_type": "stream",
     "text": [
      "Epoch 9 train loss: 1.4897\n",
      "\tEval...\n"
     ]
    },
    {
     "data": {
      "text/plain": [
       "  0%|          | 0/62 [00:00<?, ?it/s]"
      ],
      "application/vnd.jupyter.widget-view+json": {
       "version_major": 2,
       "version_minor": 0,
       "model_id": "64bebede693a4a758a9f0ca90be189c8"
      }
     },
     "metadata": {},
     "output_type": "display_data"
    },
    {
     "name": "stdout",
     "output_type": "stream",
     "text": [
      "\tEvaluation rouge1 score: 0.75906 <> Best val rouge1 up to now:  0.75906\n",
      "Epoch:  10\n"
     ]
    },
    {
     "data": {
      "text/plain": [
       "  0%|          | 0/244 [00:00<?, ?it/s]"
      ],
      "application/vnd.jupyter.widget-view+json": {
       "version_major": 2,
       "version_minor": 0,
       "model_id": "099bc3d980ab4bf684786e74812b8ec7"
      }
     },
     "metadata": {},
     "output_type": "display_data"
    },
    {
     "name": "stdout",
     "output_type": "stream",
     "text": [
      "Epoch 10 train loss: 1.4106\n",
      "Epoch:  11\n"
     ]
    },
    {
     "data": {
      "text/plain": [
       "  0%|          | 0/244 [00:00<?, ?it/s]"
      ],
      "application/vnd.jupyter.widget-view+json": {
       "version_major": 2,
       "version_minor": 0,
       "model_id": "253d064bbd364c12b1f5bb1a54099c3a"
      }
     },
     "metadata": {},
     "output_type": "display_data"
    },
    {
     "name": "stdout",
     "output_type": "stream",
     "text": [
      "Epoch 11 train loss: 1.3953\n",
      "\tEval...\n"
     ]
    },
    {
     "data": {
      "text/plain": [
       "  0%|          | 0/62 [00:00<?, ?it/s]"
      ],
      "application/vnd.jupyter.widget-view+json": {
       "version_major": 2,
       "version_minor": 0,
       "model_id": "f23c40d3c9ee417fa23fc730d895543d"
      }
     },
     "metadata": {},
     "output_type": "display_data"
    },
    {
     "name": "stdout",
     "output_type": "stream",
     "text": [
      "\tEvaluation rouge1 score: 0.8187 <> Best val rouge1 up to now:  0.8187\n",
      "Epoch:  12\n"
     ]
    },
    {
     "data": {
      "text/plain": [
       "  0%|          | 0/244 [00:00<?, ?it/s]"
      ],
      "application/vnd.jupyter.widget-view+json": {
       "version_major": 2,
       "version_minor": 0,
       "model_id": "dfa6885396ae493c8a3fb81680d4fe7c"
      }
     },
     "metadata": {},
     "output_type": "display_data"
    },
    {
     "name": "stdout",
     "output_type": "stream",
     "text": [
      "Epoch 12 train loss: 1.428\n",
      "Epoch:  13\n"
     ]
    },
    {
     "data": {
      "text/plain": [
       "  0%|          | 0/244 [00:00<?, ?it/s]"
      ],
      "application/vnd.jupyter.widget-view+json": {
       "version_major": 2,
       "version_minor": 0,
       "model_id": "d1908264f99f44058f5a9462a358ee5c"
      }
     },
     "metadata": {},
     "output_type": "display_data"
    },
    {
     "name": "stdout",
     "output_type": "stream",
     "text": [
      "Epoch 13 train loss: 1.4267\n",
      "\tEval...\n"
     ]
    },
    {
     "data": {
      "text/plain": [
       "  0%|          | 0/62 [00:00<?, ?it/s]"
      ],
      "application/vnd.jupyter.widget-view+json": {
       "version_major": 2,
       "version_minor": 0,
       "model_id": "e1907bf3c4584671ac1b6ac81837dcb9"
      }
     },
     "metadata": {},
     "output_type": "display_data"
    },
    {
     "name": "stdout",
     "output_type": "stream",
     "text": [
      "\tEvaluation rouge1 score: 0.79052 <> Best val rouge1 up to now:  0.8187\n",
      "Epoch:  14\n"
     ]
    },
    {
     "data": {
      "text/plain": [
       "  0%|          | 0/244 [00:00<?, ?it/s]"
      ],
      "application/vnd.jupyter.widget-view+json": {
       "version_major": 2,
       "version_minor": 0,
       "model_id": "d3290596ee00489b965f577772318fbf"
      }
     },
     "metadata": {},
     "output_type": "display_data"
    },
    {
     "name": "stdout",
     "output_type": "stream",
     "text": [
      "Epoch 14 train loss: 1.3855\n",
      "Epoch:  15\n"
     ]
    },
    {
     "data": {
      "text/plain": [
       "  0%|          | 0/244 [00:00<?, ?it/s]"
      ],
      "application/vnd.jupyter.widget-view+json": {
       "version_major": 2,
       "version_minor": 0,
       "model_id": "38deafc1f8464e989bc347e41ad5cd6f"
      }
     },
     "metadata": {},
     "output_type": "display_data"
    },
    {
     "name": "stdout",
     "output_type": "stream",
     "text": [
      "Epoch 15 train loss: 1.3813\n",
      "\tEval...\n"
     ]
    },
    {
     "data": {
      "text/plain": [
       "  0%|          | 0/62 [00:00<?, ?it/s]"
      ],
      "application/vnd.jupyter.widget-view+json": {
       "version_major": 2,
       "version_minor": 0,
       "model_id": "8139f4f5e1704bd1813a6556e706f4a4"
      }
     },
     "metadata": {},
     "output_type": "display_data"
    },
    {
     "name": "stdout",
     "output_type": "stream",
     "text": [
      "\tEvaluation rouge1 score: 0.79033 <> Best val rouge1 up to now:  0.8187\n",
      "Epoch:  16\n"
     ]
    },
    {
     "data": {
      "text/plain": [
       "  0%|          | 0/244 [00:00<?, ?it/s]"
      ],
      "application/vnd.jupyter.widget-view+json": {
       "version_major": 2,
       "version_minor": 0,
       "model_id": "edc1edfc54b44e909d1b63fce0edb973"
      }
     },
     "metadata": {},
     "output_type": "display_data"
    },
    {
     "name": "stdout",
     "output_type": "stream",
     "text": [
      "Epoch 16 train loss: 1.3737\n",
      "Epoch:  17\n"
     ]
    },
    {
     "data": {
      "text/plain": [
       "  0%|          | 0/244 [00:00<?, ?it/s]"
      ],
      "application/vnd.jupyter.widget-view+json": {
       "version_major": 2,
       "version_minor": 0,
       "model_id": "43b7cdbc156344f284f2720d2fc79dbe"
      }
     },
     "metadata": {},
     "output_type": "display_data"
    },
    {
     "name": "stdout",
     "output_type": "stream",
     "text": [
      "Epoch 17 train loss: 1.3592\n",
      "\tEval...\n"
     ]
    },
    {
     "data": {
      "text/plain": [
       "  0%|          | 0/62 [00:00<?, ?it/s]"
      ],
      "application/vnd.jupyter.widget-view+json": {
       "version_major": 2,
       "version_minor": 0,
       "model_id": "3eae733540a3427fb8e4d855211ed90e"
      }
     },
     "metadata": {},
     "output_type": "display_data"
    },
    {
     "name": "stdout",
     "output_type": "stream",
     "text": [
      "\tEvaluation rouge1 score: 0.79078 <> Best val rouge1 up to now:  0.8187\n",
      "Epoch:  18\n"
     ]
    },
    {
     "data": {
      "text/plain": [
       "  0%|          | 0/244 [00:00<?, ?it/s]"
      ],
      "application/vnd.jupyter.widget-view+json": {
       "version_major": 2,
       "version_minor": 0,
       "model_id": "da2e3e6ea8ad4db68a1110291b3f0804"
      }
     },
     "metadata": {},
     "output_type": "display_data"
    },
    {
     "name": "stdout",
     "output_type": "stream",
     "text": [
      "Epoch 18 train loss: 1.3428\n",
      "Epoch:  19\n"
     ]
    },
    {
     "data": {
      "text/plain": [
       "  0%|          | 0/244 [00:00<?, ?it/s]"
      ],
      "application/vnd.jupyter.widget-view+json": {
       "version_major": 2,
       "version_minor": 0,
       "model_id": "5b26974aac984b6ba9b9840d78d76706"
      }
     },
     "metadata": {},
     "output_type": "display_data"
    },
    {
     "name": "stdout",
     "output_type": "stream",
     "text": [
      "Epoch 19 train loss: 1.367\n",
      "\tEval...\n"
     ]
    },
    {
     "data": {
      "text/plain": [
       "  0%|          | 0/62 [00:00<?, ?it/s]"
      ],
      "application/vnd.jupyter.widget-view+json": {
       "version_major": 2,
       "version_minor": 0,
       "model_id": "af1c854185184e96ada5f3d52704c7b3"
      }
     },
     "metadata": {},
     "output_type": "display_data"
    },
    {
     "name": "stdout",
     "output_type": "stream",
     "text": [
      "\tEvaluation rouge1 score: 0.82817 <> Best val rouge1 up to now:  0.82817\n",
      "Epoch:  20\n"
     ]
    },
    {
     "data": {
      "text/plain": [
       "  0%|          | 0/244 [00:00<?, ?it/s]"
      ],
      "application/vnd.jupyter.widget-view+json": {
       "version_major": 2,
       "version_minor": 0,
       "model_id": "ef013fb70dac4c9194e6a5671de95798"
      }
     },
     "metadata": {},
     "output_type": "display_data"
    },
    {
     "name": "stdout",
     "output_type": "stream",
     "text": [
      "Epoch 20 train loss: 1.348\n",
      "Epoch:  21\n"
     ]
    },
    {
     "data": {
      "text/plain": [
       "  0%|          | 0/244 [00:00<?, ?it/s]"
      ],
      "application/vnd.jupyter.widget-view+json": {
       "version_major": 2,
       "version_minor": 0,
       "model_id": "c35dfa5ada534e01923ec41968caf557"
      }
     },
     "metadata": {},
     "output_type": "display_data"
    },
    {
     "name": "stdout",
     "output_type": "stream",
     "text": [
      "Epoch 21 train loss: 1.3239\n",
      "\tEval...\n"
     ]
    },
    {
     "data": {
      "text/plain": [
       "  0%|          | 0/62 [00:00<?, ?it/s]"
      ],
      "application/vnd.jupyter.widget-view+json": {
       "version_major": 2,
       "version_minor": 0,
       "model_id": "c32e1a8e62744675be6dc6f5bd9539cb"
      }
     },
     "metadata": {},
     "output_type": "display_data"
    },
    {
     "name": "stdout",
     "output_type": "stream",
     "text": [
      "\tEvaluation rouge1 score: 0.7865 <> Best val rouge1 up to now:  0.82817\n",
      "Epoch:  22\n"
     ]
    },
    {
     "data": {
      "text/plain": [
       "  0%|          | 0/244 [00:00<?, ?it/s]"
      ],
      "application/vnd.jupyter.widget-view+json": {
       "version_major": 2,
       "version_minor": 0,
       "model_id": "f8ec8291e9294166a08d2eb5ef6a6ac7"
      }
     },
     "metadata": {},
     "output_type": "display_data"
    },
    {
     "name": "stdout",
     "output_type": "stream",
     "text": [
      "Epoch 22 train loss: 1.3545\n",
      "Epoch:  23\n"
     ]
    },
    {
     "data": {
      "text/plain": [
       "  0%|          | 0/244 [00:00<?, ?it/s]"
      ],
      "application/vnd.jupyter.widget-view+json": {
       "version_major": 2,
       "version_minor": 0,
       "model_id": "b664cc463ed147349475b8c6f44bd57c"
      }
     },
     "metadata": {},
     "output_type": "display_data"
    },
    {
     "name": "stdout",
     "output_type": "stream",
     "text": [
      "Epoch 23 train loss: 1.3267\n",
      "\tEval...\n"
     ]
    },
    {
     "data": {
      "text/plain": [
       "  0%|          | 0/62 [00:00<?, ?it/s]"
      ],
      "application/vnd.jupyter.widget-view+json": {
       "version_major": 2,
       "version_minor": 0,
       "model_id": "c7155f4bf8374c92bfbe5a7e034e9b77"
      }
     },
     "metadata": {},
     "output_type": "display_data"
    },
    {
     "name": "stdout",
     "output_type": "stream",
     "text": [
      "\tEvaluation rouge1 score: 0.77654 <> Best val rouge1 up to now:  0.82817\n",
      "Epoch:  24\n"
     ]
    },
    {
     "data": {
      "text/plain": [
       "  0%|          | 0/244 [00:00<?, ?it/s]"
      ],
      "application/vnd.jupyter.widget-view+json": {
       "version_major": 2,
       "version_minor": 0,
       "model_id": "17fa054d01c7465f873f81363c616f75"
      }
     },
     "metadata": {},
     "output_type": "display_data"
    },
    {
     "name": "stdout",
     "output_type": "stream",
     "text": [
      "Epoch 24 train loss: 1.3459\n",
      "Epoch:  25\n"
     ]
    },
    {
     "data": {
      "text/plain": [
       "  0%|          | 0/244 [00:00<?, ?it/s]"
      ],
      "application/vnd.jupyter.widget-view+json": {
       "version_major": 2,
       "version_minor": 0,
       "model_id": "96af4b4a05434b0783a0b423dc518bec"
      }
     },
     "metadata": {},
     "output_type": "display_data"
    },
    {
     "name": "stdout",
     "output_type": "stream",
     "text": [
      "Epoch 25 train loss: 1.3615\n",
      "\tEval...\n"
     ]
    },
    {
     "data": {
      "text/plain": [
       "  0%|          | 0/62 [00:00<?, ?it/s]"
      ],
      "application/vnd.jupyter.widget-view+json": {
       "version_major": 2,
       "version_minor": 0,
       "model_id": "0330eb37fe2b4e6d9572556b0005840f"
      }
     },
     "metadata": {},
     "output_type": "display_data"
    },
    {
     "name": "stdout",
     "output_type": "stream",
     "text": [
      "\tEvaluation rouge1 score: 0.81284 <> Best val rouge1 up to now:  0.82817\n",
      "Epoch:  26\n"
     ]
    },
    {
     "data": {
      "text/plain": [
       "  0%|          | 0/244 [00:00<?, ?it/s]"
      ],
      "application/vnd.jupyter.widget-view+json": {
       "version_major": 2,
       "version_minor": 0,
       "model_id": "96df77ed6af6424099f70ca590d8f7ea"
      }
     },
     "metadata": {},
     "output_type": "display_data"
    },
    {
     "name": "stdout",
     "output_type": "stream",
     "text": [
      "Epoch 26 train loss: 1.3142\n",
      "Epoch:  27\n"
     ]
    },
    {
     "data": {
      "text/plain": [
       "  0%|          | 0/244 [00:00<?, ?it/s]"
      ],
      "application/vnd.jupyter.widget-view+json": {
       "version_major": 2,
       "version_minor": 0,
       "model_id": "e26aa9f802bd4e609a010cf1633c1b09"
      }
     },
     "metadata": {},
     "output_type": "display_data"
    },
    {
     "name": "stdout",
     "output_type": "stream",
     "text": [
      "Epoch 27 train loss: 1.3159\n",
      "\tEval...\n"
     ]
    },
    {
     "data": {
      "text/plain": [
       "  0%|          | 0/62 [00:00<?, ?it/s]"
      ],
      "application/vnd.jupyter.widget-view+json": {
       "version_major": 2,
       "version_minor": 0,
       "model_id": "16e2b2bf55e941d7b2591a71fa040540"
      }
     },
     "metadata": {},
     "output_type": "display_data"
    },
    {
     "name": "stdout",
     "output_type": "stream",
     "text": [
      "\tEvaluation rouge1 score: 0.84257 <> Best val rouge1 up to now:  0.84257\n",
      "Epoch:  28\n"
     ]
    },
    {
     "data": {
      "text/plain": [
       "  0%|          | 0/244 [00:00<?, ?it/s]"
      ],
      "application/vnd.jupyter.widget-view+json": {
       "version_major": 2,
       "version_minor": 0,
       "model_id": "25dbca8b44a34eaab3d61cd18e8db86c"
      }
     },
     "metadata": {},
     "output_type": "display_data"
    },
    {
     "name": "stdout",
     "output_type": "stream",
     "text": [
      "Epoch 28 train loss: 1.3444\n",
      "Epoch:  29\n"
     ]
    },
    {
     "data": {
      "text/plain": [
       "  0%|          | 0/244 [00:00<?, ?it/s]"
      ],
      "application/vnd.jupyter.widget-view+json": {
       "version_major": 2,
       "version_minor": 0,
       "model_id": "2b21cdd3c30f4ebb9618daa163890a38"
      }
     },
     "metadata": {},
     "output_type": "display_data"
    },
    {
     "name": "stdout",
     "output_type": "stream",
     "text": [
      "Epoch 29 train loss: 1.3304\n",
      "\tEval...\n"
     ]
    },
    {
     "data": {
      "text/plain": [
       "  0%|          | 0/62 [00:00<?, ?it/s]"
      ],
      "application/vnd.jupyter.widget-view+json": {
       "version_major": 2,
       "version_minor": 0,
       "model_id": "8de2a1959d1946a5a66433f1bfcc6477"
      }
     },
     "metadata": {},
     "output_type": "display_data"
    },
    {
     "name": "stdout",
     "output_type": "stream",
     "text": [
      "\tEvaluation rouge1 score: 0.85015 <> Best val rouge1 up to now:  0.85015\n",
      "Epoch:  30\n"
     ]
    },
    {
     "data": {
      "text/plain": [
       "  0%|          | 0/244 [00:00<?, ?it/s]"
      ],
      "application/vnd.jupyter.widget-view+json": {
       "version_major": 2,
       "version_minor": 0,
       "model_id": "b8002197a7ce44c480f2a2b726beff66"
      }
     },
     "metadata": {},
     "output_type": "display_data"
    },
    {
     "name": "stdout",
     "output_type": "stream",
     "text": [
      "Epoch 30 train loss: 1.3366\n",
      "Epoch:  31\n"
     ]
    },
    {
     "data": {
      "text/plain": [
       "  0%|          | 0/244 [00:00<?, ?it/s]"
      ],
      "application/vnd.jupyter.widget-view+json": {
       "version_major": 2,
       "version_minor": 0,
       "model_id": "1f5d185ce6ef4fd98aa26b26426a6e05"
      }
     },
     "metadata": {},
     "output_type": "display_data"
    },
    {
     "name": "stdout",
     "output_type": "stream",
     "text": [
      "Epoch 31 train loss: 1.3136\n",
      "\tEval...\n"
     ]
    },
    {
     "data": {
      "text/plain": [
       "  0%|          | 0/62 [00:00<?, ?it/s]"
      ],
      "application/vnd.jupyter.widget-view+json": {
       "version_major": 2,
       "version_minor": 0,
       "model_id": "72d52c8ccdcb4469be82c235cebec7c6"
      }
     },
     "metadata": {},
     "output_type": "display_data"
    },
    {
     "name": "stdout",
     "output_type": "stream",
     "text": [
      "\tEvaluation rouge1 score: 0.83802 <> Best val rouge1 up to now:  0.85015\n",
      "Epoch:  32\n"
     ]
    },
    {
     "data": {
      "text/plain": [
       "  0%|          | 0/244 [00:00<?, ?it/s]"
      ],
      "application/vnd.jupyter.widget-view+json": {
       "version_major": 2,
       "version_minor": 0,
       "model_id": "8d0f03669caa4ae1b5e258f1be4d2150"
      }
     },
     "metadata": {},
     "output_type": "display_data"
    },
    {
     "name": "stdout",
     "output_type": "stream",
     "text": [
      "Epoch 32 train loss: 1.2916\n",
      "Epoch:  33\n"
     ]
    },
    {
     "data": {
      "text/plain": [
       "  0%|          | 0/244 [00:00<?, ?it/s]"
      ],
      "application/vnd.jupyter.widget-view+json": {
       "version_major": 2,
       "version_minor": 0,
       "model_id": "87bfe56c10d748f38c45f1119800db59"
      }
     },
     "metadata": {},
     "output_type": "display_data"
    },
    {
     "name": "stdout",
     "output_type": "stream",
     "text": [
      "Epoch 33 train loss: 1.2853\n",
      "\tEval...\n"
     ]
    },
    {
     "data": {
      "text/plain": [
       "  0%|          | 0/62 [00:00<?, ?it/s]"
      ],
      "application/vnd.jupyter.widget-view+json": {
       "version_major": 2,
       "version_minor": 0,
       "model_id": "7a030b133a544899962a5f305036304e"
      }
     },
     "metadata": {},
     "output_type": "display_data"
    },
    {
     "name": "stdout",
     "output_type": "stream",
     "text": [
      "\tEvaluation rouge1 score: 0.861 <> Best val rouge1 up to now:  0.861\n",
      "Epoch:  34\n"
     ]
    },
    {
     "data": {
      "text/plain": [
       "  0%|          | 0/244 [00:00<?, ?it/s]"
      ],
      "application/vnd.jupyter.widget-view+json": {
       "version_major": 2,
       "version_minor": 0,
       "model_id": "66cb9647ed9444a8b90aaf53139cc58a"
      }
     },
     "metadata": {},
     "output_type": "display_data"
    },
    {
     "name": "stdout",
     "output_type": "stream",
     "text": [
      "Epoch 34 train loss: 1.2788\n",
      "Epoch:  35\n"
     ]
    },
    {
     "data": {
      "text/plain": [
       "  0%|          | 0/244 [00:00<?, ?it/s]"
      ],
      "application/vnd.jupyter.widget-view+json": {
       "version_major": 2,
       "version_minor": 0,
       "model_id": "2d10b528dc3b44728f45072163d03903"
      }
     },
     "metadata": {},
     "output_type": "display_data"
    },
    {
     "name": "stdout",
     "output_type": "stream",
     "text": [
      "Epoch 35 train loss: 1.263\n",
      "\tEval...\n"
     ]
    },
    {
     "data": {
      "text/plain": [
       "  0%|          | 0/62 [00:00<?, ?it/s]"
      ],
      "application/vnd.jupyter.widget-view+json": {
       "version_major": 2,
       "version_minor": 0,
       "model_id": "6a2d57674d5f4278aa96818d5fec16b7"
      }
     },
     "metadata": {},
     "output_type": "display_data"
    },
    {
     "name": "stdout",
     "output_type": "stream",
     "text": [
      "\tEvaluation rouge1 score: 0.82497 <> Best val rouge1 up to now:  0.861\n",
      "Epoch:  36\n"
     ]
    },
    {
     "data": {
      "text/plain": [
       "  0%|          | 0/244 [00:00<?, ?it/s]"
      ],
      "application/vnd.jupyter.widget-view+json": {
       "version_major": 2,
       "version_minor": 0,
       "model_id": "07dde6d56cde459ba3bde8af2d1d020a"
      }
     },
     "metadata": {},
     "output_type": "display_data"
    },
    {
     "name": "stdout",
     "output_type": "stream",
     "text": [
      "Epoch 36 train loss: 1.2895\n",
      "Epoch:  37\n"
     ]
    },
    {
     "data": {
      "text/plain": [
       "  0%|          | 0/244 [00:00<?, ?it/s]"
      ],
      "application/vnd.jupyter.widget-view+json": {
       "version_major": 2,
       "version_minor": 0,
       "model_id": "812364fd2b0f4c348887df453e50ffa8"
      }
     },
     "metadata": {},
     "output_type": "display_data"
    },
    {
     "name": "stdout",
     "output_type": "stream",
     "text": [
      "Epoch 37 train loss: 1.271\n",
      "\tEval...\n"
     ]
    },
    {
     "data": {
      "text/plain": [
       "  0%|          | 0/62 [00:00<?, ?it/s]"
      ],
      "application/vnd.jupyter.widget-view+json": {
       "version_major": 2,
       "version_minor": 0,
       "model_id": "f37e9e7b6a104c94b98eb08f559a6f8c"
      }
     },
     "metadata": {},
     "output_type": "display_data"
    },
    {
     "name": "stdout",
     "output_type": "stream",
     "text": [
      "\tEvaluation rouge1 score: 0.77227 <> Best val rouge1 up to now:  0.861\n",
      "Epoch:  38\n"
     ]
    },
    {
     "data": {
      "text/plain": [
       "  0%|          | 0/244 [00:00<?, ?it/s]"
      ],
      "application/vnd.jupyter.widget-view+json": {
       "version_major": 2,
       "version_minor": 0,
       "model_id": "1cca3a15b2be4623b748604f452c931f"
      }
     },
     "metadata": {},
     "output_type": "display_data"
    },
    {
     "name": "stdout",
     "output_type": "stream",
     "text": [
      "Epoch 38 train loss: 1.2839\n",
      "Epoch:  39\n"
     ]
    },
    {
     "data": {
      "text/plain": [
       "  0%|          | 0/244 [00:00<?, ?it/s]"
      ],
      "application/vnd.jupyter.widget-view+json": {
       "version_major": 2,
       "version_minor": 0,
       "model_id": "6d9bff7eee624fa8a457312f4fb5b588"
      }
     },
     "metadata": {},
     "output_type": "display_data"
    },
    {
     "name": "stdout",
     "output_type": "stream",
     "text": [
      "Epoch 39 train loss: 1.298\n",
      "\tEval...\n"
     ]
    },
    {
     "data": {
      "text/plain": [
       "  0%|          | 0/62 [00:00<?, ?it/s]"
      ],
      "application/vnd.jupyter.widget-view+json": {
       "version_major": 2,
       "version_minor": 0,
       "model_id": "b8c0e7db945d44a0ba4ddee7e0794eb2"
      }
     },
     "metadata": {},
     "output_type": "display_data"
    },
    {
     "name": "stdout",
     "output_type": "stream",
     "text": [
      "\tEvaluation rouge1 score: 0.88034 <> Best val rouge1 up to now:  0.88034\n",
      "Epoch:  40\n"
     ]
    },
    {
     "data": {
      "text/plain": [
       "  0%|          | 0/244 [00:00<?, ?it/s]"
      ],
      "application/vnd.jupyter.widget-view+json": {
       "version_major": 2,
       "version_minor": 0,
       "model_id": "0b103e57999745dabbe4bd845310abed"
      }
     },
     "metadata": {},
     "output_type": "display_data"
    },
    {
     "name": "stdout",
     "output_type": "stream",
     "text": [
      "Epoch 40 train loss: 1.2948\n",
      "Epoch:  41\n"
     ]
    },
    {
     "data": {
      "text/plain": [
       "  0%|          | 0/244 [00:00<?, ?it/s]"
      ],
      "application/vnd.jupyter.widget-view+json": {
       "version_major": 2,
       "version_minor": 0,
       "model_id": "f2f179bfb54d4c2dbf72742e6252e205"
      }
     },
     "metadata": {},
     "output_type": "display_data"
    },
    {
     "name": "stdout",
     "output_type": "stream",
     "text": [
      "Epoch 41 train loss: 1.294\n",
      "\tEval...\n"
     ]
    },
    {
     "data": {
      "text/plain": [
       "  0%|          | 0/62 [00:00<?, ?it/s]"
      ],
      "application/vnd.jupyter.widget-view+json": {
       "version_major": 2,
       "version_minor": 0,
       "model_id": "26fd6aa138d24772ba0a9d059992c9d8"
      }
     },
     "metadata": {},
     "output_type": "display_data"
    },
    {
     "name": "stdout",
     "output_type": "stream",
     "text": [
      "\tEvaluation rouge1 score: 0.83721 <> Best val rouge1 up to now:  0.88034\n",
      "Epoch:  42\n"
     ]
    },
    {
     "data": {
      "text/plain": [
       "  0%|          | 0/244 [00:00<?, ?it/s]"
      ],
      "application/vnd.jupyter.widget-view+json": {
       "version_major": 2,
       "version_minor": 0,
       "model_id": "8584d2f8687b4b87a37cf1dc01495691"
      }
     },
     "metadata": {},
     "output_type": "display_data"
    },
    {
     "name": "stdout",
     "output_type": "stream",
     "text": [
      "Epoch 42 train loss: 1.3017\n",
      "Epoch:  43\n"
     ]
    },
    {
     "data": {
      "text/plain": [
       "  0%|          | 0/244 [00:00<?, ?it/s]"
      ],
      "application/vnd.jupyter.widget-view+json": {
       "version_major": 2,
       "version_minor": 0,
       "model_id": "611fa874e2704c9f989d66db58d08726"
      }
     },
     "metadata": {},
     "output_type": "display_data"
    },
    {
     "name": "stdout",
     "output_type": "stream",
     "text": [
      "Epoch 43 train loss: 1.302\n",
      "\tEval...\n"
     ]
    },
    {
     "data": {
      "text/plain": [
       "  0%|          | 0/62 [00:00<?, ?it/s]"
      ],
      "application/vnd.jupyter.widget-view+json": {
       "version_major": 2,
       "version_minor": 0,
       "model_id": "0d137a81e1d14ecc824fd4df53035778"
      }
     },
     "metadata": {},
     "output_type": "display_data"
    },
    {
     "name": "stdout",
     "output_type": "stream",
     "text": [
      "\tEvaluation rouge1 score: 0.85358 <> Best val rouge1 up to now:  0.88034\n",
      "Epoch:  44\n"
     ]
    },
    {
     "data": {
      "text/plain": [
       "  0%|          | 0/244 [00:00<?, ?it/s]"
      ],
      "application/vnd.jupyter.widget-view+json": {
       "version_major": 2,
       "version_minor": 0,
       "model_id": "63a9287ab0ba4922815b1413cf318169"
      }
     },
     "metadata": {},
     "output_type": "display_data"
    },
    {
     "name": "stdout",
     "output_type": "stream",
     "text": [
      "Epoch 44 train loss: 1.3131\n",
      "Epoch:  45\n"
     ]
    },
    {
     "data": {
      "text/plain": [
       "  0%|          | 0/244 [00:00<?, ?it/s]"
      ],
      "application/vnd.jupyter.widget-view+json": {
       "version_major": 2,
       "version_minor": 0,
       "model_id": "b8553f7c638b46d7a0eeded94dda09dd"
      }
     },
     "metadata": {},
     "output_type": "display_data"
    },
    {
     "name": "stdout",
     "output_type": "stream",
     "text": [
      "Epoch 45 train loss: 1.3204\n",
      "\tEval...\n"
     ]
    },
    {
     "data": {
      "text/plain": [
       "  0%|          | 0/62 [00:00<?, ?it/s]"
      ],
      "application/vnd.jupyter.widget-view+json": {
       "version_major": 2,
       "version_minor": 0,
       "model_id": "469b30f1fa734cc38c3a2034bff0224b"
      }
     },
     "metadata": {},
     "output_type": "display_data"
    },
    {
     "name": "stdout",
     "output_type": "stream",
     "text": [
      "\tEvaluation rouge1 score: 0.82361 <> Best val rouge1 up to now:  0.88034\n",
      "Epoch:  46\n"
     ]
    },
    {
     "data": {
      "text/plain": [
       "  0%|          | 0/244 [00:00<?, ?it/s]"
      ],
      "application/vnd.jupyter.widget-view+json": {
       "version_major": 2,
       "version_minor": 0,
       "model_id": "9fcfff3e7e59439db079bd5c20182a06"
      }
     },
     "metadata": {},
     "output_type": "display_data"
    },
    {
     "name": "stdout",
     "output_type": "stream",
     "text": [
      "Epoch 46 train loss: 1.2627\n",
      "Epoch:  47\n"
     ]
    },
    {
     "data": {
      "text/plain": [
       "  0%|          | 0/244 [00:00<?, ?it/s]"
      ],
      "application/vnd.jupyter.widget-view+json": {
       "version_major": 2,
       "version_minor": 0,
       "model_id": "15307ff3bf4347c8b70c350a8b987fc2"
      }
     },
     "metadata": {},
     "output_type": "display_data"
    },
    {
     "name": "stdout",
     "output_type": "stream",
     "text": [
      "Epoch 47 train loss: 1.2573\n",
      "\tEval...\n"
     ]
    },
    {
     "data": {
      "text/plain": [
       "  0%|          | 0/62 [00:00<?, ?it/s]"
      ],
      "application/vnd.jupyter.widget-view+json": {
       "version_major": 2,
       "version_minor": 0,
       "model_id": "414bb05dced74ad8832c39aaf054ac06"
      }
     },
     "metadata": {},
     "output_type": "display_data"
    },
    {
     "name": "stdout",
     "output_type": "stream",
     "text": [
      "\tEvaluation rouge1 score: 0.81254 <> Best val rouge1 up to now:  0.88034\n",
      "Epoch:  48\n"
     ]
    },
    {
     "data": {
      "text/plain": [
       "  0%|          | 0/244 [00:00<?, ?it/s]"
      ],
      "application/vnd.jupyter.widget-view+json": {
       "version_major": 2,
       "version_minor": 0,
       "model_id": "c705b5f515fc4872b66d51b3c1266c35"
      }
     },
     "metadata": {},
     "output_type": "display_data"
    },
    {
     "name": "stdout",
     "output_type": "stream",
     "text": [
      "Epoch 48 train loss: 1.2656\n",
      "Epoch:  49\n"
     ]
    },
    {
     "data": {
      "text/plain": [
       "  0%|          | 0/244 [00:00<?, ?it/s]"
      ],
      "application/vnd.jupyter.widget-view+json": {
       "version_major": 2,
       "version_minor": 0,
       "model_id": "c0586a1f4de34916b9f0a898c0b211f7"
      }
     },
     "metadata": {},
     "output_type": "display_data"
    },
    {
     "name": "stdout",
     "output_type": "stream",
     "text": [
      "Epoch 49 train loss: 1.2772\n",
      "\tEval...\n"
     ]
    },
    {
     "data": {
      "text/plain": [
       "  0%|          | 0/62 [00:00<?, ?it/s]"
      ],
      "application/vnd.jupyter.widget-view+json": {
       "version_major": 2,
       "version_minor": 0,
       "model_id": "1cea96e4e67647fe8677ba6860a38fe2"
      }
     },
     "metadata": {},
     "output_type": "display_data"
    },
    {
     "name": "stdout",
     "output_type": "stream",
     "text": [
      "\tEvaluation rouge1 score: 0.86075 <> Best val rouge1 up to now:  0.88034\n"
     ]
    }
   ],
   "execution_count": 35
  },
  {
   "metadata": {},
   "cell_type": "markdown",
   "source": "### Training took only 0.5 GB of GPU memory!!!",
   "id": "6fe4a85a8fcc7cc9"
  },
  {
   "metadata": {},
   "cell_type": "markdown",
   "source": "# Evaluate the model and Generate outputs",
   "id": "80b5011e6898974"
  },
  {
   "metadata": {
    "ExecuteTime": {
     "end_time": "2024-08-25T21:32:33.821638Z",
     "start_time": "2024-08-25T21:32:33.819169Z"
    }
   },
   "cell_type": "code",
   "source": "from peft import PeftModel",
   "id": "2cf2cda129daac24",
   "outputs": [],
   "execution_count": 36
  },
  {
   "metadata": {
    "ExecuteTime": {
     "end_time": "2024-08-25T21:32:34.451290Z",
     "start_time": "2024-08-25T21:32:34.330973Z"
    }
   },
   "cell_type": "code",
   "source": [
    "del original_model, peft_model\n",
    "gc.collect()\n",
    "torch.cuda.empty_cache()"
   ],
   "id": "feac5b84298f4566",
   "outputs": [],
   "execution_count": 37
  },
  {
   "metadata": {
    "ExecuteTime": {
     "end_time": "2024-08-25T21:32:35.918774Z",
     "start_time": "2024-08-25T21:32:34.801249Z"
    }
   },
   "cell_type": "code",
   "source": [
    "model_name = 'google/flan-t5-small'\n",
    "original_model = AutoModelForSeq2SeqLM.from_pretrained(model_name, torch_dtype=torch.bfloat16)\n",
    "model = PeftModel.from_pretrained(original_model, model_id=\"t5_adapter_ckpt\", is_trainable=False,\n",
    "                                  torch_dtype=torch.bfloat16)\n",
    "model.merge_and_unload()  # merge lora layers back into weights matrix\n",
    "model.to(device)"
   ],
   "id": "731fe84d4f7cd8bf",
   "outputs": [
    {
     "data": {
      "text/plain": [
       "PeftModelForSeq2SeqLM(\n",
       "  (base_model): LoraModel(\n",
       "    (model): T5ForConditionalGeneration(\n",
       "      (shared): Embedding(32128, 512)\n",
       "      (encoder): T5Stack(\n",
       "        (embed_tokens): Embedding(32128, 512)\n",
       "        (block): ModuleList(\n",
       "          (0): T5Block(\n",
       "            (layer): ModuleList(\n",
       "              (0): T5LayerSelfAttention(\n",
       "                (SelfAttention): T5Attention(\n",
       "                  (q): Linear(in_features=512, out_features=384, bias=False)\n",
       "                  (k): Linear(in_features=512, out_features=384, bias=False)\n",
       "                  (v): Linear(in_features=512, out_features=384, bias=False)\n",
       "                  (o): Linear(in_features=384, out_features=512, bias=False)\n",
       "                  (relative_attention_bias): Embedding(32, 6)\n",
       "                )\n",
       "                (layer_norm): T5LayerNorm()\n",
       "                (dropout): Dropout(p=0.1, inplace=False)\n",
       "              )\n",
       "              (1): T5LayerFF(\n",
       "                (DenseReluDense): T5DenseGatedActDense(\n",
       "                  (wi_0): Linear(in_features=512, out_features=1024, bias=False)\n",
       "                  (wi_1): Linear(in_features=512, out_features=1024, bias=False)\n",
       "                  (wo): Linear(in_features=1024, out_features=512, bias=False)\n",
       "                  (dropout): Dropout(p=0.1, inplace=False)\n",
       "                  (act): NewGELUActivation()\n",
       "                )\n",
       "                (layer_norm): T5LayerNorm()\n",
       "                (dropout): Dropout(p=0.1, inplace=False)\n",
       "              )\n",
       "            )\n",
       "          )\n",
       "          (1-7): 7 x T5Block(\n",
       "            (layer): ModuleList(\n",
       "              (0): T5LayerSelfAttention(\n",
       "                (SelfAttention): T5Attention(\n",
       "                  (q): Linear(in_features=512, out_features=384, bias=False)\n",
       "                  (k): Linear(in_features=512, out_features=384, bias=False)\n",
       "                  (v): Linear(in_features=512, out_features=384, bias=False)\n",
       "                  (o): Linear(in_features=384, out_features=512, bias=False)\n",
       "                )\n",
       "                (layer_norm): T5LayerNorm()\n",
       "                (dropout): Dropout(p=0.1, inplace=False)\n",
       "              )\n",
       "              (1): T5LayerFF(\n",
       "                (DenseReluDense): T5DenseGatedActDense(\n",
       "                  (wi_0): Linear(in_features=512, out_features=1024, bias=False)\n",
       "                  (wi_1): Linear(in_features=512, out_features=1024, bias=False)\n",
       "                  (wo): Linear(in_features=1024, out_features=512, bias=False)\n",
       "                  (dropout): Dropout(p=0.1, inplace=False)\n",
       "                  (act): NewGELUActivation()\n",
       "                )\n",
       "                (layer_norm): T5LayerNorm()\n",
       "                (dropout): Dropout(p=0.1, inplace=False)\n",
       "              )\n",
       "            )\n",
       "          )\n",
       "        )\n",
       "        (final_layer_norm): T5LayerNorm()\n",
       "        (dropout): Dropout(p=0.1, inplace=False)\n",
       "      )\n",
       "      (decoder): T5Stack(\n",
       "        (embed_tokens): Embedding(32128, 512)\n",
       "        (block): ModuleList(\n",
       "          (0): T5Block(\n",
       "            (layer): ModuleList(\n",
       "              (0): T5LayerSelfAttention(\n",
       "                (SelfAttention): T5Attention(\n",
       "                  (q): Linear(in_features=512, out_features=384, bias=False)\n",
       "                  (k): Linear(in_features=512, out_features=384, bias=False)\n",
       "                  (v): Linear(in_features=512, out_features=384, bias=False)\n",
       "                  (o): Linear(in_features=384, out_features=512, bias=False)\n",
       "                  (relative_attention_bias): Embedding(32, 6)\n",
       "                )\n",
       "                (layer_norm): T5LayerNorm()\n",
       "                (dropout): Dropout(p=0.1, inplace=False)\n",
       "              )\n",
       "              (1): T5LayerCrossAttention(\n",
       "                (EncDecAttention): T5Attention(\n",
       "                  (q): Linear(in_features=512, out_features=384, bias=False)\n",
       "                  (k): Linear(in_features=512, out_features=384, bias=False)\n",
       "                  (v): Linear(in_features=512, out_features=384, bias=False)\n",
       "                  (o): Linear(in_features=384, out_features=512, bias=False)\n",
       "                )\n",
       "                (layer_norm): T5LayerNorm()\n",
       "                (dropout): Dropout(p=0.1, inplace=False)\n",
       "              )\n",
       "              (2): T5LayerFF(\n",
       "                (DenseReluDense): T5DenseGatedActDense(\n",
       "                  (wi_0): Linear(in_features=512, out_features=1024, bias=False)\n",
       "                  (wi_1): Linear(in_features=512, out_features=1024, bias=False)\n",
       "                  (wo): Linear(in_features=1024, out_features=512, bias=False)\n",
       "                  (dropout): Dropout(p=0.1, inplace=False)\n",
       "                  (act): NewGELUActivation()\n",
       "                )\n",
       "                (layer_norm): T5LayerNorm()\n",
       "                (dropout): Dropout(p=0.1, inplace=False)\n",
       "              )\n",
       "            )\n",
       "          )\n",
       "          (1-7): 7 x T5Block(\n",
       "            (layer): ModuleList(\n",
       "              (0): T5LayerSelfAttention(\n",
       "                (SelfAttention): T5Attention(\n",
       "                  (q): Linear(in_features=512, out_features=384, bias=False)\n",
       "                  (k): Linear(in_features=512, out_features=384, bias=False)\n",
       "                  (v): Linear(in_features=512, out_features=384, bias=False)\n",
       "                  (o): Linear(in_features=384, out_features=512, bias=False)\n",
       "                )\n",
       "                (layer_norm): T5LayerNorm()\n",
       "                (dropout): Dropout(p=0.1, inplace=False)\n",
       "              )\n",
       "              (1): T5LayerCrossAttention(\n",
       "                (EncDecAttention): T5Attention(\n",
       "                  (q): Linear(in_features=512, out_features=384, bias=False)\n",
       "                  (k): Linear(in_features=512, out_features=384, bias=False)\n",
       "                  (v): Linear(in_features=512, out_features=384, bias=False)\n",
       "                  (o): Linear(in_features=384, out_features=512, bias=False)\n",
       "                )\n",
       "                (layer_norm): T5LayerNorm()\n",
       "                (dropout): Dropout(p=0.1, inplace=False)\n",
       "              )\n",
       "              (2): T5LayerFF(\n",
       "                (DenseReluDense): T5DenseGatedActDense(\n",
       "                  (wi_0): Linear(in_features=512, out_features=1024, bias=False)\n",
       "                  (wi_1): Linear(in_features=512, out_features=1024, bias=False)\n",
       "                  (wo): Linear(in_features=1024, out_features=512, bias=False)\n",
       "                  (dropout): Dropout(p=0.1, inplace=False)\n",
       "                  (act): NewGELUActivation()\n",
       "                )\n",
       "                (layer_norm): T5LayerNorm()\n",
       "                (dropout): Dropout(p=0.1, inplace=False)\n",
       "              )\n",
       "            )\n",
       "          )\n",
       "        )\n",
       "        (final_layer_norm): T5LayerNorm()\n",
       "        (dropout): Dropout(p=0.1, inplace=False)\n",
       "      )\n",
       "      (lm_head): Linear(in_features=512, out_features=32128, bias=False)\n",
       "    )\n",
       "  )\n",
       ")"
      ]
     },
     "execution_count": 38,
     "metadata": {},
     "output_type": "execute_result"
    }
   ],
   "execution_count": 38
  },
  {
   "metadata": {
    "ExecuteTime": {
     "end_time": "2024-08-25T21:32:51.249166Z",
     "start_time": "2024-08-25T21:32:36.637708Z"
    }
   },
   "cell_type": "code",
   "source": "compute_rouge(model=model, split='train', dataset=raw_datasets)",
   "id": "607fde6a844b4095",
   "outputs": [
    {
     "data": {
      "text/plain": [
       "  0%|          | 0/244 [00:00<?, ?it/s]"
      ],
      "application/vnd.jupyter.widget-view+json": {
       "version_major": 2,
       "version_minor": 0,
       "model_id": "c45ab2a592ff497f8206ad2e1f7b3fe7"
      }
     },
     "metadata": {},
     "output_type": "display_data"
    },
    {
     "data": {
      "text/plain": [
       "{'rouge1': 0.9674863387978142,\n",
       " 'rouge2': 0.9283079625292743,\n",
       " 'rougeL': 0.9674814597970338,\n",
       " 'rougeLsum': 0.9677644418423108}"
      ]
     },
     "execution_count": 39,
     "metadata": {},
     "output_type": "execute_result"
    }
   ],
   "execution_count": 39
  },
  {
   "metadata": {
    "ExecuteTime": {
     "end_time": "2024-08-25T21:32:54.194259Z",
     "start_time": "2024-08-25T21:32:51.258162Z"
    }
   },
   "cell_type": "code",
   "source": "compute_rouge(model=model, split='test', dataset=raw_datasets)",
   "id": "3d63b3826a50a1d9",
   "outputs": [
    {
     "data": {
      "text/plain": [
       "  0%|          | 0/62 [00:00<?, ?it/s]"
      ],
      "application/vnd.jupyter.widget-view+json": {
       "version_major": 2,
       "version_minor": 0,
       "model_id": "e26ca460938549689d68396269dd07f1"
      }
     },
     "metadata": {},
     "output_type": "display_data"
    },
    {
     "data": {
      "text/plain": [
       "{'rouge1': 0.880337941628264,\n",
       " 'rouge2': 0.7698924731182795,\n",
       " 'rougeL': 0.8815412186379926,\n",
       " 'rougeLsum': 0.8818612391193035}"
      ]
     },
     "execution_count": 40,
     "metadata": {},
     "output_type": "execute_result"
    }
   ],
   "execution_count": 40
  },
  {
   "metadata": {
    "ExecuteTime": {
     "end_time": "2024-08-25T21:32:54.523433Z",
     "start_time": "2024-08-25T21:32:54.521154Z"
    }
   },
   "cell_type": "code",
   "source": "# !pip freeze > requirements.txt",
   "id": "6e91af1633bd8932",
   "outputs": [],
   "execution_count": 41
  },
  {
   "metadata": {},
   "cell_type": "markdown",
   "source": "### Generate text",
   "id": "307218abfb4a8755"
  },
  {
   "metadata": {
    "ExecuteTime": {
     "end_time": "2024-08-25T21:32:54.857819Z",
     "start_time": "2024-08-25T21:32:54.853108Z"
    }
   },
   "cell_type": "code",
   "source": [
    "@torch.no_grad()\n",
    "def print_generated_text(model, split, dataset):\n",
    "    set_seed(42)\n",
    "    for i in range(len(dataset[split])):\n",
    "        input_text = pd.DataFrame(dataset[split])['Prompt'][i]\n",
    "\n",
    "        # Tokenize input\n",
    "        input_ids = tokenizer.encode(input_text, return_tensors='pt')\n",
    "        output = model.generate(input_ids=input_ids.to(device),\n",
    "                                do_sample=True,\n",
    "                                max_new_tokens=30,\n",
    "                                pad_token_id=tokenizer.pad_token_id,\n",
    "                                eos_token_id=tokenizer.eos_token_id,\n",
    "                                top_k=20,\n",
    "                                top_p=0.95,\n",
    "                                )\n",
    "\n",
    "        # Decode the output\n",
    "        decoded_output = tokenizer.decode(output[0], skip_special_tokens=True)\n",
    "\n",
    "        print(\"Prompt text:\")\n",
    "        print(input_text)\n",
    "        print(\"Generated text:\")\n",
    "        print(decoded_output)\n",
    "        print('Label text:')\n",
    "        print(' '.join(pd.DataFrame(dataset[split])['Nodes List'][i]))\n",
    "        print('*' * 50 + f'{i}' + '*' * 50)"
   ],
   "id": "1a1a2c931ef03e6e",
   "outputs": [],
   "execution_count": 42
  },
  {
   "metadata": {
    "ExecuteTime": {
     "end_time": "2024-08-25T21:32:58.076152Z",
     "start_time": "2024-08-25T21:32:55.225782Z"
    }
   },
   "cell_type": "code",
   "source": "print_generated_text(model=model, split='test', dataset=raw_datasets)",
   "id": "3839841ad0db7cd6",
   "outputs": [
    {
     "name": "stdout",
     "output_type": "stream",
     "text": [
      "Prompt text:\n",
      "Highlight a text box when the mouse enters and display a tooltip.\n",
      "Generated text:\n",
      "OnMouseEnter Highlight Tooltip\n",
      "Label text:\n",
      "OnMouseEnter Highlight Tooltip\n",
      "**************************************************0**************************************************\n",
      "Prompt text:\n",
      "Highlight an element on mouse enter and hide the highlight on mouse leave.\n",
      "Generated text:\n",
      "OnMouseEnter Highlight OnMouseLeave Hide\n",
      "Label text:\n",
      "OnMouseEnter Highlight OnMouseLeave Hide\n",
      "**************************************************1**************************************************\n",
      "Prompt text:\n",
      "Display a modal dialog when a timer triggers every 5 seconds.\n",
      "Generated text:\n",
      "OnTimer DisplayModal\n",
      "Label text:\n",
      "OnTimer DisplayModal\n",
      "**************************************************2**************************************************\n",
      "Prompt text:\n",
      "Log a message when the mouse enters a button area.\n",
      "Generated text:\n",
      "OnMouseEnter Log\n",
      "Label text:\n",
      "OnMouseEnter Log\n",
      "**************************************************3**************************************************\n",
      "Prompt text:\n",
      "Display an alert when the value of a specific variable is updated.\n",
      "Generated text:\n",
      "OnVariableChange Alert\n",
      "Label text:\n",
      "OnVariableChange Alert\n",
      "**************************************************4**************************************************\n",
      "Prompt text:\n",
      "Navigate to the dashboard page after successful login.\n",
      "Generated text:\n",
      "Navigate\n",
      "Label text:\n",
      "Navigate Show\n",
      "**************************************************5**************************************************\n",
      "Prompt text:\n",
      "Filter out irrelevant data and then merge the filtered data with another dataset before showing it.\n",
      "Generated text:\n",
      "Filter Merge Show\n",
      "Label text:\n",
      "Filter Merge Show\n",
      "**************************************************6**************************************************\n",
      "Prompt text:\n",
      "Split a large file into smaller segments and delete the original file\n",
      "Generated text:\n",
      "Split Delete\n",
      "Label text:\n",
      "Split Delete\n",
      "**************************************************7**************************************************\n",
      "Prompt text:\n",
      "Hide an element's tooltip when the mouse leaves the element.\n",
      "Generated text:\n",
      "OnMouseLeave Tooltip\n",
      "Label text:\n",
      "OnMouseLeave Hide\n",
      "**************************************************8**************************************************\n",
      "Prompt text:\n",
      "Save form data when a submit button is clicked.\n",
      "Generated text:\n",
      "OnClick Save\n",
      "Label text:\n",
      "OnClick Save\n",
      "**************************************************9**************************************************\n",
      "Prompt text:\n",
      "Fetch and store user data in a cache, then display the cached data in a tooltip when the user hovers over a profile picture.\n",
      "Generated text:\n",
      "FetchData StoreData Tooltip\n",
      "Label text:\n",
      "FetchData CacheData Tooltip\n",
      "**************************************************10**************************************************\n",
      "Prompt text:\n",
      "Group event logs by type, reduce them to a summary count, and render a chart with the summarized data.\n",
      "Generated text:\n",
      "GroupBy Reduce RenderChart\n",
      "Label text:\n",
      "GroupBy Reduce RenderChart\n",
      "**************************************************11**************************************************\n",
      "Prompt text:\n",
      "Navigate to a different page when a specific key is released\n",
      "Generated text:\n",
      "OnKeyRelease Navigate\n",
      "Label text:\n",
      "OnKeyRelease Navigate\n",
      "**************************************************12**************************************************\n",
      "Prompt text:\n",
      "Show a tooltip with user information on mouse hover over a profile picture.\n",
      "Generated text:\n",
      "OnMouseEnter Tooltip\n",
      "Label text:\n",
      "Tooltip Show\n",
      "**************************************************13**************************************************\n",
      "Prompt text:\n",
      "Hide an element when the window is resized\n",
      "Generated text:\n",
      "OnWindowResize Hide\n",
      "Label text:\n",
      "OnWindowResize Hide\n",
      "**************************************************14**************************************************\n",
      "Prompt text:\n",
      "Play a sound when the mouse enters a specific area.\n",
      "Generated text:\n",
      "OnMouseEnter PlaySound\n",
      "Label text:\n",
      "OnMouseEnter PlaySound\n",
      "**************************************************15**************************************************\n",
      "Prompt text:\n",
      "Trigger an alert when a specific variable changes value\n",
      "Generated text:\n",
      "OnVariableChange Alert\n",
      "Label text:\n",
      "OnVariableChange Alert\n",
      "**************************************************16**************************************************\n",
      "Prompt text:\n",
      "Delete an old record and log the deletion event.\n",
      "Generated text:\n",
      "Delete Log\n",
      "Label text:\n",
      "DeleteData Log\n",
      "**************************************************17**************************************************\n",
      "Prompt text:\n",
      "Show a tooltip with additional details when the mouse hovers over a chart element, and hide the tooltip when the mouse leaves.\n",
      "Generated text:\n",
      "OnMouseEnter Tooltip OnMouseLeave Hide Hide\n",
      "Label text:\n",
      "OnMouseEnter Tooltip OnMouseLeave Hide\n",
      "**************************************************18**************************************************\n",
      "Prompt text:\n",
      "Branch based on a user’s choice, fetch corresponding data, and display it.\n",
      "Generated text:\n",
      "Branch FetchData Show\n",
      "Label text:\n",
      "Branch FetchData Show\n",
      "**************************************************19**************************************************\n",
      "Prompt text:\n",
      "Highlight a selected element, and then update the display to reflect the selection.\n",
      "Generated text:\n",
      "Highlight Update\n",
      "Label text:\n",
      "Highlight Update\n",
      "**************************************************20**************************************************\n",
      "Prompt text:\n",
      "Group comments by author, sort them by date, and display the sorted comments in a highlighted section.\n",
      "Generated text:\n",
      "GroupBy Sort Show\n",
      "Label text:\n",
      "GroupBy Sort Highlight Show\n",
      "**************************************************21**************************************************\n",
      "Prompt text:\n",
      "Play a sound on a timer every 10 seconds and stop the sound when the timer ends.\n",
      "Generated text:\n",
      "OnTimer PlaySound OnTimer StopSound\n",
      "Label text:\n",
      "OnTimer PlaySound OnTimer StopSound\n",
      "**************************************************22**************************************************\n",
      "Prompt text:\n",
      "Assign new values to multiple variables and log the updated values for debugging purposes.\n",
      "Generated text:\n",
      "Assign Log\n",
      "Label text:\n",
      "Assign Log\n",
      "**************************************************23**************************************************\n",
      "Prompt text:\n",
      "Fetch and cache search results, and then update the search results display using cached data.\n",
      "Generated text:\n",
      "FetchData CacheData Update\n",
      "Label text:\n",
      "FetchData CacheData Update\n",
      "**************************************************24**************************************************\n",
      "Prompt text:\n",
      "Delete outdated records from the database and then close the modal dialog\n",
      "Generated text:\n",
      "Delete CloseModal\n",
      "Label text:\n",
      "DeleteData CloseModal\n",
      "**************************************************25**************************************************\n",
      "Prompt text:\n",
      "Trigger an alert when a variable changes to 'true' and log the event.\n",
      "Generated text:\n",
      "OnVariableChange Alert Log\n",
      "Label text:\n",
      "OnVariableChange Alert Log\n",
      "**************************************************26**************************************************\n",
      "Prompt text:\n",
      "Sort a list of names alphabetically and display them on the screen.\n",
      "Generated text:\n",
      "Sort Show\n",
      "Label text:\n",
      "Sort Show\n",
      "**************************************************27**************************************************\n",
      "Prompt text:\n",
      "Reduce the number of items in a list to a specific threshold and log the result\n",
      "Generated text:\n",
      "Reduce Log\n",
      "Label text:\n",
      "Reduce Console\n",
      "**************************************************28**************************************************\n",
      "Prompt text:\n",
      "Delete old session data and log the deletion process for auditing purposes.\n",
      "Generated text:\n",
      "Delete Log\n",
      "Label text:\n",
      "Delete Log\n",
      "**************************************************29**************************************************\n",
      "Prompt text:\n",
      "Display a modal dialog with user feedback when a button is clicked\n",
      "Generated text:\n",
      "OnClick DisplayModal\n",
      "Label text:\n",
      "OnClick DisplayModal\n",
      "**************************************************30**************************************************\n",
      "Prompt text:\n",
      "Fetch data, sort it by relevance, and then update the display with the sorted data.\n",
      "Generated text:\n",
      "FetchData Sort Update\n",
      "Label text:\n",
      "FetchData Sort Update\n",
      "**************************************************31**************************************************\n",
      "Prompt text:\n",
      "Update the user's settings based on form input and save them.\n",
      "Generated text:\n",
      "UpdateData Save\n",
      "Label text:\n",
      "UpdateData Save\n",
      "**************************************************32**************************************************\n",
      "Prompt text:\n",
      "Sort items by rating and then display the top-rated items on the screen.\n",
      "Generated text:\n",
      "Sort Show\n",
      "Label text:\n",
      "Sort Show\n",
      "**************************************************33**************************************************\n",
      "Prompt text:\n",
      "Fetch user profile data and store it in local storage when a form is submitted\n",
      "Generated text:\n",
      "OnSubmit FetchData StoreData\n",
      "Label text:\n",
      "OnSubmit FetchData StoreData\n",
      "**************************************************34**************************************************\n",
      "Prompt text:\n",
      "Sort a list of user names alphabetically and display them\n",
      "Generated text:\n",
      "Sort Show\n",
      "Label text:\n",
      "Sort Show\n",
      "**************************************************35**************************************************\n",
      "Prompt text:\n",
      "Delete records older than 1 year and then update the display to reflect the changes.\n",
      "Generated text:\n",
      "Delete Update\n",
      "Label text:\n",
      "Delete Update\n",
      "**************************************************36**************************************************\n",
      "Prompt text:\n",
      "Play a notification sound when a new message is received.\n",
      "Generated text:\n",
      "OnMessageRequest PlaySound\n",
      "Label text:\n",
      "PlaySound Show\n",
      "**************************************************37**************************************************\n",
      "Prompt text:\n",
      "Filter items based on user preferences and then merge the filtered items with another dataset before displaying them.\n",
      "Generated text:\n",
      "Filter Merge Show\n",
      "Label text:\n",
      "Filter Merge Show\n",
      "**************************************************38**************************************************\n",
      "Prompt text:\n",
      "Adjust the layout of the page when the window is resized and log the new dimensions.\n",
      "Generated text:\n",
      "OnWindowResize Adjust Log\n",
      "Label text:\n",
      "OnWindowResize Update Log\n",
      "**************************************************39**************************************************\n",
      "Prompt text:\n",
      "Display a tooltip with additional info when a key is released.\n",
      "Generated text:\n",
      "OnKeyRelease Tooltip\n",
      "Label text:\n",
      "OnKeyRelease Tooltip\n",
      "**************************************************40**************************************************\n",
      "Prompt text:\n",
      "Fetch the latest news articles, filter out non-relevant ones, and display the filtered articles in a modal.\n",
      "Generated text:\n",
      "FetchData Filter DisplayModal\n",
      "Label text:\n",
      "FetchData Filter DisplayModal\n",
      "**************************************************41**************************************************\n",
      "Prompt text:\n",
      "Pause a currently playing sound when a specific key is pressed and resume it when the key is released.\n",
      "Generated text:\n",
      "OnKeyPress PauseSound OnKeyRelease PlaySound\n",
      "Label text:\n",
      "OnKeyPress PauseSound OnKeyRelease PlaySound\n",
      "**************************************************42**************************************************\n",
      "Prompt text:\n",
      "Split a string into multiple parts and log each part separately.\n",
      "Generated text:\n",
      "Split Log\n",
      "Label text:\n",
      "Split Log\n",
      "**************************************************43**************************************************\n",
      "Prompt text:\n",
      "Trigger a sound to play when the window is resized and stop the sound when the resize ends.\n",
      "Generated text:\n",
      "OnWindowResize PlaySound OnWindowResize StopSound\n",
      "Label text:\n",
      "OnWindowResize PlaySound OnWindowResize StopSound\n",
      "**************************************************44**************************************************\n",
      "Prompt text:\n",
      "Send a request when a variable changes and update the data displayed.\n",
      "Generated text:\n",
      "OnVariableChange SendRequest Update\n",
      "Label text:\n",
      "OnVariableChange SendRequest Update\n",
      "**************************************************45**************************************************\n",
      "Prompt text:\n",
      "Check if a user is logged in before navigating to the dashboard\n",
      "Generated text:\n",
      "Check Dashboard Navigate\n",
      "Label text:\n",
      "Branch Navigate\n",
      "**************************************************46**************************************************\n",
      "Prompt text:\n",
      "Group data by category and sort the groups by name before displaying\n",
      "Generated text:\n",
      "GroupBy Sort Show\n",
      "Label text:\n",
      "GroupBy Sort Show\n",
      "**************************************************47**************************************************\n",
      "Prompt text:\n",
      "Sort a list of tasks by priority and display the sorted list on the screen.\n",
      "Generated text:\n",
      "Sort Show\n",
      "Label text:\n",
      "Sort Show\n",
      "**************************************************48**************************************************\n",
      "Prompt text:\n",
      "Branch based on a user’s choice, fetch corresponding data, and display it.\n",
      "Generated text:\n",
      "Branch FetchData Show\n",
      "Label text:\n",
      "Branch FetchData Show\n",
      "**************************************************49**************************************************\n",
      "Prompt text:\n",
      "Assign a default value to a variable and log the operation.\n",
      "Generated text:\n",
      "Assign Log\n",
      "Label text:\n",
      "Assign Log\n",
      "**************************************************50**************************************************\n",
      "Prompt text:\n",
      "Log a message when a key is released and display an alert with the key name.\n",
      "Generated text:\n",
      "OnKeyRelease Log Alert\n",
      "Label text:\n",
      "OnKeyRelease Log Alert\n",
      "**************************************************51**************************************************\n",
      "Prompt text:\n",
      "Filter data to remove invalid entries and then merge the remaining data\n",
      "Generated text:\n",
      "Filter Merge Merge\n",
      "Label text:\n",
      "Filter Merge\n",
      "**************************************************52**************************************************\n",
      "Prompt text:\n",
      "Merge two datasets and update the chart with the combined data.\n",
      "Generated text:\n",
      "Merge Update\n",
      "Label text:\n",
      "Merge RenderChart\n",
      "**************************************************53**************************************************\n",
      "Prompt text:\n",
      "Display an alert every 5 minutes.\n",
      "Generated text:\n",
      "OnTimer Alert\n",
      "Label text:\n",
      "OnTimer Alert\n",
      "**************************************************54**************************************************\n",
      "Prompt text:\n",
      "Log a message when a key is released and then navigate to a different page.\n",
      "Generated text:\n",
      "OnKeyRelease Log Navigate\n",
      "Label text:\n",
      "OnKeyRelease Log Navigate\n",
      "**************************************************55**************************************************\n",
      "Prompt text:\n",
      "Navigate to a different URL after 5 seconds when a key is pressed.\n",
      "Generated text:\n",
      "OnKeyPress Delay Navigate\n",
      "Label text:\n",
      "OnKeyPress Delay Navigate\n",
      "**************************************************56**************************************************\n",
      "Prompt text:\n",
      "Log the successful completion of a task and save it to a database.\n",
      "Generated text:\n",
      "OnTimer Log Save\n",
      "Label text:\n",
      "Log Save\n",
      "**************************************************57**************************************************\n",
      "Prompt text:\n",
      "Trigger a sound to play when a specific variable changes value\n",
      "Generated text:\n",
      "OnVariableChange PlaySound\n",
      "Label text:\n",
      "OnVariableChange PlaySound\n",
      "**************************************************58**************************************************\n",
      "Prompt text:\n",
      "Update user profile information and then fetch the updated data to display it.\n",
      "Generated text:\n",
      "UpdateData FetchData Show\n",
      "Label text:\n",
      "UpdateData FetchData Show\n",
      "**************************************************59**************************************************\n",
      "Prompt text:\n",
      "Show a success message when data is successfully saved.\n",
      "Generated text:\n",
      "OnData Save\n",
      "Label text:\n",
      "Show Log\n",
      "**************************************************60**************************************************\n",
      "Prompt text:\n",
      "Wait for 5 seconds and then display a message on the screen\n",
      "Generated text:\n",
      "OnTimer WaitSound Show\n",
      "Label text:\n",
      "Delay Show\n",
      "**************************************************61**************************************************\n"
     ]
    }
   ],
   "execution_count": 43
  },
  {
   "metadata": {},
   "cell_type": "code",
   "outputs": [],
   "execution_count": null,
   "source": "",
   "id": "f9aab8107511e308"
  }
 ],
 "metadata": {
  "kernelspec": {
   "display_name": "Python 3",
   "language": "python",
   "name": "python3"
  },
  "language_info": {
   "codemirror_mode": {
    "name": "ipython",
    "version": 2
   },
   "file_extension": ".py",
   "mimetype": "text/x-python",
   "name": "python",
   "nbconvert_exporter": "python",
   "pygments_lexer": "ipython2",
   "version": "2.7.6"
  }
 },
 "nbformat": 4,
 "nbformat_minor": 5
}
