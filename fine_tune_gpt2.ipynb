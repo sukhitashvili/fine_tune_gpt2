{
 "cells": [
  {
   "metadata": {},
   "cell_type": "code",
   "outputs": [],
   "execution_count": null,
   "source": "# !pip install -r requirements.txt",
   "id": "f67bafb89fd5fef2"
  },
  {
   "metadata": {
    "collapsed": true,
    "ExecuteTime": {
     "end_time": "2024-08-14T06:55:28.624420Z",
     "start_time": "2024-08-14T06:55:26.014046Z"
    }
   },
   "cell_type": "code",
   "source": [
    "import inspect\n",
    "from collections import Counter\n",
    "\n",
    "import evaluate\n",
    "import matplotlib.pyplot as plt\n",
    "import numpy as np\n",
    "import pandas as pd\n",
    "import torch\n",
    "from datasets import Dataset, DatasetDict\n",
    "from torch.utils.data import DataLoader\n",
    "from tqdm.auto import tqdm\n",
    "from transformers import DataCollatorForLanguageModeling\n",
    "from transformers import GPT2Tokenizer"
   ],
   "id": "initial_id",
   "outputs": [],
   "execution_count": 1
  },
  {
   "metadata": {
    "ExecuteTime": {
     "end_time": "2024-08-14T06:55:29.835926Z",
     "start_time": "2024-08-14T06:55:28.644601Z"
    }
   },
   "cell_type": "code",
   "source": [
    "device = torch.device(\"cuda\") if torch.cuda.is_available() else torch.device(\"cpu\")\n",
    "device"
   ],
   "id": "b3d1e168610da99e",
   "outputs": [
    {
     "data": {
      "text/plain": [
       "device(type='cuda')"
      ]
     },
     "execution_count": 2,
     "metadata": {},
     "output_type": "execute_result"
    }
   ],
   "execution_count": 2
  },
  {
   "metadata": {},
   "cell_type": "markdown",
   "source": "# Data Exploration",
   "id": "5f3041b1d7e3050"
  },
  {
   "metadata": {
    "ExecuteTime": {
     "end_time": "2024-08-14T06:55:29.941383Z",
     "start_time": "2024-08-14T06:55:29.936987Z"
    }
   },
   "cell_type": "code",
   "source": "df = pd.read_csv('data.csv')",
   "id": "dcf0b69071b5b416",
   "outputs": [],
   "execution_count": 3
  },
  {
   "metadata": {
    "ExecuteTime": {
     "end_time": "2024-08-14T06:55:30.063630Z",
     "start_time": "2024-08-14T06:55:30.056310Z"
    }
   },
   "cell_type": "code",
   "source": "df.head(3)",
   "id": "159d420bbb475943",
   "outputs": [
    {
     "data": {
      "text/plain": [
       "                                              Prompt  \\\n",
       "0  Trigger an alert when a variable changes to 't...   \n",
       "1  Assign a new value to a variable when it chang...   \n",
       "2  Send a request when a variable changes and upd...   \n",
       "\n",
       "                           Sequence of Nodes  \n",
       "0           [OnVariableChange],[Alert],[Log]  \n",
       "1         [OnVariableChange],[Assign],[Show]  \n",
       "2  [OnVariableChange],[SendRequest],[Update]  "
      ],
      "text/html": [
       "<div>\n",
       "<style scoped>\n",
       "    .dataframe tbody tr th:only-of-type {\n",
       "        vertical-align: middle;\n",
       "    }\n",
       "\n",
       "    .dataframe tbody tr th {\n",
       "        vertical-align: top;\n",
       "    }\n",
       "\n",
       "    .dataframe thead th {\n",
       "        text-align: right;\n",
       "    }\n",
       "</style>\n",
       "<table border=\"1\" class=\"dataframe\">\n",
       "  <thead>\n",
       "    <tr style=\"text-align: right;\">\n",
       "      <th></th>\n",
       "      <th>Prompt</th>\n",
       "      <th>Sequence of Nodes</th>\n",
       "    </tr>\n",
       "  </thead>\n",
       "  <tbody>\n",
       "    <tr>\n",
       "      <th>0</th>\n",
       "      <td>Trigger an alert when a variable changes to 't...</td>\n",
       "      <td>[OnVariableChange],[Alert],[Log]</td>\n",
       "    </tr>\n",
       "    <tr>\n",
       "      <th>1</th>\n",
       "      <td>Assign a new value to a variable when it chang...</td>\n",
       "      <td>[OnVariableChange],[Assign],[Show]</td>\n",
       "    </tr>\n",
       "    <tr>\n",
       "      <th>2</th>\n",
       "      <td>Send a request when a variable changes and upd...</td>\n",
       "      <td>[OnVariableChange],[SendRequest],[Update]</td>\n",
       "    </tr>\n",
       "  </tbody>\n",
       "</table>\n",
       "</div>"
      ]
     },
     "execution_count": 4,
     "metadata": {},
     "output_type": "execute_result"
    }
   ],
   "execution_count": 4
  },
  {
   "metadata": {
    "ExecuteTime": {
     "end_time": "2024-08-14T06:55:30.132124Z",
     "start_time": "2024-08-14T06:55:30.128981Z"
    }
   },
   "cell_type": "code",
   "source": "df['Prompt'][0]",
   "id": "7b4df525e5749753",
   "outputs": [
    {
     "data": {
      "text/plain": [
       "\"Trigger an alert when a variable changes to 'true' and log the event.\""
      ]
     },
     "execution_count": 5,
     "metadata": {},
     "output_type": "execute_result"
    }
   ],
   "execution_count": 5
  },
  {
   "metadata": {
    "ExecuteTime": {
     "end_time": "2024-08-14T06:55:33.917171Z",
     "start_time": "2024-08-14T06:55:33.912194Z"
    }
   },
   "cell_type": "code",
   "source": [
    "df['Nodes List'] = df['Sequence of Nodes'].apply(lambda x: x.strip(\"[]\").split(\"],[\"))\n",
    "df['Nodes List'].head(3)"
   ],
   "id": "b94a83391c87bbe7",
   "outputs": [
    {
     "data": {
      "text/plain": [
       "0             [OnVariableChange, Alert, Log]\n",
       "1           [OnVariableChange, Assign, Show]\n",
       "2    [OnVariableChange, SendRequest, Update]\n",
       "Name: Nodes List, dtype: object"
      ]
     },
     "execution_count": 6,
     "metadata": {},
     "output_type": "execute_result"
    }
   ],
   "execution_count": 6
  },
  {
   "metadata": {
    "ExecuteTime": {
     "end_time": "2024-08-13T18:35:56.228213Z",
     "start_time": "2024-08-13T18:35:56.221977Z"
    }
   },
   "cell_type": "code",
   "source": [
    "# Flatten the list of all nodes and count occurrences\n",
    "all_nodes = [node for nodes_list in df['Nodes List'] for node in nodes_list]\n",
    "node_counts = Counter(all_nodes)\n",
    "# Convert the counter to a DataFrame for easy viewing\n",
    "node_counts_df = pd.DataFrame(node_counts.items(), columns=['Node', 'Count'])\n",
    "node_counts_df.head(3)"
   ],
   "id": "70588b34bff20942",
   "outputs": [
    {
     "data": {
      "text/plain": [
       "               Node  Count\n",
       "0  OnVariableChange     20\n",
       "1             Alert     13\n",
       "2               Log     54"
      ],
      "text/html": [
       "<div>\n",
       "<style scoped>\n",
       "    .dataframe tbody tr th:only-of-type {\n",
       "        vertical-align: middle;\n",
       "    }\n",
       "\n",
       "    .dataframe tbody tr th {\n",
       "        vertical-align: top;\n",
       "    }\n",
       "\n",
       "    .dataframe thead th {\n",
       "        text-align: right;\n",
       "    }\n",
       "</style>\n",
       "<table border=\"1\" class=\"dataframe\">\n",
       "  <thead>\n",
       "    <tr style=\"text-align: right;\">\n",
       "      <th></th>\n",
       "      <th>Node</th>\n",
       "      <th>Count</th>\n",
       "    </tr>\n",
       "  </thead>\n",
       "  <tbody>\n",
       "    <tr>\n",
       "      <th>0</th>\n",
       "      <td>OnVariableChange</td>\n",
       "      <td>20</td>\n",
       "    </tr>\n",
       "    <tr>\n",
       "      <th>1</th>\n",
       "      <td>Alert</td>\n",
       "      <td>13</td>\n",
       "    </tr>\n",
       "    <tr>\n",
       "      <th>2</th>\n",
       "      <td>Log</td>\n",
       "      <td>54</td>\n",
       "    </tr>\n",
       "  </tbody>\n",
       "</table>\n",
       "</div>"
      ]
     },
     "execution_count": 7,
     "metadata": {},
     "output_type": "execute_result"
    }
   ],
   "execution_count": 7
  },
  {
   "metadata": {
    "ExecuteTime": {
     "end_time": "2024-08-13T18:35:56.523915Z",
     "start_time": "2024-08-13T18:35:56.320237Z"
    }
   },
   "cell_type": "code",
   "source": [
    "# Plot the counts as a histogram\n",
    "plt.figure(figsize=[17, 5])\n",
    "node_counts_df.plot(kind='bar', x='Node', y='Count', legend=False, ax=plt.gca())\n",
    "plt.title('Node Frequency')\n",
    "plt.xlabel('Node')\n",
    "plt.ylabel('Count')\n",
    "plt.xticks(rotation=45)\n",
    "plt.show()"
   ],
   "id": "83ea36045b2559eb",
   "outputs": [
    {
     "data": {
      "text/plain": [
       "<Figure size 1700x500 with 1 Axes>"
      ],
      "image/png": "[encoded data removed]"
     },
     "metadata": {},
     "output_type": "display_data"
    }
   ],
   "execution_count": 8
  },
  {
   "metadata": {
    "ExecuteTime": {
     "end_time": "2024-08-13T18:35:56.568487Z",
     "start_time": "2024-08-13T18:35:56.564573Z"
    }
   },
   "cell_type": "code",
   "source": [
    "# Print least repeated node names\n",
    "node_counts_df[node_counts_df['Count'] == node_counts_df['Count'].min()]"
   ],
   "id": "5dd391301621d451",
   "outputs": [
    {
     "data": {
      "text/plain": [
       "           Node  Count\n",
       "5   SendRequest      7\n",
       "15        Delay      7"
      ],
      "text/html": [
       "<div>\n",
       "<style scoped>\n",
       "    .dataframe tbody tr th:only-of-type {\n",
       "        vertical-align: middle;\n",
       "    }\n",
       "\n",
       "    .dataframe tbody tr th {\n",
       "        vertical-align: top;\n",
       "    }\n",
       "\n",
       "    .dataframe thead th {\n",
       "        text-align: right;\n",
       "    }\n",
       "</style>\n",
       "<table border=\"1\" class=\"dataframe\">\n",
       "  <thead>\n",
       "    <tr style=\"text-align: right;\">\n",
       "      <th></th>\n",
       "      <th>Node</th>\n",
       "      <th>Count</th>\n",
       "    </tr>\n",
       "  </thead>\n",
       "  <tbody>\n",
       "    <tr>\n",
       "      <th>5</th>\n",
       "      <td>SendRequest</td>\n",
       "      <td>7</td>\n",
       "    </tr>\n",
       "    <tr>\n",
       "      <th>15</th>\n",
       "      <td>Delay</td>\n",
       "      <td>7</td>\n",
       "    </tr>\n",
       "  </tbody>\n",
       "</table>\n",
       "</div>"
      ]
     },
     "execution_count": 9,
     "metadata": {},
     "output_type": "execute_result"
    }
   ],
   "execution_count": 9
  },
  {
   "metadata": {},
   "cell_type": "markdown",
   "source": "# Tokenize words and prepare dataset class",
   "id": "4ce1a26802678d7d"
  },
  {
   "metadata": {
    "ExecuteTime": {
     "end_time": "2024-08-14T07:00:11.195353Z",
     "start_time": "2024-08-14T07:00:10.968975Z"
    }
   },
   "cell_type": "code",
   "source": [
    "# Load the pre-trained GPT-2 tokenizer\n",
    "tokenizer = GPT2Tokenizer.from_pretrained(\"gpt2\")\n",
    "print('Special tokens:', tokenizer.all_special_tokens)\n",
    "print('Numer of unique tokens:', len(tokenizer))"
   ],
   "id": "b366b38311c25b8d",
   "outputs": [
    {
     "name": "stdout",
     "output_type": "stream",
     "text": [
      "Special tokens: ['<|endoftext|>']\n",
      "Numer of unique tokens: 50257\n"
     ]
    }
   ],
   "execution_count": 12
  },
  {
   "metadata": {
    "ExecuteTime": {
     "end_time": "2024-08-14T07:00:11.560503Z",
     "start_time": "2024-08-14T07:00:11.556493Z"
    }
   },
   "cell_type": "code",
   "source": [
    "# Add a [STN] START OF NODES token to the tokenizer to force model predict node names after text prompt\n",
    "SPECIAL_TOKEN_TO_PREDICT = \">>\"\n",
    "special_token_ids = tokenizer.encode(SPECIAL_TOKEN_TO_PREDICT)\n",
    "print(\n",
    "    f'The new token is supposed to force model predict nodes. It tokenizes to number of tokens: {len(special_token_ids)} : {special_token_ids}')"
   ],
   "id": "303667a2917d1f07",
   "outputs": [
    {
     "name": "stdout",
     "output_type": "stream",
     "text": [
      "The new token is supposed to force model predict nodes. It tokenizes to number of tokens: 1 : [4211]\n"
     ]
    }
   ],
   "execution_count": 13
  },
  {
   "metadata": {
    "ExecuteTime": {
     "end_time": "2024-08-14T07:00:13.228768Z",
     "start_time": "2024-08-14T07:00:13.220020Z"
    }
   },
   "cell_type": "code",
   "source": [
    "# Set a new padding token\n",
    "\"\"\"\n",
    "By default padding token is equal to end-of-text token in gpt2 tokenizer. \n",
    "This breaks logic when we want to keep end-of-text token to be presented between concatenated text pieces and in the labels too, \n",
    "becuase end-of-text presented between concatenated text pieces treated as padding and thus is ignored in GT labels.\n",
    "\"\"\"\n",
    "PADDING_TOKEN = \"<|PAD|>\"\n",
    "special_tokens_dict = {'pad_token': PADDING_TOKEN}\n",
    "tokenizer.add_special_tokens(special_tokens_dict)"
   ],
   "id": "f22356d766eb569b",
   "outputs": [
    {
     "data": {
      "text/plain": [
       "1"
      ]
     },
     "execution_count": 14,
     "metadata": {},
     "output_type": "execute_result"
    }
   ],
   "execution_count": 14
  },
  {
   "metadata": {
    "ExecuteTime": {
     "end_time": "2024-08-14T07:00:14.988364Z",
     "start_time": "2024-08-14T07:00:14.984333Z"
    }
   },
   "cell_type": "code",
   "source": "tokenizer.special_tokens_map",
   "id": "7b2b19bc187938e0",
   "outputs": [
    {
     "data": {
      "text/plain": [
       "{'bos_token': '<|endoftext|>',\n",
       " 'eos_token': '<|endoftext|>',\n",
       " 'unk_token': '<|endoftext|>',\n",
       " 'pad_token': '<|PAD|>'}"
      ]
     },
     "execution_count": 15,
     "metadata": {},
     "output_type": "execute_result"
    }
   ],
   "execution_count": 15
  },
  {
   "metadata": {
    "ExecuteTime": {
     "end_time": "2024-08-13T18:35:57.217276Z",
     "start_time": "2024-08-13T18:35:57.210694Z"
    }
   },
   "cell_type": "code",
   "source": "len(tokenizer), tokenizer.encode(PADDING_TOKEN)",
   "id": "6ac87a5ca785b290",
   "outputs": [
    {
     "data": {
      "text/plain": [
       "(50258, [50257])"
      ]
     },
     "execution_count": 14,
     "metadata": {},
     "output_type": "execute_result"
    }
   ],
   "execution_count": 14
  },
  {
   "metadata": {},
   "cell_type": "markdown",
   "source": "### Create pandas dataframe with text ready to be tokenized",
   "id": "382c9d830fec18a6"
  },
  {
   "metadata": {
    "ExecuteTime": {
     "end_time": "2024-08-13T18:35:57.278123Z",
     "start_time": "2024-08-13T18:35:57.273471Z"
    }
   },
   "cell_type": "code",
   "source": [
    "df['concatenated_node_names'] = df['Sequence of Nodes'].apply(\n",
    "    lambda x: SPECIAL_TOKEN_TO_PREDICT + ' ' + ' '.join(x.strip(\"[]\").split(\"],[\")) + tokenizer.eos_token)\n",
    "df['concatenated_node_names'].head(3)"
   ],
   "id": "25c98dbffccb91da",
   "outputs": [
    {
     "data": {
      "text/plain": [
       "0           >> OnVariableChange Alert Log<|endoftext|>\n",
       "1         >> OnVariableChange Assign Show<|endoftext|>\n",
       "2    >> OnVariableChange SendRequest Update<|endoft...\n",
       "Name: concatenated_node_names, dtype: object"
      ]
     },
     "execution_count": 15,
     "metadata": {},
     "output_type": "execute_result"
    }
   ],
   "execution_count": 15
  },
  {
   "metadata": {
    "ExecuteTime": {
     "end_time": "2024-08-13T18:35:57.354153Z",
     "start_time": "2024-08-13T18:35:57.350552Z"
    }
   },
   "cell_type": "code",
   "source": [
    "df['data'] = df['Prompt'] + df['concatenated_node_names']\n",
    "df['data'].head(5)"
   ],
   "id": "39df93b36745d78f",
   "outputs": [
    {
     "data": {
      "text/plain": [
       "0    Trigger an alert when a variable changes to 't...\n",
       "1    Assign a new value to a variable when it chang...\n",
       "2    Send a request when a variable changes and upd...\n",
       "3    Display a tooltip with additional info when a ...\n",
       "4    Log the release of a key and stop any playing ...\n",
       "Name: data, dtype: object"
      ]
     },
     "execution_count": 16,
     "metadata": {},
     "output_type": "execute_result"
    }
   ],
   "execution_count": 16
  },
  {
   "metadata": {
    "ExecuteTime": {
     "end_time": "2024-08-13T18:35:57.427651Z",
     "start_time": "2024-08-13T18:35:57.423745Z"
    }
   },
   "cell_type": "code",
   "source": [
    "sample_text = df['data'][0]\n",
    "sample_tokens = tokenizer.encode(sample_text, truncation=True, max_length=tokenizer.model_max_length)\n",
    "print('Sample text: ', sample_text)\n",
    "print(\"Tokens: \", sample_tokens)\n",
    "for token in sample_tokens[-4:]:\n",
    "    print(f'\\tToken:  {tokenizer.decode(token)} = {token}')"
   ],
   "id": "ab2771ba45a4ed1c",
   "outputs": [
    {
     "name": "stdout",
     "output_type": "stream",
     "text": [
      "Sample text:  Trigger an alert when a variable changes to 'true' and log the event.>> OnVariableChange Alert Log<|endoftext|>\n",
      "Tokens:  [48344, 281, 7995, 618, 257, 7885, 2458, 284, 705, 7942, 6, 290, 2604, 262, 1785, 32756, 1550, 43015, 19400, 23276, 5972, 50256]\n",
      "\tToken:  Change = 19400\n",
      "\tToken:   Alert = 23276\n",
      "\tToken:   Log = 5972\n",
      "\tToken:  <|endoftext|> = 50256\n"
     ]
    }
   ],
   "execution_count": 17
  },
  {
   "metadata": {},
   "cell_type": "markdown",
   "source": "### Concatenate text into once sequence up to context length",
   "id": "e8bc0f210c53260f"
  },
  {
   "metadata": {
    "ExecuteTime": {
     "end_time": "2024-08-13T18:35:57.523379Z",
     "start_time": "2024-08-13T18:35:57.494132Z"
    }
   },
   "cell_type": "code",
   "source": [
    "raw_datasets = Dataset.from_pandas(df).train_test_split(test_size=0.2, seed=42)\n",
    "train_df = pd.DataFrame(raw_datasets['train'])\n",
    "val_df = pd.DataFrame(raw_datasets['test'])\n",
    "val_df['data'].head(3)"
   ],
   "id": "8ff3d1381e5da8e1",
   "outputs": [
    {
     "data": {
      "text/plain": [
       "0    Highlight a text box when the mouse enters and...\n",
       "1    Highlight an element on mouse enter and hide t...\n",
       "2    Display a modal dialog when a timer triggers e...\n",
       "Name: data, dtype: object"
      ]
     },
     "execution_count": 18,
     "metadata": {},
     "output_type": "execute_result"
    }
   ],
   "execution_count": 18
  },
  {
   "metadata": {
    "ExecuteTime": {
     "end_time": "2024-08-13T18:35:57.648950Z",
     "start_time": "2024-08-13T18:35:57.592502Z"
    }
   },
   "cell_type": "code",
   "source": [
    "def merge_sequences(dataframe_rows, max_context_window=1024):\n",
    "    merged_sequences = []\n",
    "    current_sequence = ''\n",
    "    current_length = 0\n",
    "    for text_to_tokens in dataframe_rows:\n",
    "        tokens = tokenizer.encode(text_to_tokens)\n",
    "        if current_length + len(tokens) <= max_context_window:\n",
    "            current_sequence += text_to_tokens\n",
    "            current_length += len(tokens)\n",
    "        else:\n",
    "            merged_sequences.append(current_sequence)\n",
    "            # Start a new sequence\n",
    "            current_sequence = text_to_tokens\n",
    "            current_length = len(tokens)\n",
    "    # Don't forget to add the last sequence\n",
    "    if current_sequence:\n",
    "        merged_sequences.append(current_sequence)\n",
    "    return merged_sequences\n",
    "\n",
    "\n",
    "# train_df['encoded_data'] = train_df['data'].apply(lambda x: tokenizer.encode(x))\n",
    "# val_df['encoded_data'] = val_df['data'].apply(lambda x: tokenizer.encode(x))\n",
    "\n",
    "train_concat_sequences = merge_sequences(train_df['data'], max_context_window=tokenizer.model_max_length)\n",
    "val_concat_sequences = merge_sequences(val_df['data'], max_context_window=tokenizer.model_max_length)\n",
    "\n",
    "for concat_lists in [train_concat_sequences, val_concat_sequences]:\n",
    "    print('Length of concatenated sequences:', [len(tokenizer.encode(text)) for text in concat_lists])"
   ],
   "id": "12735c31a2f299be",
   "outputs": [
    {
     "name": "stdout",
     "output_type": "stream",
     "text": [
      "Length of concatenated sequences: [1022, 1022, 1019, 1020, 941]\n",
      "Length of concatenated sequences: [1009, 258]\n"
     ]
    }
   ],
   "execution_count": 19
  },
  {
   "metadata": {
    "ExecuteTime": {
     "end_time": "2024-08-13T18:35:57.705024Z",
     "start_time": "2024-08-13T18:35:57.701903Z"
    }
   },
   "cell_type": "code",
   "source": "train_concat_sequences",
   "id": "5d2602b329fbef25",
   "outputs": [
    {
     "data": {
      "text/plain": [
       "['Navigate to a new URL when a key is released>> OnKeyRelease Navigate<|endoftext|>Sort user comments by date and update the display to show the most recent comments at the top.>> Sort Update<|endoftext|>Fetch data when a key is pressed and show it in a modal.>> OnKeyPress FetchData DisplayModal<|endoftext|>Sort a list of items by date and then display the sorted list.>> Sort Show<|endoftext|>Pause a sound when a specific variable changes>> OnVariableChange PauseSound<|endoftext|>Play an alert sound when a form is submitted and show a confirmation message on the screen.>> OnSubmit PlaySound Show<|endoftext|>Hide an element when the window is resized.>> OnWindowResize Hide<|endoftext|>Log the current time whenever the window is resized and display the time on the screen.>> OnWindowResize Log Show<|endoftext|>Sort a list of items by date and then display the sorted list.>> Sort Show<|endoftext|>Display a modal when the mouse leaves a specific section.>> OnMouseLeave DisplayModal<|endoftext|>Highlight a selected element, and then update the display to reflect the selection.>> Highlight Update<|endoftext|>Delete a record when the delete button is pressed.>> OnClick SendRequest DeleteData<|endoftext|>Sort a list of items every minute and update the display>> OnTimer Sort Update<|endoftext|>Delete old records from the database and log the result>> DeleteData Log<|endoftext|>Render a chart with fetched data and then update it periodically.>> FetchData RenderChart OnTimer Update<|endoftext|>Close a modal and then reduce a list of transaction amounts to calculate the total>> CloseModal Reduce<|endoftext|>Close the modal dialog and then reduce the list of errors to find the most critical one>> CloseModal Reduce<|endoftext|>Update the display and send a request.>> Update SendRequest<|endoftext|>Send a network request when a specified variable changes value.>> OnVariableChange SendRequest<|endoftext|>Fetch data periodically and log the result.>> OnTimer FetchData Log<|endoftext|>Update the display when a key is pressed.>> OnKeyPress Update<|endoftext|>Log a message when a data fetch request is successful>> FetchData Log<|endoftext|>Delete records older than 1 year and then update the display to reflect the changes.>> Delete Update<|endoftext|>Play a sound when a variable changes, and then pause the sound if the variable changes again.>> OnVariableChange PlaySound OnVariableChange PauseSound<|endoftext|>Show a message on the screen when the window is resized>> OnWindowResize Show<|endoftext|>Filter out irrelevant search results and display the relevant results in a modal dialog.>> Filter DisplayModal<|endoftext|>Group data by category, map it to a specific format, and render a chart with the mapped data.>> GroupBy Map RenderChart<|endoftext|>Delete temporary files after a modal dialog is closed and log the action>> Delete CloseModal Log<|endoftext|>Pause background music when a phone call is initiated.>> PauseSound Log<|endoftext|>Show a tooltip with additional information when a key is pressed>> OnKeyPress Tooltip<|endoftext|>Hide a modal when a key is pressed and display a new message>> OnKeyPress CloseModal Show<|endoftext|>Delete a record from the database when a specific variable changes>> OnVariableChange DeleteData<|endoftext|>Update the display with the new dimensions when the window is resized.>> OnWindowResize Update<|endoftext|>Render a sales chart after fetching the latest data from the server.>> RenderChart FetchData Show<|endoftext|>Reduce a list of scores to find the average score and delete the temporary results>> Reduce Delete<|endoftext|>Update user profile information and display a confirmation message>> UpdateData Show<|endoftext|>Show an alert when the window is resized.>> OnWindowResize Alert<|endoftext|>Highlight an element when the Space key is pressed and then hide it after 2 seconds.>> OnKeyPress Highlight Delay Hide<|endoftext|>Save user preferences in local storage and log the action.>> Save Log<|endoftext|>Fetch user profile data, cache it, and then display a modal with the cached data.>> FetchData CacheData DisplayModal<|endoftext|>Log an error message when data fails to be fetched from an API>> FetchData Log<|endoftext|>Stop the sound when the mouse leaves an element.>> OnMouseLeave StopSound<|endoftext|>Stop playing a sound when the escape key is released.>> OnKeyRelease OnKeyPress StopSound<|endoftext|>Trigger a sound to play when the window is resized and stop the sound when the resize ends.>> OnWindowResize PlaySound OnWindowResize StopSound<|endoftext|>Save form data to local storage when the form is submitted and then navigate to a thank you page>> OnSubmit Save Navigate<|endoftext|>Close a modal dialog and reduce a list of customer feedback to actionable insights>> CloseModal Reduce<|endoftext|>Highlight a specific section on the screen when the window is resized>> OnWindowResize Highlight<|endoftext|>Save user input data to local storage and then show a confirmation message on the screen.>> OnClick Save Show<|endoftext|>Store the fetched data into local storage and then hide the element>> FetchData StoreData Hide<|endoftext|>Filter out outdated data and show the remaining data in a modal>> Filter DisplayModal<|endoftext|>Group orders by status and display each group in a different section.>> GroupBy Show<|endoftext|>',\n",
       " \"Play a sound when a mouse pointer enters an element and stop it when the mouse leaves>> OnMouseEnter PlaySound OnMouseLeave StopSound<|endoftext|>Assign default settings to user preferences when a reset button is clicked and then navigate to the settings page.>> OnClick Assign Navigate<|endoftext|>Play a sound when a variable changes, and then pause the sound if the variable changes again.>> OnVariableChange PlaySound OnVariableChange PauseSound<|endoftext|>Assign a new value to a variable when a timer completes>> OnTimer Assign<|endoftext|>Reduce a list of tasks to find the most critical task and then close the task modal>> Reduce CloseModal<|endoftext|>Fetch and cache data for improved performance, then update the display with the fetched data.>> FetchData CacheData Update<|endoftext|>Stop playing the sound and remove the highlight when the mouse leaves an area.>> OnMouseLeave StopSound Highlight<|endoftext|>Filter out irrelevant data and then merge the filtered data with another dataset before showing it.>> Filter Merge Show<|endoftext|>Group items by category and display them on the screen.>> GroupBy Show<|endoftext|>Sort items by rating and then display the top-rated items on the screen.>> Sort Show<|endoftext|>Pause a currently playing sound when a specific key is pressed and resume it when the key is released.>> OnKeyPress PauseSound OnKeyRelease PlaySound<|endoftext|>Map data from an API response to a display format and show it.>> Map Show<|endoftext|>Log the key pressed and assign it to a variable for later use.>> OnKeyPress Log Assign<|endoftext|>Navigate to a new page when a button is clicked.>> OnClick Navigate<|endoftext|>Update the display with new information after a key press>> OnKeyPress Update<|endoftext|>Map data from one format to another and display it on the screen>> Map Show<|endoftext|>Send a network request when a key is pressed.>> OnKeyPress SendRequest<|endoftext|>Store user preferences in local storage and then navigate to a confirmation page.>> StoreData Navigate<|endoftext|>Play a sound when the user clicks a specific button and stop the sound when another button is clicked.>> OnClick PlaySound OnClick StopSound<|endoftext|>Assign a new value to a variable when a button is clicked and then show an alert>> OnClick Assign Alert<|endoftext|>Log a message when a variable changes and update the screen with the new value.>> OnVariableChange Log Show<|endoftext|>Split a large data file into manageable parts and delete the original file>> Split Delete<|endoftext|>Group data by category and log the grouped data.>> GroupBy Log<|endoftext|>Trigger a navigation to the homepage when a button is clicked.>> OnClick Navigate<|endoftext|>Delete old logs from the database and then reduce the remaining logs to summary statistics>> Delete Reduce<|endoftext|>Show a message on the screen after a key is pressed and a timer completes>> OnKeyPress OnTimer Show<|endoftext|>Print a message to the console when the mouse enters an element.>> OnMouseEnter Console<|endoftext|>Delete outdated items from a list and update the display to reflect the changes.>> Delete Update<|endoftext|>Group items by category and display them in a sorted order>> GroupBy Sort Show<|endoftext|>Log the release of a key and stop any playing sound.>> OnKeyRelease Log StopSound<|endoftext|>Fetch weather data, map it to a specific format, and display it in a tooltip when hovering over a weather icon.>> FetchData Map Tooltip<|endoftext|>Fetch the user's profile data and display it on the profile page.>> FetchData Show<|endoftext|>Map user input to a different format and then save the result.>> Map Save<|endoftext|>Split a user list into different segments and log each segment to the console>> Split Console<|endoftext|>Show a tooltip when the mouse enters an element.>> OnMouseEnter Tooltip<|endoftext|>Display a confirmation modal when a user submits a form>> OnSubmit DisplayModal<|endoftext|>Delete expired cache entries and log the deletion action to the console>> Delete Console<|endoftext|>Submit a form and display a confirmation message when the submission is successful>> OnSubmit Show<|endoftext|>Delete a user record when a button is clicked and then log the action.>> OnClick Delete Log<|endoftext|>Display a modal dialog with information when the window is resized>> OnWindowResize DisplayModal<|endoftext|>Map survey responses to a specific format and update the display with the mapped data.>> Map Update<|endoftext|>Log a message every time a user clicks on a button and then display the message on the screen.>> OnClick Log Show<|endoftext|>Branch based on user role and navigate to the appropriate dashboard.>> Branch Navigate<|endoftext|>Highlight important notifications and display them in a prominent section on the screen.>> Highlight Show<|endoftext|>Fetch data from an API and update the display with the new information>> FetchData Update<|endoftext|>Play a sound when a key is pressed and then pause the sound when the key is released>> OnKeyPress PlaySound OnKeyRelease PauseSound<|endoftext|>Delete user data from a database and then display a confirmation message.>> DeleteData Show<|endoftext|>Branch based on user input, fetch related content, and display the content in a modal dialog.>> Branch FetchData DisplayModal<|endoftext|>Delete user data when a button is clicked and display a confirmation message>> OnClick DeleteData Show<|endoftext|>\",\n",
       " \"Group transaction data by date, reduce it to total transactions per day, and render a chart with the daily totals.>> GroupBy Reduce RenderChart<|endoftext|>Play a sound when a key is pressed and log the key value>> OnKeyPress PlaySound Log<|endoftext|>Merge multiple datasets and store the merged result.>> Merge StoreData<|endoftext|>Fetch user profile data, update it with new information, and then save the updated profile to local storage.>> FetchData UpdateData Save<|endoftext|>Assign a new value to a variable when it changes and log the old value.>> OnVariableChange Assign Log<|endoftext|>Fetch and display data in a tooltip when the mouse hovers over an element>> OnMouseEnter FetchData Tooltip<|endoftext|>Navigate to a different URL after 5 seconds when a key is pressed.>> OnKeyPress Delay Navigate<|endoftext|>Play a sound when a key is pressed.>> OnKeyPress PlaySound<|endoftext|>Reduce a list of user scores to find the highest score and display it in the console>> Reduce Console<|endoftext|>Cache the frequently accessed data for faster retrieval and display it.>> CacheData Show<|endoftext|>Group user activity data by type, and then render a chart based on the grouped data.>> GroupBy RenderChart<|endoftext|>Play a sound when the spacebar key is pressed.>> OnKeyPress PlaySound<|endoftext|>Delete outdated session data when a user logs out.>> Delete Log<|endoftext|>Send a request to save form data when the submit button is clicked.>> OnClick SendRequest Save<|endoftext|>Split a dataset and render charts for each part.>> Split RenderChart<|endoftext|>Branch based on user role, fetch relevant data, and then display a different modal based on the role.>> Branch FetchData DisplayModal<|endoftext|>Branch to show different messages based on a variable's value>> Branch Show<|endoftext|>Hide an element when the mouse pointer leaves it and log the action>> OnMouseLeave Hide Log<|endoftext|>Play a sound when a form submission is successful and show a confirmation message on the screen.>> OnSubmit PlaySound Show<|endoftext|>Branch based on user role, fetch relevant data, and then display a different modal based on the role.>> Branch FetchData DisplayModal<|endoftext|>Log the new value of a variable whenever it changes>> OnVariableChange Log<|endoftext|>Log the current time whenever the window is resized and display the time on the screen.>> OnWindowResize Log Show<|endoftext|>Show a tooltip with additional information when the mouse enters an element, and hide the tooltip when the mouse leaves.>> OnMouseEnter Tooltip OnMouseLeave Hide<|endoftext|>Log the window size when it is resized.>> OnWindowResize Log<|endoftext|>Split user feedback into positive and negative comments and close the feedback modal>> Split CloseModal<|endoftext|>Split the data into different sections based on categories and display each separately.>> Split Show<|endoftext|>Highlight an element on mouse enter and hide the highlight on mouse leave.>> OnMouseEnter Highlight OnMouseLeave Hide<|endoftext|>Reduce a list of product prices to find the lowest price and log it to the console>> Reduce Console<|endoftext|>Fetch and cache user data for performance improvement and then display it>> FetchData CacheData Show<|endoftext|>Trigger a modal to display a message about best viewing size when the window is resized.>> OnWindowResize DisplayModal<|endoftext|>Delete user preferences from local storage and close the confirmation modal>> Delete CloseModal<|endoftext|>Update user profile information and then fetch the updated data to display it.>> UpdateData FetchData Show<|endoftext|>Fetch data, sort it by relevance, and then update the display with the sorted data.>> FetchData Sort Update<|endoftext|>Navigate to a different URL when the Escape key is released.>> OnKeyRelease Navigate<|endoftext|>Display a modal when a specific key is pressed.>> OnKeyPress DisplayModal<|endoftext|>Fetch and display user feedback data in a tooltip when a user hovers over a feedback icon.>> FetchData Tooltip<|endoftext|>Show an alert when an item is deleted from the database>> DeleteData Alert<|endoftext|>Close a modal dialog and then reduce a list of numbers to calculate the average>> CloseModal Reduce<|endoftext|>Fetch user profile data, cache it, and then display a modal with the cached data.>> FetchData CacheData DisplayModal<|endoftext|>Log a message every time a user clicks on a button and then display the message on the screen.>> OnClick Log Show<|endoftext|>Log an alert when a key is released and then display the alert message on the screen.>> OnKeyRelease Log Alert<|endoftext|>Show a notification when a user clicks a button and log the notification details.>> OnClick Show Log<|endoftext|>Play a sound on a timer every 10 seconds and stop the sound when the timer ends.>> OnTimer PlaySound OnTimer StopSound<|endoftext|>Filter items based on availability, then merge the filtered data with another dataset, and show the result.>> Filter Merge Show<|endoftext|>Delete user data from a database and then display a confirmation message.>> DeleteData Show<|endoftext|>Display a tooltip when the mouse enters and remove it when the mouse leaves.>> OnMouseEnter Tooltip OnMouseLeave<|endoftext|>Close the confirmation modal after the deletion is successful.>> CloseModal Log<|endoftext|>\",\n",
       " 'Branch based on user role; navigate to admin or user page accordingly>> Branch Navigate<|endoftext|>Highlight selected items in a list and then update the display to reflect the selection changes.>> Highlight Update<|endoftext|>Delete outdated entries after a 5-second delay when a user submits a form>> OnSubmit Delay DeleteData<|endoftext|>Update the display with new data every 5 seconds>> OnTimer Update<|endoftext|>Highlight an element when a specific key is released.>> OnKeyRelease Highlight<|endoftext|>Remove a specific record from the database after a successful network request>> SendRequest DeleteData<|endoftext|>Highlight the active tab when a user switches between tabs.>> Highlight Show<|endoftext|>Log a message when a variable changes value and navigate to another page.>> OnVariableChange Log Navigate<|endoftext|>Fetch user details when a profile button is clicked.>> OnClick FetchData<|endoftext|>Close the modal dialog and then split a list of product details into categories>> CloseModal Split<|endoftext|>Pause the currently playing sound when the mouse leaves a specified area.>> OnMouseLeave PauseSound<|endoftext|>Store user preferences in local storage and then navigate to a confirmation page.>> StoreData Navigate<|endoftext|>Delete unnecessary data entries after closing the data review modal>> Delete CloseModal<|endoftext|>Log the key value when any key is pressed.>> OnKeyPress Log<|endoftext|>Group user activity data by type, and then render a chart based on the grouped data.>> GroupBy RenderChart<|endoftext|>Reduce a list of sales data to find the top 10 sales and delete outdated records>> Reduce Delete<|endoftext|>Branch to different actions based on user input>> Branch Show<|endoftext|>Display an alert when a variable changes and update the display with the new data.>> OnVariableChange Alert Update<|endoftext|>Filter items based on availability, then merge the filtered data with another dataset, and show the result.>> Filter Merge Show<|endoftext|>Map user input data to a specific format and then show the formatted data on the screen.>> Map Show<|endoftext|>Update existing data when a variable changes and then cache the updated data.>> OnVariableChange UpdateData CacheData<|endoftext|>Fetch data from an API, update the data, and then display it in a modal.>> FetchData UpdateData DisplayModal<|endoftext|>Trigger a periodic data refresh every 5 minutes.>> OnTimer FetchData<|endoftext|>Show a tooltip with additional information when an element is clicked>> OnClick Tooltip<|endoftext|>Highlight elements when the window is resized.>> OnWindowResize Highlight<|endoftext|>Map user input data to a specific format and then show the formatted data on the screen.>> Map Show<|endoftext|>Log an alert when a key is released and then display the alert message on the screen.>> OnKeyRelease Log Alert<|endoftext|>Filter customer reviews by rating and display the top reviews in a highlighted section.>> Filter Highlight Show<|endoftext|>Split a dataset into chunks and delete the chunks that are no longer needed>> Split Delete<|endoftext|>Filter out completed tasks and display the remaining tasks in a modal.>> Filter DisplayModal<|endoftext|>Map API response data to a table format and show the table on the screen for review.>> Map Show<|endoftext|>Pause the background music when the mouse leaves a specific area.>> OnMouseLeave PauseSound<|endoftext|>Store data from a form submission and display a confirmation message.>> StoreData Show<|endoftext|>Log the number of page views every time the page is resized and display the view count on the screen.>> OnWindowResize Log Show<|endoftext|>Reduce a list of numbers to their sum and display the total on the screen.>> Reduce Show<|endoftext|>Sort a list of numbers in ascending order and display them on the screen>> Sort Show<|endoftext|>Fetch and cache data for improved performance, then update the display with the fetched data.>> FetchData CacheData Update<|endoftext|>Fetch user profile data after a form is submitted and display it on the screen>> OnSubmit FetchData Show<|endoftext|>Group data by date and render a chart with the grouped information>> GroupBy RenderChart<|endoftext|>Assign a new value to a variable and log the updated value to the console.>> Assign Log<|endoftext|>Store user preferences in a cache and show a tooltip with the preferences when the user hovers over a settings icon.>> StoreData CacheData Tooltip<|endoftext|>Delay for 1 second before logging the current date and time>> Delay Log<|endoftext|>Fetch data from an API and sort it before displaying on the screen.>> FetchData Sort Show<|endoftext|>Assign a new value to a variable and log the updated value to the console.>> Assign Log<|endoftext|>Fetch user details and display them in a tooltip when a profile icon is clicked.>> OnClick FetchData Tooltip<|endoftext|>Trigger an alert after a 2-second delay when a key is pressed>> OnKeyPress Delay Alert<|endoftext|>Assign a value to a variable when the window is resized and log the new value.>> OnWindowResize Assign Log<|endoftext|>Navigate to a different page after a timer triggers>> OnTimer Navigate<|endoftext|>Merge two datasets and then cache the result.>> Merge CacheData<|endoftext|>Show a tooltip with additional information when the mouse enters an element, and hide the tooltip when the mouse leaves.>> OnMouseEnter Tooltip OnMouseLeave Hide<|endoftext|>',\n",
       " 'Assign a new value to a variable when it changes, then display it on the screen.>> OnVariableChange Assign Show<|endoftext|>Update the displayed product list after filtering out unavailable items.>> Update Show<|endoftext|>Delete obsolete cache entries and log the action>> DeleteData Log<|endoftext|>Log the event and update a variable when the mouse enters an element.>> OnMouseEnter Log Assign<|endoftext|>Show a message in the console when the window is resized>> OnWindowResize Console<|endoftext|>Close a modal when a key is released.>> OnKeyRelease CloseModal<|endoftext|>Split a set of records by type and delete obsolete records from each type>> Split Delete<|endoftext|>Stop all sounds when the user clicks the mute button.>> StopSound Log<|endoftext|>Update a displayed value on the screen after a variable has changed>> OnVariableChange Update<|endoftext|>Filter a list of items and cache the filtered results.>> Filter CacheData<|endoftext|>Show a modal dialog when the window is resized and then close the modal when resizing is complete.>> OnWindowResize DisplayModal OnWindowResize CloseModal<|endoftext|>Fetch data from an API, update the data, and then display it in a modal.>> FetchData UpdateData DisplayModal<|endoftext|>Display a confirmation modal when the delete button is clicked.>> DisplayModal Delete Log<|endoftext|>Play a sound every 30 seconds as a reminder, and pause the sound when the user clicks a cancel button.>> OnTimer PlaySound OnClick PauseSound<|endoftext|>Merge two datasets and render a chart with the combined data>> Merge RenderChart<|endoftext|>Save data to the database when an element is clicked.>> OnClick Save<|endoftext|>Update a chart with new data every minute.>> OnTimer FetchData RenderChart<|endoftext|>Highlight form fields with validation errors and display a tooltip with error messages.>> Show Highlight Tooltip<|endoftext|>Start playing a sound when the mouse enters a specific area.>> OnMouseEnter PlaySound<|endoftext|>Sort a list of numbers and find the smallest number using Reduce.>> Sort Reduce Log<|endoftext|>Pause a sound every 10 seconds during a timed event>> OnTimer PauseSound<|endoftext|>Split a long string into sentences and log each sentence to the console>> Split Console<|endoftext|>Show additional information when the mouse enters a tooltip area.>> OnMouseEnter Show<|endoftext|>Save user input data to local storage and then show a confirmation message on the screen.>> OnClick Save Show<|endoftext|>Map user data to a new format and save the result.>> Map StoreData<|endoftext|>Log a confirmation message to the console after a modal dialog is closed>> CloseModal Console<|endoftext|>Filter out invalid entries and display the valid ones on the screen.>> Filter Show<|endoftext|>Reduce a list of cart items to calculate the total amount and display it.>> Reduce Show<|endoftext|>Sort and then filter a list of items before displaying them>> Sort Filter Show<|endoftext|>Store the fetched user settings in a variable and log the operation.>> StoreData Log<|endoftext|>Play a sound and display a modal when the Enter key is pressed.>> OnKeyPress PlaySound DisplayModal<|endoftext|>Save the current state at regular intervals.>> OnTimer Save<|endoftext|>Cache user preferences after they are updated and then log the action>> UpdateData CacheData Log<|endoftext|>Trigger an action when the mouse pointer enters an element and play a sound>> OnMouseEnter PlaySound<|endoftext|>Fetch a list of products, sort them by rating, and display the top-rated products in a modal dialog.>> FetchData Sort DisplayModal<|endoftext|>Hide a loading indicator once the data has been fetched.>> Hide Log<|endoftext|>Display an alert every 10 minutes with a reminder message.>> OnTimer Alert<|endoftext|>Log the current timestamp every time a key is pressed and display the log entries on the screen.>> OnKeyPress Log Show<|endoftext|>Highlight an element when the mouse enters and then display a tooltip with information>> OnMouseEnter Highlight Tooltip<|endoftext|>Fetch data when the window is resized and cache the fetched data.>> OnWindowResize FetchData CacheData<|endoftext|>Show a modal dialog when the window is resized and then close the modal when resizing is complete.>> OnWindowResize DisplayModal OnWindowResize CloseModal<|endoftext|>Fetch the updated content from an API and render a chart when the window is resized.>> OnWindowResize FetchData RenderChart<|endoftext|>Display a tooltip with additional information when the mouse enters an element>> OnMouseEnter Tooltip<|endoftext|>Split a dataset by categories and delete entries from each category after processing>> Split Delete<|endoftext|>Sort products by rating and then show them in the product list.>> Sort Show<|endoftext|>Hide an element when the mouse leaves it.>> OnMouseLeave Hide<|endoftext|>Trigger an action every 5 seconds to fetch data from an API>> OnTimer FetchData<|endoftext|>']"
      ]
     },
     "execution_count": 20,
     "metadata": {},
     "output_type": "execute_result"
    }
   ],
   "execution_count": 20
  },
  {
   "metadata": {
    "ExecuteTime": {
     "end_time": "2024-08-13T18:35:57.895731Z",
     "start_time": "2024-08-13T18:35:57.886647Z"
    }
   },
   "cell_type": "code",
   "source": [
    "# Convert DataFrames to Hugging Face Datasets\n",
    "train_dataset = Dataset.from_pandas(pd.DataFrame(train_concat_sequences, columns=['text']))\n",
    "val_dataset = Dataset.from_pandas(pd.DataFrame(val_concat_sequences, columns=['text']))\n",
    "\n",
    "# Combine into a DatasetDict\n",
    "dataset_dict = DatasetDict({\n",
    "    'train': train_dataset,\n",
    "    'val': val_dataset\n",
    "})\n",
    "dataset_dict"
   ],
   "id": "584d9cb1ac6649b5",
   "outputs": [
    {
     "data": {
      "text/plain": [
       "DatasetDict({\n",
       "    train: Dataset({\n",
       "        features: ['text'],\n",
       "        num_rows: 5\n",
       "    })\n",
       "    val: Dataset({\n",
       "        features: ['text'],\n",
       "        num_rows: 2\n",
       "    })\n",
       "})"
      ]
     },
     "execution_count": 21,
     "metadata": {},
     "output_type": "execute_result"
    }
   ],
   "execution_count": 21
  },
  {
   "metadata": {
    "ExecuteTime": {
     "end_time": "2024-08-13T18:35:58.007216Z",
     "start_time": "2024-08-13T18:35:58.004729Z"
    }
   },
   "cell_type": "code",
   "source": "tokenizer.eos_token, tokenizer.eos_token_id",
   "id": "d7148ef34ebe903",
   "outputs": [
    {
     "data": {
      "text/plain": [
       "('<|endoftext|>', 50256)"
      ]
     },
     "execution_count": 22,
     "metadata": {},
     "output_type": "execute_result"
    }
   ],
   "execution_count": 22
  },
  {
   "metadata": {
    "ExecuteTime": {
     "end_time": "2024-08-13T18:35:59.781722Z",
     "start_time": "2024-08-13T18:35:58.091666Z"
    }
   },
   "cell_type": "code",
   "source": [
    "# tokenizer.pad_token = tokenizer.eos_token\n",
    "def tokenize(element):\n",
    "    outputs = tokenizer(element[\"text\"],\n",
    "                        truncation=True,\n",
    "                        max_length=tokenizer.model_max_length,\n",
    "                        padding='max_length',\n",
    "                        )\n",
    "    return outputs\n",
    "\n",
    "\n",
    "tokenized_datasets = dataset_dict.map(\n",
    "    tokenize, batched=True, remove_columns=dataset_dict[\"train\"].column_names\n",
    ")\n",
    "tokenized_datasets"
   ],
   "id": "90b009db9ed3f1d3",
   "outputs": [
    {
     "data": {
      "text/plain": [
       "Map:   0%|          | 0/5 [00:00<?, ? examples/s]"
      ],
      "application/vnd.jupyter.widget-view+json": {
       "version_major": 2,
       "version_minor": 0,
       "model_id": "a113059055304f7bade530497c08e890"
      }
     },
     "metadata": {},
     "output_type": "display_data"
    },
    {
     "data": {
      "text/plain": [
       "Map:   0%|          | 0/2 [00:00<?, ? examples/s]"
      ],
      "application/vnd.jupyter.widget-view+json": {
       "version_major": 2,
       "version_minor": 0,
       "model_id": "f152e4789618401f8101c48c6d71daf9"
      }
     },
     "metadata": {},
     "output_type": "display_data"
    },
    {
     "data": {
      "text/plain": [
       "DatasetDict({\n",
       "    train: Dataset({\n",
       "        features: ['input_ids', 'attention_mask'],\n",
       "        num_rows: 5\n",
       "    })\n",
       "    val: Dataset({\n",
       "        features: ['input_ids', 'attention_mask'],\n",
       "        num_rows: 2\n",
       "    })\n",
       "})"
      ]
     },
     "execution_count": 23,
     "metadata": {},
     "output_type": "execute_result"
    }
   ],
   "execution_count": 23
  },
  {
   "metadata": {},
   "cell_type": "markdown",
   "source": "# Reshape embedding table in pre-trained GPT2 model for training and create training/validation loops",
   "id": "1a5c73f912dc3a37"
  },
  {
   "metadata": {
    "ExecuteTime": {
     "end_time": "2024-08-13T18:36:00.836431Z",
     "start_time": "2024-08-13T18:35:59.803002Z"
    }
   },
   "cell_type": "code",
   "source": [
    "from transformers import GPT2LMHeadModel, set_seed\n",
    "\n",
    "model = GPT2LMHeadModel.from_pretrained(\"gpt2\")\n",
    "# Prepare model for the new token embeddings\n",
    "embedding_layer = model.resize_token_embeddings(\n",
    "    len(tokenizer))  # Update the model embeddings with the new vocabulary size\n",
    "assert model.transformer.wte.weight.data_ptr() == model.lm_head.weight.data.data_ptr(), \"Weight sharing was broken in the transformer!\""
   ],
   "id": "e610980b6f3b157c",
   "outputs": [],
   "execution_count": 24
  },
  {
   "metadata": {},
   "cell_type": "markdown",
   "source": "## Training/validation loops",
   "id": "307ff124eb86ede9"
  },
  {
   "metadata": {},
   "cell_type": "markdown",
   "source": "### Create a DataLoader classes",
   "id": "9171c7597a0837b6"
  },
  {
   "metadata": {
    "ExecuteTime": {
     "end_time": "2024-08-13T18:36:00.858217Z",
     "start_time": "2024-08-13T18:36:00.854574Z"
    }
   },
   "cell_type": "code",
   "source": [
    "set_seed(42)\n",
    "data_collator = DataCollatorForLanguageModeling(tokenizer=tokenizer, mlm=False, return_tensors=\"pt\")\n",
    "train_dataloader = DataLoader(\n",
    "    tokenized_datasets[\"train\"], shuffle=True, batch_size=1, collate_fn=data_collator\n",
    ")\n",
    "eval_dataloader = DataLoader(\n",
    "    tokenized_datasets[\"val\"], shuffle=False, batch_size=2, collate_fn=data_collator\n",
    ")"
   ],
   "id": "ae226dd27034d35",
   "outputs": [],
   "execution_count": 25
  },
  {
   "metadata": {
    "ExecuteTime": {
     "end_time": "2024-08-13T18:36:00.916561Z",
     "start_time": "2024-08-13T18:36:00.909925Z"
    }
   },
   "cell_type": "code",
   "source": [
    "for batch in eval_dataloader:\n",
    "    break\n",
    "{k: v.shape for k, v in batch.items()}"
   ],
   "id": "e38270018effc079",
   "outputs": [
    {
     "data": {
      "text/plain": [
       "{'input_ids': torch.Size([2, 1024]),\n",
       " 'attention_mask': torch.Size([2, 1024]),\n",
       " 'labels': torch.Size([2, 1024])}"
      ]
     },
     "execution_count": 26,
     "metadata": {},
     "output_type": "execute_result"
    }
   ],
   "execution_count": 26
  },
  {
   "metadata": {
    "ExecuteTime": {
     "end_time": "2024-08-13T18:36:05.870182Z",
     "start_time": "2024-08-13T18:36:01.870236Z"
    }
   },
   "cell_type": "code",
   "source": [
    "with torch.no_grad():\n",
    "    outputs = model(**batch)\n",
    "    print(outputs.loss, outputs.logits.shape)"
   ],
   "id": "40926b72439b6fb3",
   "outputs": [
    {
     "name": "stdout",
     "output_type": "stream",
     "text": [
      "tensor(94.5092) torch.Size([2, 1024, 50258])\n"
     ]
    }
   ],
   "execution_count": 27
  },
  {
   "metadata": {
    "ExecuteTime": {
     "end_time": "2024-08-13T18:36:05.896948Z",
     "start_time": "2024-08-13T18:36:05.892567Z"
    }
   },
   "cell_type": "code",
   "source": "tokenizer.decode(batch['input_ids'][0], skip_special_tokens=False)",
   "id": "916c2d9f80693a90",
   "outputs": [
    {
     "data": {
      "text/plain": [
       "\"Highlight a text box when the mouse enters and display a tooltip.>> OnMouseEnter Highlight Tooltip<|endoftext|>Highlight an element on mouse enter and hide the highlight on mouse leave.>> OnMouseEnter Highlight OnMouseLeave Hide<|endoftext|>Display a modal dialog when a timer triggers every 5 seconds.>> OnTimer DisplayModal<|endoftext|>Log a message when the mouse enters a button area.>> OnMouseEnter Log<|endoftext|>Display an alert when the value of a specific variable is updated.>> OnVariableChange Alert<|endoftext|>Navigate to the dashboard page after successful login.>> Navigate Show<|endoftext|>Filter out irrelevant data and then merge the filtered data with another dataset before showing it.>> Filter Merge Show<|endoftext|>Split a large file into smaller segments and delete the original file>> Split Delete<|endoftext|>Hide an element's tooltip when the mouse leaves the element.>> OnMouseLeave Hide<|endoftext|>Save form data when a submit button is clicked.>> OnClick Save<|endoftext|>Fetch and store user data in a cache, then display the cached data in a tooltip when the user hovers over a profile picture.>> FetchData CacheData Tooltip<|endoftext|>Group event logs by type, reduce them to a summary count, and render a chart with the summarized data.>> GroupBy Reduce RenderChart<|endoftext|>Navigate to a different page when a specific key is released>> OnKeyRelease Navigate<|endoftext|>Show a tooltip with user information on mouse hover over a profile picture.>> Tooltip Show<|endoftext|>Hide an element when the window is resized>> OnWindowResize Hide<|endoftext|>Play a sound when the mouse enters a specific area.>> OnMouseEnter PlaySound<|endoftext|>Trigger an alert when a specific variable changes value>> OnVariableChange Alert<|endoftext|>Delete an old record and log the deletion event.>> DeleteData Log<|endoftext|>Show a tooltip with additional details when the mouse hovers over a chart element, and hide the tooltip when the mouse leaves.>> OnMouseEnter Tooltip OnMouseLeave Hide<|endoftext|>Branch based on a user’s choice, fetch corresponding data, and display it.>> Branch FetchData Show<|endoftext|>Highlight a selected element, and then update the display to reflect the selection.>> Highlight Update<|endoftext|>Group comments by author, sort them by date, and display the sorted comments in a highlighted section.>> GroupBy Sort Highlight Show<|endoftext|>Play a sound on a timer every 10 seconds and stop the sound when the timer ends.>> OnTimer PlaySound OnTimer StopSound<|endoftext|>Assign new values to multiple variables and log the updated values for debugging purposes.>> Assign Log<|endoftext|>Fetch and cache search results, and then update the search results display using cached data.>> FetchData CacheData Update<|endoftext|>Delete outdated records from the database and then close the modal dialog>> DeleteData CloseModal<|endoftext|>Trigger an alert when a variable changes to 'true' and log the event.>> OnVariableChange Alert Log<|endoftext|>Sort a list of names alphabetically and display them on the screen.>> Sort Show<|endoftext|>Reduce the number of items in a list to a specific threshold and log the result>> Reduce Console<|endoftext|>Delete old session data and log the deletion process for auditing purposes.>> Delete Log<|endoftext|>Display a modal dialog with user feedback when a button is clicked>> OnClick DisplayModal<|endoftext|>Fetch data, sort it by relevance, and then update the display with the sorted data.>> FetchData Sort Update<|endoftext|>Update the user's settings based on form input and save them.>> UpdateData Save<|endoftext|>Sort items by rating and then display the top-rated items on the screen.>> Sort Show<|endoftext|>Fetch user profile data and store it in local storage when a form is submitted>> OnSubmit FetchData StoreData<|endoftext|>Sort a list of user names alphabetically and display them>> Sort Show<|endoftext|>Delete records older than 1 year and then update the display to reflect the changes.>> Delete Update<|endoftext|>Play a notification sound when a new message is received.>> PlaySound Show<|endoftext|>Filter items based on user preferences and then merge the filtered items with another dataset before displaying them.>> Filter Merge Show<|endoftext|>Adjust the layout of the page when the window is resized and log the new dimensions.>> OnWindowResize Update Log<|endoftext|>Display a tooltip with additional info when a key is released.>> OnKeyRelease Tooltip<|endoftext|>Fetch the latest news articles, filter out non-relevant ones, and display the filtered articles in a modal.>> FetchData Filter DisplayModal<|endoftext|>Pause a currently playing sound when a specific key is pressed and resume it when the key is released.>> OnKeyPress PauseSound OnKeyRelease PlaySound<|endoftext|>Split a string into multiple parts and log each part separately.>> Split Log<|endoftext|>Trigger a sound to play when the window is resized and stop the sound when the resize ends.>> OnWindowResize PlaySound OnWindowResize StopSound<|endoftext|>Send a request when a variable changes and update the data displayed.>> OnVariableChange SendRequest Update<|endoftext|>Check if a user is logged in before navigating to the dashboard>> Branch Navigate<|endoftext|>Group data by category and sort the groups by name before displaying>> GroupBy Sort Show<|endoftext|><|PAD|><|PAD|><|PAD|><|PAD|><|PAD|><|PAD|><|PAD|><|PAD|><|PAD|><|PAD|><|PAD|><|PAD|><|PAD|><|PAD|><|PAD|>\""
      ]
     },
     "execution_count": 28,
     "metadata": {},
     "output_type": "execute_result"
    }
   ],
   "execution_count": 28
  },
  {
   "metadata": {
    "ExecuteTime": {
     "end_time": "2024-08-13T18:36:05.999417Z",
     "start_time": "2024-08-13T18:36:05.995020Z"
    }
   },
   "cell_type": "code",
   "source": "tokenizer.decode(batch['labels'][0][batch['labels'][0] != -100], skip_special_tokens=False)",
   "id": "34e663219584279a",
   "outputs": [
    {
     "data": {
      "text/plain": [
       "\"Highlight a text box when the mouse enters and display a tooltip.>> OnMouseEnter Highlight Tooltip<|endoftext|>Highlight an element on mouse enter and hide the highlight on mouse leave.>> OnMouseEnter Highlight OnMouseLeave Hide<|endoftext|>Display a modal dialog when a timer triggers every 5 seconds.>> OnTimer DisplayModal<|endoftext|>Log a message when the mouse enters a button area.>> OnMouseEnter Log<|endoftext|>Display an alert when the value of a specific variable is updated.>> OnVariableChange Alert<|endoftext|>Navigate to the dashboard page after successful login.>> Navigate Show<|endoftext|>Filter out irrelevant data and then merge the filtered data with another dataset before showing it.>> Filter Merge Show<|endoftext|>Split a large file into smaller segments and delete the original file>> Split Delete<|endoftext|>Hide an element's tooltip when the mouse leaves the element.>> OnMouseLeave Hide<|endoftext|>Save form data when a submit button is clicked.>> OnClick Save<|endoftext|>Fetch and store user data in a cache, then display the cached data in a tooltip when the user hovers over a profile picture.>> FetchData CacheData Tooltip<|endoftext|>Group event logs by type, reduce them to a summary count, and render a chart with the summarized data.>> GroupBy Reduce RenderChart<|endoftext|>Navigate to a different page when a specific key is released>> OnKeyRelease Navigate<|endoftext|>Show a tooltip with user information on mouse hover over a profile picture.>> Tooltip Show<|endoftext|>Hide an element when the window is resized>> OnWindowResize Hide<|endoftext|>Play a sound when the mouse enters a specific area.>> OnMouseEnter PlaySound<|endoftext|>Trigger an alert when a specific variable changes value>> OnVariableChange Alert<|endoftext|>Delete an old record and log the deletion event.>> DeleteData Log<|endoftext|>Show a tooltip with additional details when the mouse hovers over a chart element, and hide the tooltip when the mouse leaves.>> OnMouseEnter Tooltip OnMouseLeave Hide<|endoftext|>Branch based on a user’s choice, fetch corresponding data, and display it.>> Branch FetchData Show<|endoftext|>Highlight a selected element, and then update the display to reflect the selection.>> Highlight Update<|endoftext|>Group comments by author, sort them by date, and display the sorted comments in a highlighted section.>> GroupBy Sort Highlight Show<|endoftext|>Play a sound on a timer every 10 seconds and stop the sound when the timer ends.>> OnTimer PlaySound OnTimer StopSound<|endoftext|>Assign new values to multiple variables and log the updated values for debugging purposes.>> Assign Log<|endoftext|>Fetch and cache search results, and then update the search results display using cached data.>> FetchData CacheData Update<|endoftext|>Delete outdated records from the database and then close the modal dialog>> DeleteData CloseModal<|endoftext|>Trigger an alert when a variable changes to 'true' and log the event.>> OnVariableChange Alert Log<|endoftext|>Sort a list of names alphabetically and display them on the screen.>> Sort Show<|endoftext|>Reduce the number of items in a list to a specific threshold and log the result>> Reduce Console<|endoftext|>Delete old session data and log the deletion process for auditing purposes.>> Delete Log<|endoftext|>Display a modal dialog with user feedback when a button is clicked>> OnClick DisplayModal<|endoftext|>Fetch data, sort it by relevance, and then update the display with the sorted data.>> FetchData Sort Update<|endoftext|>Update the user's settings based on form input and save them.>> UpdateData Save<|endoftext|>Sort items by rating and then display the top-rated items on the screen.>> Sort Show<|endoftext|>Fetch user profile data and store it in local storage when a form is submitted>> OnSubmit FetchData StoreData<|endoftext|>Sort a list of user names alphabetically and display them>> Sort Show<|endoftext|>Delete records older than 1 year and then update the display to reflect the changes.>> Delete Update<|endoftext|>Play a notification sound when a new message is received.>> PlaySound Show<|endoftext|>Filter items based on user preferences and then merge the filtered items with another dataset before displaying them.>> Filter Merge Show<|endoftext|>Adjust the layout of the page when the window is resized and log the new dimensions.>> OnWindowResize Update Log<|endoftext|>Display a tooltip with additional info when a key is released.>> OnKeyRelease Tooltip<|endoftext|>Fetch the latest news articles, filter out non-relevant ones, and display the filtered articles in a modal.>> FetchData Filter DisplayModal<|endoftext|>Pause a currently playing sound when a specific key is pressed and resume it when the key is released.>> OnKeyPress PauseSound OnKeyRelease PlaySound<|endoftext|>Split a string into multiple parts and log each part separately.>> Split Log<|endoftext|>Trigger a sound to play when the window is resized and stop the sound when the resize ends.>> OnWindowResize PlaySound OnWindowResize StopSound<|endoftext|>Send a request when a variable changes and update the data displayed.>> OnVariableChange SendRequest Update<|endoftext|>Check if a user is logged in before navigating to the dashboard>> Branch Navigate<|endoftext|>Group data by category and sort the groups by name before displaying>> GroupBy Sort Show<|endoftext|>\""
      ]
     },
     "execution_count": 29,
     "metadata": {},
     "output_type": "execute_result"
    }
   ],
   "execution_count": 29
  },
  {
   "metadata": {},
   "cell_type": "markdown",
   "source": "### Create custom training loop",
   "id": "3549f05931ddf713"
  },
  {
   "metadata": {
    "ExecuteTime": {
     "end_time": "2024-08-13T18:36:06.247486Z",
     "start_time": "2024-08-13T18:36:06.087236Z"
    }
   },
   "cell_type": "code",
   "source": [
    "model.to(device)\n",
    "\n",
    "# Freeze all layers\n",
    "for param in model.parameters():\n",
    "    param.requires_grad = False\n",
    "\n",
    "# Unfreeze the lm_head layer\n",
    "model.transformer.wte.weight.requires_grad = True\n",
    "\n",
    "\n",
    "# Function to print weights of all unfrozen layers\n",
    "def print_unfrozen_weights(model):\n",
    "    for name, param in model.named_parameters():\n",
    "        if param.requires_grad:\n",
    "            print(f'Trainable Layer: {name}')\n",
    "\n",
    "\n",
    "# Print weights of unfrozen layers\n",
    "print_unfrozen_weights(model)"
   ],
   "id": "ddd5d1c4b0a252d7",
   "outputs": [
    {
     "name": "stdout",
     "output_type": "stream",
     "text": [
      "Trainable Layer: transformer.wte.weight\n"
     ]
    }
   ],
   "execution_count": 30
  },
  {
   "metadata": {
    "ExecuteTime": {
     "end_time": "2024-08-13T18:36:11.427139Z",
     "start_time": "2024-08-13T18:36:06.410462Z"
    }
   },
   "cell_type": "code",
   "source": [
    "@torch.no_grad()\n",
    "def generate_text(model, split, dataset):\n",
    "    set_seed(42)\n",
    "    gt_labels = []\n",
    "    model_generated = []\n",
    "    for i in tqdm(range(len(dataset[split]))):\n",
    "        input_text = pd.DataFrame(dataset[split])['Prompt'][i] + SPECIAL_TOKEN_TO_PREDICT\n",
    "        # Tokenize input\n",
    "        input_ids = tokenizer.encode(input_text, return_tensors='pt')\n",
    "        output = model.generate(input_ids=input_ids.to(device),\n",
    "                                do_sample=True,\n",
    "                                max_new_tokens=10,\n",
    "                                pad_token_id=tokenizer.pad_token_id,\n",
    "                                eos_token_id=tokenizer.eos_token_id,\n",
    "                                top_k=20,\n",
    "                                top_p=0.95,\n",
    "                                )\n",
    "\n",
    "        # Decode the output\n",
    "        decoded_output = tokenizer.decode(output[0], skip_special_tokens=True)\n",
    "        pred_labels = decoded_output.split('>>')[1].strip()\n",
    "        model_generated.append(pred_labels)\n",
    "\n",
    "        gt_label = ' '.join(pd.DataFrame(dataset[split])['Nodes List'][i])\n",
    "        gt_labels.append(gt_label)\n",
    "    return model_generated, gt_labels\n",
    "\n",
    "\n",
    "rouge = evaluate.load('rouge')\n",
    "\n",
    "\n",
    "def compute_rouge(model, split, dataset):\n",
    "    model.eval()\n",
    "    model_generated, gt_labels = generate_text(model=model, split=split, dataset=dataset)\n",
    "    results = rouge.compute(predictions=model_generated,\n",
    "                            references=gt_labels,\n",
    "                            use_aggregator=True,\n",
    "                            use_stemmer=True,\n",
    "                            )\n",
    "    return results\n",
    "\n",
    "\n",
    "compute_rouge(model=model, split='test', dataset=raw_datasets)"
   ],
   "id": "a6215ae4fc1a2d40",
   "outputs": [
    {
     "data": {
      "text/plain": [
       "  0%|          | 0/62 [00:00<?, ?it/s]"
      ],
      "application/vnd.jupyter.widget-view+json": {
       "version_major": 2,
       "version_minor": 0,
       "model_id": "59f5c1cc50e347a6a7a0636a7b8e081f"
      }
     },
     "metadata": {},
     "output_type": "display_data"
    },
    {
     "data": {
      "text/plain": [
       "{'rouge1': 0.0, 'rouge2': 0.0, 'rougeL': 0.0, 'rougeLsum': 0.0}"
      ]
     },
     "execution_count": 31,
     "metadata": {},
     "output_type": "execute_result"
    }
   ],
   "execution_count": 31
  },
  {
   "metadata": {
    "ExecuteTime": {
     "end_time": "2024-08-13T18:36:11.531615Z",
     "start_time": "2024-08-13T18:36:11.526789Z"
    }
   },
   "cell_type": "code",
   "source": [
    "def configure_optimizers(model, weight_decay, learning_rate, device_type):\n",
    "    # start with all of the candidate parameters (that require grad)\n",
    "    param_dict = {pn: p for pn, p in model.named_parameters()}\n",
    "    param_dict = {pn: p for pn, p in param_dict.items() if p.requires_grad}\n",
    "    # create optim groups. Any parameters that is 2D will be weight decayed, otherwise no.\n",
    "    # i.e. all weight tensors in matmuls + embeddings decay, all biases and layernorms don't.\n",
    "    decay_params = [p for n, p in param_dict.items() if p.dim() >= 2]\n",
    "    nodecay_params = [p for n, p in param_dict.items() if p.dim() < 2]\n",
    "    optim_groups = [\n",
    "        {'params': decay_params, 'weight_decay': weight_decay},\n",
    "        {'params': nodecay_params, 'weight_decay': 0.0}\n",
    "    ]\n",
    "    num_decay_params = sum(p.numel() for p in decay_params)\n",
    "    num_nodecay_params = sum(p.numel() for p in nodecay_params)\n",
    "    print(f\"num decayed parameter tensors: {len(decay_params)}, with {num_decay_params:,} parameters\")\n",
    "    print(f\"num non-decayed parameter tensors: {len(nodecay_params)}, with {num_nodecay_params:,} parameters\")\n",
    "    # Create AdamW optimizer and use the fused version if it is available\n",
    "    fused_available = 'fused' in inspect.signature(torch.optim.AdamW).parameters\n",
    "    use_fused = fused_available and device_type == \"cuda\"\n",
    "    optimizer = torch.optim.AdamW(optim_groups, lr=learning_rate, betas=(0.9, 0.95), eps=1e-8, fused=use_fused)\n",
    "    return optimizer\n",
    "\n",
    "\n",
    "optimizer = configure_optimizers(model=model, weight_decay=0.1, learning_rate=1e-3, device_type=device)"
   ],
   "id": "46c413c682045c4d",
   "outputs": [
    {
     "name": "stdout",
     "output_type": "stream",
     "text": [
      "num decayed parameter tensors: 1, with 38,598,144 parameters\n",
      "num non-decayed parameter tensors: 0, with 0 parameters\n"
     ]
    }
   ],
   "execution_count": 32
  },
  {
   "metadata": {
    "ExecuteTime": {
     "end_time": "2024-08-13T18:36:11.744610Z",
     "start_time": "2024-08-13T18:36:11.738905Z"
    }
   },
   "cell_type": "code",
   "source": [
    "# @torch.no_grad()\n",
    "# def eval_loop(model):\n",
    "#     model.eval()\n",
    "#     avg_loss = []\n",
    "#     for batch in tqdm(eval_dataloader):\n",
    "#         batch = {k: v.to(device) for k, v in batch.items()}\n",
    "#         outputs = model(**batch)\n",
    "#         avg_loss.append(outputs.loss.item())\n",
    "#     return np.mean(avg_loss)\n",
    "\n",
    "\n",
    "best_val_rouge1 = -1\n",
    "\n",
    "\n",
    "def train_loop(num_epochs, eval_every_epoch=2):\n",
    "    global best_val_rouge1\n",
    "    model.train()\n",
    "    train_loss_list = []\n",
    "    best_train_loss = float('inf')\n",
    "    # best_val_loss = float('inf')\n",
    "    for epoch in range(num_epochs):\n",
    "        print('Epoch: ', epoch)\n",
    "        for batch in tqdm(train_dataloader):\n",
    "            batch = {k: v.to(device) for k, v in batch.items()}\n",
    "            optimizer.zero_grad()\n",
    "            with torch.autocast(device_type='cuda', dtype=torch.bfloat16):\n",
    "                outputs = model(**batch)\n",
    "            loss = outputs.loss\n",
    "            loss.backward()\n",
    "            torch.nn.utils.clip_grad_norm_(model.parameters(), 1)  # clip grads\n",
    "            optimizer.step()\n",
    "            train_loss_list.append(loss.item())\n",
    "        train_loss = np.mean(train_loss_list)\n",
    "        print(f'Epoch {epoch} train loss: {round(train_loss, 4)}')\n",
    "        train_loss_list = []\n",
    "        if train_loss < best_train_loss:\n",
    "            best_train_loss = train_loss\n",
    "            torch.save(model, 'best_train_loss_model.pt')\n",
    "        if epoch % eval_every_epoch and epoch > 0:\n",
    "            print('\\tEval...')\n",
    "            rouge1 = compute_rouge(model=model, split='test', dataset=raw_datasets)['rouge1']\n",
    "            model.train()\n",
    "            print('\\tEvaluation rouge1 score:', round(rouge1, 5), end=' <> ')\n",
    "            if rouge1 > best_val_rouge1:\n",
    "                best_val_rouge1 = rouge1\n",
    "                torch.save(model, 'best_val_rouge1_model.pt')\n",
    "            # val_loss = val_loss(model)\n",
    "            # if val_loss < best_val_loss:\n",
    "            #     best_val_loss = val_loss\n",
    "            #     torch.save(model, 'best_val_loss_model.pt')\n",
    "            print('Best val rouge1 up to now: ', round(best_val_rouge1, 5))"
   ],
   "id": "cf60456593598ea1",
   "outputs": [],
   "execution_count": 33
  },
  {
   "metadata": {
    "ExecuteTime": {
     "end_time": "2024-08-13T18:39:18.570827Z",
     "start_time": "2024-08-13T18:36:15.390970Z"
    }
   },
   "cell_type": "code",
   "source": "train_loop(50)",
   "id": "68a82e7ec227b365",
   "outputs": [
    {
     "name": "stdout",
     "output_type": "stream",
     "text": [
      "Epoch:  0\n"
     ]
    },
    {
     "data": {
      "text/plain": [
       "  0%|          | 0/5 [00:00<?, ?it/s]"
      ],
      "application/vnd.jupyter.widget-view+json": {
       "version_major": 2,
       "version_minor": 0,
       "model_id": "a85872b6099f4b4b96962f254c59a05e"
      }
     },
     "metadata": {},
     "output_type": "display_data"
    },
    {
     "name": "stdout",
     "output_type": "stream",
     "text": [
      "Epoch 0 train loss: 88.3474\n",
      "Epoch:  1\n"
     ]
    },
    {
     "data": {
      "text/plain": [
       "  0%|          | 0/5 [00:00<?, ?it/s]"
      ],
      "application/vnd.jupyter.widget-view+json": {
       "version_major": 2,
       "version_minor": 0,
       "model_id": "f3802d6b62c340f7a647dd537f98416e"
      }
     },
     "metadata": {},
     "output_type": "display_data"
    },
    {
     "name": "stdout",
     "output_type": "stream",
     "text": [
      "Epoch 1 train loss: 79.8437\n",
      "\tEval...\n"
     ]
    },
    {
     "data": {
      "text/plain": [
       "  0%|          | 0/62 [00:00<?, ?it/s]"
      ],
      "application/vnd.jupyter.widget-view+json": {
       "version_major": 2,
       "version_minor": 0,
       "model_id": "e8f276b3e9ac46a58682ad76118eeefd"
      }
     },
     "metadata": {},
     "output_type": "display_data"
    },
    {
     "name": "stdout",
     "output_type": "stream",
     "text": [
      "\tEvaluation rouge1 score: 0.0 <> Best val rouge1 up to now:  0.0\n",
      "Epoch:  2\n"
     ]
    },
    {
     "data": {
      "text/plain": [
       "  0%|          | 0/5 [00:00<?, ?it/s]"
      ],
      "application/vnd.jupyter.widget-view+json": {
       "version_major": 2,
       "version_minor": 0,
       "model_id": "5fe9c66941dc4c4781c31a0264f860b5"
      }
     },
     "metadata": {},
     "output_type": "display_data"
    },
    {
     "name": "stdout",
     "output_type": "stream",
     "text": [
      "Epoch 2 train loss: 69.2924\n",
      "Epoch:  3\n"
     ]
    },
    {
     "data": {
      "text/plain": [
       "  0%|          | 0/5 [00:00<?, ?it/s]"
      ],
      "application/vnd.jupyter.widget-view+json": {
       "version_major": 2,
       "version_minor": 0,
       "model_id": "e0611041701945b584824e8e1ae2bae3"
      }
     },
     "metadata": {},
     "output_type": "display_data"
    },
    {
     "name": "stdout",
     "output_type": "stream",
     "text": [
      "Epoch 3 train loss: 62.0737\n",
      "\tEval...\n"
     ]
    },
    {
     "data": {
      "text/plain": [
       "  0%|          | 0/62 [00:00<?, ?it/s]"
      ],
      "application/vnd.jupyter.widget-view+json": {
       "version_major": 2,
       "version_minor": 0,
       "model_id": "4acd3cb9d13f4f32a708ece5023da160"
      }
     },
     "metadata": {},
     "output_type": "display_data"
    },
    {
     "name": "stdout",
     "output_type": "stream",
     "text": [
      "\tEvaluation rouge1 score: 0.0 <> Best val rouge1 up to now:  0.0\n",
      "Epoch:  4\n"
     ]
    },
    {
     "data": {
      "text/plain": [
       "  0%|          | 0/5 [00:00<?, ?it/s]"
      ],
      "application/vnd.jupyter.widget-view+json": {
       "version_major": 2,
       "version_minor": 0,
       "model_id": "af06ac23fc0e4813a408c634dcdf3fc8"
      }
     },
     "metadata": {},
     "output_type": "display_data"
    },
    {
     "name": "stdout",
     "output_type": "stream",
     "text": [
      "Epoch 4 train loss: 52.3361\n",
      "Epoch:  5\n"
     ]
    },
    {
     "data": {
      "text/plain": [
       "  0%|          | 0/5 [00:00<?, ?it/s]"
      ],
      "application/vnd.jupyter.widget-view+json": {
       "version_major": 2,
       "version_minor": 0,
       "model_id": "ae7f5f5b928b49ce86f5b71998ed5344"
      }
     },
     "metadata": {},
     "output_type": "display_data"
    },
    {
     "name": "stdout",
     "output_type": "stream",
     "text": [
      "Epoch 5 train loss: 45.5187\n",
      "\tEval...\n"
     ]
    },
    {
     "data": {
      "text/plain": [
       "  0%|          | 0/62 [00:00<?, ?it/s]"
      ],
      "application/vnd.jupyter.widget-view+json": {
       "version_major": 2,
       "version_minor": 0,
       "model_id": "7b745f53599b446bac7897b7db5086d1"
      }
     },
     "metadata": {},
     "output_type": "display_data"
    },
    {
     "name": "stdout",
     "output_type": "stream",
     "text": [
      "\tEvaluation rouge1 score: 0.0 <> Best val rouge1 up to now:  0.0\n",
      "Epoch:  6\n"
     ]
    },
    {
     "data": {
      "text/plain": [
       "  0%|          | 0/5 [00:00<?, ?it/s]"
      ],
      "application/vnd.jupyter.widget-view+json": {
       "version_major": 2,
       "version_minor": 0,
       "model_id": "2995191cbaba4f628a1a1bc25f0354ea"
      }
     },
     "metadata": {},
     "output_type": "display_data"
    },
    {
     "name": "stdout",
     "output_type": "stream",
     "text": [
      "Epoch 6 train loss: 38.4625\n",
      "Epoch:  7\n"
     ]
    },
    {
     "data": {
      "text/plain": [
       "  0%|          | 0/5 [00:00<?, ?it/s]"
      ],
      "application/vnd.jupyter.widget-view+json": {
       "version_major": 2,
       "version_minor": 0,
       "model_id": "1eac978f1b5f4f3082b90ed3f6a2b52d"
      }
     },
     "metadata": {},
     "output_type": "display_data"
    },
    {
     "name": "stdout",
     "output_type": "stream",
     "text": [
      "Epoch 7 train loss: 31.616\n",
      "\tEval...\n"
     ]
    },
    {
     "data": {
      "text/plain": [
       "  0%|          | 0/62 [00:00<?, ?it/s]"
      ],
      "application/vnd.jupyter.widget-view+json": {
       "version_major": 2,
       "version_minor": 0,
       "model_id": "b893469edc6848c3bc9ed8d620b6b8aa"
      }
     },
     "metadata": {},
     "output_type": "display_data"
    },
    {
     "name": "stdout",
     "output_type": "stream",
     "text": [
      "\tEvaluation rouge1 score: 0.0 <> Best val rouge1 up to now:  0.0\n",
      "Epoch:  8\n"
     ]
    },
    {
     "data": {
      "text/plain": [
       "  0%|          | 0/5 [00:00<?, ?it/s]"
      ],
      "application/vnd.jupyter.widget-view+json": {
       "version_major": 2,
       "version_minor": 0,
       "model_id": "886251727479460db5c168c22e73ae56"
      }
     },
     "metadata": {},
     "output_type": "display_data"
    },
    {
     "name": "stdout",
     "output_type": "stream",
     "text": [
      "Epoch 8 train loss: 25.3893\n",
      "Epoch:  9\n"
     ]
    },
    {
     "data": {
      "text/plain": [
       "  0%|          | 0/5 [00:00<?, ?it/s]"
      ],
      "application/vnd.jupyter.widget-view+json": {
       "version_major": 2,
       "version_minor": 0,
       "model_id": "99f35ff609ad4b20968441aeb8f3f15b"
      }
     },
     "metadata": {},
     "output_type": "display_data"
    },
    {
     "name": "stdout",
     "output_type": "stream",
     "text": [
      "Epoch 9 train loss: 19.6441\n",
      "\tEval...\n"
     ]
    },
    {
     "data": {
      "text/plain": [
       "  0%|          | 0/62 [00:00<?, ?it/s]"
      ],
      "application/vnd.jupyter.widget-view+json": {
       "version_major": 2,
       "version_minor": 0,
       "model_id": "9e213cbce34f4e6abf98c73edb4ef08a"
      }
     },
     "metadata": {},
     "output_type": "display_data"
    },
    {
     "name": "stdout",
     "output_type": "stream",
     "text": [
      "\tEvaluation rouge1 score: 0.0 <> Best val rouge1 up to now:  0.0\n",
      "Epoch:  10\n"
     ]
    },
    {
     "data": {
      "text/plain": [
       "  0%|          | 0/5 [00:00<?, ?it/s]"
      ],
      "application/vnd.jupyter.widget-view+json": {
       "version_major": 2,
       "version_minor": 0,
       "model_id": "38103d9f38f14093865cfbf8b6a59f13"
      }
     },
     "metadata": {},
     "output_type": "display_data"
    },
    {
     "name": "stdout",
     "output_type": "stream",
     "text": [
      "Epoch 10 train loss: 14.6856\n",
      "Epoch:  11\n"
     ]
    },
    {
     "data": {
      "text/plain": [
       "  0%|          | 0/5 [00:00<?, ?it/s]"
      ],
      "application/vnd.jupyter.widget-view+json": {
       "version_major": 2,
       "version_minor": 0,
       "model_id": "e631da1379f842fb879c15e5377be61b"
      }
     },
     "metadata": {},
     "output_type": "display_data"
    },
    {
     "name": "stdout",
     "output_type": "stream",
     "text": [
      "Epoch 11 train loss: 10.8752\n",
      "\tEval...\n"
     ]
    },
    {
     "data": {
      "text/plain": [
       "  0%|          | 0/62 [00:00<?, ?it/s]"
      ],
      "application/vnd.jupyter.widget-view+json": {
       "version_major": 2,
       "version_minor": 0,
       "model_id": "7b67bf1f685c47d4a90b53a5ed708dfc"
      }
     },
     "metadata": {},
     "output_type": "display_data"
    },
    {
     "name": "stdout",
     "output_type": "stream",
     "text": [
      "\tEvaluation rouge1 score: 0.0 <> Best val rouge1 up to now:  0.0\n",
      "Epoch:  12\n"
     ]
    },
    {
     "data": {
      "text/plain": [
       "  0%|          | 0/5 [00:00<?, ?it/s]"
      ],
      "application/vnd.jupyter.widget-view+json": {
       "version_major": 2,
       "version_minor": 0,
       "model_id": "1d026ee3bc004bad98c1ce90ced8d8e3"
      }
     },
     "metadata": {},
     "output_type": "display_data"
    },
    {
     "name": "stdout",
     "output_type": "stream",
     "text": [
      "Epoch 12 train loss: 9.3438\n",
      "Epoch:  13\n"
     ]
    },
    {
     "data": {
      "text/plain": [
       "  0%|          | 0/5 [00:00<?, ?it/s]"
      ],
      "application/vnd.jupyter.widget-view+json": {
       "version_major": 2,
       "version_minor": 0,
       "model_id": "a6bc37445ee345509810a700fb5ebf79"
      }
     },
     "metadata": {},
     "output_type": "display_data"
    },
    {
     "name": "stdout",
     "output_type": "stream",
     "text": [
      "Epoch 13 train loss: 7.2663\n",
      "\tEval...\n"
     ]
    },
    {
     "data": {
      "text/plain": [
       "  0%|          | 0/62 [00:00<?, ?it/s]"
      ],
      "application/vnd.jupyter.widget-view+json": {
       "version_major": 2,
       "version_minor": 0,
       "model_id": "5d77d7450e224161bc2259b33a856d21"
      }
     },
     "metadata": {},
     "output_type": "display_data"
    },
    {
     "name": "stdout",
     "output_type": "stream",
     "text": [
      "\tEvaluation rouge1 score: 0.0 <> Best val rouge1 up to now:  0.0\n",
      "Epoch:  14\n"
     ]
    },
    {
     "data": {
      "text/plain": [
       "  0%|          | 0/5 [00:00<?, ?it/s]"
      ],
      "application/vnd.jupyter.widget-view+json": {
       "version_major": 2,
       "version_minor": 0,
       "model_id": "76bde923a1e5494c9e2a0ec510bf7247"
      }
     },
     "metadata": {},
     "output_type": "display_data"
    },
    {
     "name": "stdout",
     "output_type": "stream",
     "text": [
      "Epoch 14 train loss: 5.849\n",
      "Epoch:  15\n"
     ]
    },
    {
     "data": {
      "text/plain": [
       "  0%|          | 0/5 [00:00<?, ?it/s]"
      ],
      "application/vnd.jupyter.widget-view+json": {
       "version_major": 2,
       "version_minor": 0,
       "model_id": "2f66aac2c926478592c4502ad9b02e26"
      }
     },
     "metadata": {},
     "output_type": "display_data"
    },
    {
     "name": "stdout",
     "output_type": "stream",
     "text": [
      "Epoch 15 train loss: 5.0049\n",
      "\tEval...\n"
     ]
    },
    {
     "data": {
      "text/plain": [
       "  0%|          | 0/62 [00:00<?, ?it/s]"
      ],
      "application/vnd.jupyter.widget-view+json": {
       "version_major": 2,
       "version_minor": 0,
       "model_id": "9d9c3e801c254b71b9a2df59f18b4064"
      }
     },
     "metadata": {},
     "output_type": "display_data"
    },
    {
     "name": "stdout",
     "output_type": "stream",
     "text": [
      "\tEvaluation rouge1 score: 0.0 <> Best val rouge1 up to now:  0.0\n",
      "Epoch:  16\n"
     ]
    },
    {
     "data": {
      "text/plain": [
       "  0%|          | 0/5 [00:00<?, ?it/s]"
      ],
      "application/vnd.jupyter.widget-view+json": {
       "version_major": 2,
       "version_minor": 0,
       "model_id": "113560a3dfb84f40b18e48ef4bfce555"
      }
     },
     "metadata": {},
     "output_type": "display_data"
    },
    {
     "name": "stdout",
     "output_type": "stream",
     "text": [
      "Epoch 16 train loss: 4.3688\n",
      "Epoch:  17\n"
     ]
    },
    {
     "data": {
      "text/plain": [
       "  0%|          | 0/5 [00:00<?, ?it/s]"
      ],
      "application/vnd.jupyter.widget-view+json": {
       "version_major": 2,
       "version_minor": 0,
       "model_id": "1fc8a65bbf0743688c8bbb31b7abb62e"
      }
     },
     "metadata": {},
     "output_type": "display_data"
    },
    {
     "name": "stdout",
     "output_type": "stream",
     "text": [
      "Epoch 17 train loss: 3.8199\n",
      "\tEval...\n"
     ]
    },
    {
     "data": {
      "text/plain": [
       "  0%|          | 0/62 [00:00<?, ?it/s]"
      ],
      "application/vnd.jupyter.widget-view+json": {
       "version_major": 2,
       "version_minor": 0,
       "model_id": "eb41839f2f8c44ee8eb718a8f973c976"
      }
     },
     "metadata": {},
     "output_type": "display_data"
    },
    {
     "name": "stdout",
     "output_type": "stream",
     "text": [
      "\tEvaluation rouge1 score: 0.0 <> Best val rouge1 up to now:  0.0\n",
      "Epoch:  18\n"
     ]
    },
    {
     "data": {
      "text/plain": [
       "  0%|          | 0/5 [00:00<?, ?it/s]"
      ],
      "application/vnd.jupyter.widget-view+json": {
       "version_major": 2,
       "version_minor": 0,
       "model_id": "be040b59b21f4e41a2d7d65410f24957"
      }
     },
     "metadata": {},
     "output_type": "display_data"
    },
    {
     "name": "stdout",
     "output_type": "stream",
     "text": [
      "Epoch 18 train loss: 3.7683\n",
      "Epoch:  19\n"
     ]
    },
    {
     "data": {
      "text/plain": [
       "  0%|          | 0/5 [00:00<?, ?it/s]"
      ],
      "application/vnd.jupyter.widget-view+json": {
       "version_major": 2,
       "version_minor": 0,
       "model_id": "b705328aa6424a56a1a623735d1ba889"
      }
     },
     "metadata": {},
     "output_type": "display_data"
    },
    {
     "name": "stdout",
     "output_type": "stream",
     "text": [
      "Epoch 19 train loss: 3.3614\n",
      "\tEval...\n"
     ]
    },
    {
     "data": {
      "text/plain": [
       "  0%|          | 0/62 [00:00<?, ?it/s]"
      ],
      "application/vnd.jupyter.widget-view+json": {
       "version_major": 2,
       "version_minor": 0,
       "model_id": "b03a09366cb24ccebb5dde010a909af2"
      }
     },
     "metadata": {},
     "output_type": "display_data"
    },
    {
     "name": "stdout",
     "output_type": "stream",
     "text": [
      "\tEvaluation rouge1 score: 0.0 <> Best val rouge1 up to now:  0.0\n",
      "Epoch:  20\n"
     ]
    },
    {
     "data": {
      "text/plain": [
       "  0%|          | 0/5 [00:00<?, ?it/s]"
      ],
      "application/vnd.jupyter.widget-view+json": {
       "version_major": 2,
       "version_minor": 0,
       "model_id": "8034094ddc304629903188d24e4cbf69"
      }
     },
     "metadata": {},
     "output_type": "display_data"
    },
    {
     "name": "stdout",
     "output_type": "stream",
     "text": [
      "Epoch 20 train loss: 3.0491\n",
      "Epoch:  21\n"
     ]
    },
    {
     "data": {
      "text/plain": [
       "  0%|          | 0/5 [00:00<?, ?it/s]"
      ],
      "application/vnd.jupyter.widget-view+json": {
       "version_major": 2,
       "version_minor": 0,
       "model_id": "f028d7568922463fa5011078e48558f6"
      }
     },
     "metadata": {},
     "output_type": "display_data"
    },
    {
     "name": "stdout",
     "output_type": "stream",
     "text": [
      "Epoch 21 train loss: 2.7776\n",
      "\tEval...\n"
     ]
    },
    {
     "data": {
      "text/plain": [
       "  0%|          | 0/62 [00:00<?, ?it/s]"
      ],
      "application/vnd.jupyter.widget-view+json": {
       "version_major": 2,
       "version_minor": 0,
       "model_id": "7ffb546211774a308f69534828af8d9c"
      }
     },
     "metadata": {},
     "output_type": "display_data"
    },
    {
     "name": "stdout",
     "output_type": "stream",
     "text": [
      "\tEvaluation rouge1 score: 0.00358 <> Best val rouge1 up to now:  0.00358\n",
      "Epoch:  22\n"
     ]
    },
    {
     "data": {
      "text/plain": [
       "  0%|          | 0/5 [00:00<?, ?it/s]"
      ],
      "application/vnd.jupyter.widget-view+json": {
       "version_major": 2,
       "version_minor": 0,
       "model_id": "b71e5b9c05f5447386b6ed016c8bda53"
      }
     },
     "metadata": {},
     "output_type": "display_data"
    },
    {
     "name": "stdout",
     "output_type": "stream",
     "text": [
      "Epoch 22 train loss: 2.5491\n",
      "Epoch:  23\n"
     ]
    },
    {
     "data": {
      "text/plain": [
       "  0%|          | 0/5 [00:00<?, ?it/s]"
      ],
      "application/vnd.jupyter.widget-view+json": {
       "version_major": 2,
       "version_minor": 0,
       "model_id": "e93f8658bc7d45f3b31b0d8d53318f8c"
      }
     },
     "metadata": {},
     "output_type": "display_data"
    },
    {
     "name": "stdout",
     "output_type": "stream",
     "text": [
      "Epoch 23 train loss: 2.3474\n",
      "\tEval...\n"
     ]
    },
    {
     "data": {
      "text/plain": [
       "  0%|          | 0/62 [00:00<?, ?it/s]"
      ],
      "application/vnd.jupyter.widget-view+json": {
       "version_major": 2,
       "version_minor": 0,
       "model_id": "67dc8340b27e49bdbb5064e04e77e85d"
      }
     },
     "metadata": {},
     "output_type": "display_data"
    },
    {
     "name": "stdout",
     "output_type": "stream",
     "text": [
      "\tEvaluation rouge1 score: 0.03353 <> Best val rouge1 up to now:  0.03353\n",
      "Epoch:  24\n"
     ]
    },
    {
     "data": {
      "text/plain": [
       "  0%|          | 0/5 [00:00<?, ?it/s]"
      ],
      "application/vnd.jupyter.widget-view+json": {
       "version_major": 2,
       "version_minor": 0,
       "model_id": "e15c352a3f6840878c2b68e6fdeae590"
      }
     },
     "metadata": {},
     "output_type": "display_data"
    },
    {
     "name": "stdout",
     "output_type": "stream",
     "text": [
      "Epoch 24 train loss: 2.2312\n",
      "Epoch:  25\n"
     ]
    },
    {
     "data": {
      "text/plain": [
       "  0%|          | 0/5 [00:00<?, ?it/s]"
      ],
      "application/vnd.jupyter.widget-view+json": {
       "version_major": 2,
       "version_minor": 0,
       "model_id": "5f96c26ecf8f4f27ab87906f4715ff1b"
      }
     },
     "metadata": {},
     "output_type": "display_data"
    },
    {
     "name": "stdout",
     "output_type": "stream",
     "text": [
      "Epoch 25 train loss: 2.0587\n",
      "\tEval...\n"
     ]
    },
    {
     "data": {
      "text/plain": [
       "  0%|          | 0/62 [00:00<?, ?it/s]"
      ],
      "application/vnd.jupyter.widget-view+json": {
       "version_major": 2,
       "version_minor": 0,
       "model_id": "43cb5420c01f419ab9024dabd4bfd5b4"
      }
     },
     "metadata": {},
     "output_type": "display_data"
    },
    {
     "name": "stdout",
     "output_type": "stream",
     "text": [
      "\tEvaluation rouge1 score: 0.06057 <> Best val rouge1 up to now:  0.06057\n",
      "Epoch:  26\n"
     ]
    },
    {
     "data": {
      "text/plain": [
       "  0%|          | 0/5 [00:00<?, ?it/s]"
      ],
      "application/vnd.jupyter.widget-view+json": {
       "version_major": 2,
       "version_minor": 0,
       "model_id": "c60470177a804ef7a25899c588c600a6"
      }
     },
     "metadata": {},
     "output_type": "display_data"
    },
    {
     "name": "stdout",
     "output_type": "stream",
     "text": [
      "Epoch 26 train loss: 1.9466\n",
      "Epoch:  27\n"
     ]
    },
    {
     "data": {
      "text/plain": [
       "  0%|          | 0/5 [00:00<?, ?it/s]"
      ],
      "application/vnd.jupyter.widget-view+json": {
       "version_major": 2,
       "version_minor": 0,
       "model_id": "a0674eeea8024decb5ab5f4f787f0964"
      }
     },
     "metadata": {},
     "output_type": "display_data"
    },
    {
     "name": "stdout",
     "output_type": "stream",
     "text": [
      "Epoch 27 train loss: 1.8594\n",
      "\tEval...\n"
     ]
    },
    {
     "data": {
      "text/plain": [
       "  0%|          | 0/62 [00:00<?, ?it/s]"
      ],
      "application/vnd.jupyter.widget-view+json": {
       "version_major": 2,
       "version_minor": 0,
       "model_id": "4058265aeb7a4206971ec4a8a0a242f1"
      }
     },
     "metadata": {},
     "output_type": "display_data"
    },
    {
     "name": "stdout",
     "output_type": "stream",
     "text": [
      "\tEvaluation rouge1 score: 0.04139 <> Best val rouge1 up to now:  0.06057\n",
      "Epoch:  28\n"
     ]
    },
    {
     "data": {
      "text/plain": [
       "  0%|          | 0/5 [00:00<?, ?it/s]"
      ],
      "application/vnd.jupyter.widget-view+json": {
       "version_major": 2,
       "version_minor": 0,
       "model_id": "6856325c30b5464a8dc969bf4ebdbe96"
      }
     },
     "metadata": {},
     "output_type": "display_data"
    },
    {
     "name": "stdout",
     "output_type": "stream",
     "text": [
      "Epoch 28 train loss: 1.7507\n",
      "Epoch:  29\n"
     ]
    },
    {
     "data": {
      "text/plain": [
       "  0%|          | 0/5 [00:00<?, ?it/s]"
      ],
      "application/vnd.jupyter.widget-view+json": {
       "version_major": 2,
       "version_minor": 0,
       "model_id": "28c0bdf162ba4a16810902585ff8c9ba"
      }
     },
     "metadata": {},
     "output_type": "display_data"
    },
    {
     "name": "stdout",
     "output_type": "stream",
     "text": [
      "Epoch 29 train loss: 1.6924\n",
      "\tEval...\n"
     ]
    },
    {
     "data": {
      "text/plain": [
       "  0%|          | 0/62 [00:00<?, ?it/s]"
      ],
      "application/vnd.jupyter.widget-view+json": {
       "version_major": 2,
       "version_minor": 0,
       "model_id": "1b7891ffc37e4596b7589a164fd9091c"
      }
     },
     "metadata": {},
     "output_type": "display_data"
    },
    {
     "name": "stdout",
     "output_type": "stream",
     "text": [
      "\tEvaluation rouge1 score: 0.04745 <> Best val rouge1 up to now:  0.06057\n",
      "Epoch:  30\n"
     ]
    },
    {
     "data": {
      "text/plain": [
       "  0%|          | 0/5 [00:00<?, ?it/s]"
      ],
      "application/vnd.jupyter.widget-view+json": {
       "version_major": 2,
       "version_minor": 0,
       "model_id": "57f8c7a270174e3c8066fdb633d5cd15"
      }
     },
     "metadata": {},
     "output_type": "display_data"
    },
    {
     "name": "stdout",
     "output_type": "stream",
     "text": [
      "Epoch 30 train loss: 1.6511\n",
      "Epoch:  31\n"
     ]
    },
    {
     "data": {
      "text/plain": [
       "  0%|          | 0/5 [00:00<?, ?it/s]"
      ],
      "application/vnd.jupyter.widget-view+json": {
       "version_major": 2,
       "version_minor": 0,
       "model_id": "2359bfbbdfec4f6e828c0dce0fc972ac"
      }
     },
     "metadata": {},
     "output_type": "display_data"
    },
    {
     "name": "stdout",
     "output_type": "stream",
     "text": [
      "Epoch 31 train loss: 1.5674\n",
      "\tEval...\n"
     ]
    },
    {
     "data": {
      "text/plain": [
       "  0%|          | 0/62 [00:00<?, ?it/s]"
      ],
      "application/vnd.jupyter.widget-view+json": {
       "version_major": 2,
       "version_minor": 0,
       "model_id": "74f294c0b4a94ce0b4d96a4027186983"
      }
     },
     "metadata": {},
     "output_type": "display_data"
    },
    {
     "name": "stdout",
     "output_type": "stream",
     "text": [
      "\tEvaluation rouge1 score: 0.06857 <> Best val rouge1 up to now:  0.06857\n",
      "Epoch:  32\n"
     ]
    },
    {
     "data": {
      "text/plain": [
       "  0%|          | 0/5 [00:00<?, ?it/s]"
      ],
      "application/vnd.jupyter.widget-view+json": {
       "version_major": 2,
       "version_minor": 0,
       "model_id": "1cc7a4c8a4bd45be8d4e277298e828fc"
      }
     },
     "metadata": {},
     "output_type": "display_data"
    },
    {
     "name": "stdout",
     "output_type": "stream",
     "text": [
      "Epoch 32 train loss: 1.4993\n",
      "Epoch:  33\n"
     ]
    },
    {
     "data": {
      "text/plain": [
       "  0%|          | 0/5 [00:00<?, ?it/s]"
      ],
      "application/vnd.jupyter.widget-view+json": {
       "version_major": 2,
       "version_minor": 0,
       "model_id": "4fb42290350d4e6db4494db73d39ac23"
      }
     },
     "metadata": {},
     "output_type": "display_data"
    },
    {
     "name": "stdout",
     "output_type": "stream",
     "text": [
      "Epoch 33 train loss: 1.437\n",
      "\tEval...\n"
     ]
    },
    {
     "data": {
      "text/plain": [
       "  0%|          | 0/62 [00:00<?, ?it/s]"
      ],
      "application/vnd.jupyter.widget-view+json": {
       "version_major": 2,
       "version_minor": 0,
       "model_id": "920d7fa2853b4ac08aa3d3376567530a"
      }
     },
     "metadata": {},
     "output_type": "display_data"
    },
    {
     "name": "stdout",
     "output_type": "stream",
     "text": [
      "\tEvaluation rouge1 score: 0.06868 <> Best val rouge1 up to now:  0.06868\n",
      "Epoch:  34\n"
     ]
    },
    {
     "data": {
      "text/plain": [
       "  0%|          | 0/5 [00:00<?, ?it/s]"
      ],
      "application/vnd.jupyter.widget-view+json": {
       "version_major": 2,
       "version_minor": 0,
       "model_id": "be57099f940140fa8ec12136e4c4b951"
      }
     },
     "metadata": {},
     "output_type": "display_data"
    },
    {
     "name": "stdout",
     "output_type": "stream",
     "text": [
      "Epoch 34 train loss: 1.3984\n",
      "Epoch:  35\n"
     ]
    },
    {
     "data": {
      "text/plain": [
       "  0%|          | 0/5 [00:00<?, ?it/s]"
      ],
      "application/vnd.jupyter.widget-view+json": {
       "version_major": 2,
       "version_minor": 0,
       "model_id": "61ea7953fa814f6caaf3965a83f600fd"
      }
     },
     "metadata": {},
     "output_type": "display_data"
    },
    {
     "name": "stdout",
     "output_type": "stream",
     "text": [
      "Epoch 35 train loss: 1.3594\n",
      "\tEval...\n"
     ]
    },
    {
     "data": {
      "text/plain": [
       "  0%|          | 0/62 [00:00<?, ?it/s]"
      ],
      "application/vnd.jupyter.widget-view+json": {
       "version_major": 2,
       "version_minor": 0,
       "model_id": "7780953f413243ae8cb63172deb6bb0f"
      }
     },
     "metadata": {},
     "output_type": "display_data"
    },
    {
     "name": "stdout",
     "output_type": "stream",
     "text": [
      "\tEvaluation rouge1 score: 0.11244 <> Best val rouge1 up to now:  0.11244\n",
      "Epoch:  36\n"
     ]
    },
    {
     "data": {
      "text/plain": [
       "  0%|          | 0/5 [00:00<?, ?it/s]"
      ],
      "application/vnd.jupyter.widget-view+json": {
       "version_major": 2,
       "version_minor": 0,
       "model_id": "f1766bd6986048ba860fd3c825834e74"
      }
     },
     "metadata": {},
     "output_type": "display_data"
    },
    {
     "name": "stdout",
     "output_type": "stream",
     "text": [
      "Epoch 36 train loss: 1.3105\n",
      "Epoch:  37\n"
     ]
    },
    {
     "data": {
      "text/plain": [
       "  0%|          | 0/5 [00:00<?, ?it/s]"
      ],
      "application/vnd.jupyter.widget-view+json": {
       "version_major": 2,
       "version_minor": 0,
       "model_id": "0691c82b346347d5bc0d178877cd12e0"
      }
     },
     "metadata": {},
     "output_type": "display_data"
    },
    {
     "name": "stdout",
     "output_type": "stream",
     "text": [
      "Epoch 37 train loss: 1.2431\n",
      "\tEval...\n"
     ]
    },
    {
     "data": {
      "text/plain": [
       "  0%|          | 0/62 [00:00<?, ?it/s]"
      ],
      "application/vnd.jupyter.widget-view+json": {
       "version_major": 2,
       "version_minor": 0,
       "model_id": "88fa142a385f42e3a27e77b6c398deb6"
      }
     },
     "metadata": {},
     "output_type": "display_data"
    },
    {
     "name": "stdout",
     "output_type": "stream",
     "text": [
      "\tEvaluation rouge1 score: 0.11014 <> Best val rouge1 up to now:  0.11244\n",
      "Epoch:  38\n"
     ]
    },
    {
     "data": {
      "text/plain": [
       "  0%|          | 0/5 [00:00<?, ?it/s]"
      ],
      "application/vnd.jupyter.widget-view+json": {
       "version_major": 2,
       "version_minor": 0,
       "model_id": "f9db9b610c1d4c419bb4a9f6a3b6b9b8"
      }
     },
     "metadata": {},
     "output_type": "display_data"
    },
    {
     "name": "stdout",
     "output_type": "stream",
     "text": [
      "Epoch 38 train loss: 1.2135\n",
      "Epoch:  39\n"
     ]
    },
    {
     "data": {
      "text/plain": [
       "  0%|          | 0/5 [00:00<?, ?it/s]"
      ],
      "application/vnd.jupyter.widget-view+json": {
       "version_major": 2,
       "version_minor": 0,
       "model_id": "087c2d48cdf04264ad2fad361c9d25ff"
      }
     },
     "metadata": {},
     "output_type": "display_data"
    },
    {
     "name": "stdout",
     "output_type": "stream",
     "text": [
      "Epoch 39 train loss: 1.2024\n",
      "\tEval...\n"
     ]
    },
    {
     "data": {
      "text/plain": [
       "  0%|          | 0/62 [00:00<?, ?it/s]"
      ],
      "application/vnd.jupyter.widget-view+json": {
       "version_major": 2,
       "version_minor": 0,
       "model_id": "e0929d242e1b4a04b40dc40badc8b55f"
      }
     },
     "metadata": {},
     "output_type": "display_data"
    },
    {
     "name": "stdout",
     "output_type": "stream",
     "text": [
      "\tEvaluation rouge1 score: 0.16869 <> Best val rouge1 up to now:  0.16869\n",
      "Epoch:  40\n"
     ]
    },
    {
     "data": {
      "text/plain": [
       "  0%|          | 0/5 [00:00<?, ?it/s]"
      ],
      "application/vnd.jupyter.widget-view+json": {
       "version_major": 2,
       "version_minor": 0,
       "model_id": "1621a64d7a5e4ff2be6afb49e771dd2b"
      }
     },
     "metadata": {},
     "output_type": "display_data"
    },
    {
     "name": "stdout",
     "output_type": "stream",
     "text": [
      "Epoch 40 train loss: 1.1614\n",
      "Epoch:  41\n"
     ]
    },
    {
     "data": {
      "text/plain": [
       "  0%|          | 0/5 [00:00<?, ?it/s]"
      ],
      "application/vnd.jupyter.widget-view+json": {
       "version_major": 2,
       "version_minor": 0,
       "model_id": "ee4c3c26c0c44b988e4e434a099aac61"
      }
     },
     "metadata": {},
     "output_type": "display_data"
    },
    {
     "name": "stdout",
     "output_type": "stream",
     "text": [
      "Epoch 41 train loss: 1.1283\n",
      "\tEval...\n"
     ]
    },
    {
     "data": {
      "text/plain": [
       "  0%|          | 0/62 [00:00<?, ?it/s]"
      ],
      "application/vnd.jupyter.widget-view+json": {
       "version_major": 2,
       "version_minor": 0,
       "model_id": "da2592107f7347969cbfedb1076d11c3"
      }
     },
     "metadata": {},
     "output_type": "display_data"
    },
    {
     "name": "stdout",
     "output_type": "stream",
     "text": [
      "\tEvaluation rouge1 score: 0.15484 <> Best val rouge1 up to now:  0.16869\n",
      "Epoch:  42\n"
     ]
    },
    {
     "data": {
      "text/plain": [
       "  0%|          | 0/5 [00:00<?, ?it/s]"
      ],
      "application/vnd.jupyter.widget-view+json": {
       "version_major": 2,
       "version_minor": 0,
       "model_id": "d2ee388e52d84cfa8cca7935935caa58"
      }
     },
     "metadata": {},
     "output_type": "display_data"
    },
    {
     "name": "stdout",
     "output_type": "stream",
     "text": [
      "Epoch 42 train loss: 1.0329\n",
      "Epoch:  43\n"
     ]
    },
    {
     "data": {
      "text/plain": [
       "  0%|          | 0/5 [00:00<?, ?it/s]"
      ],
      "application/vnd.jupyter.widget-view+json": {
       "version_major": 2,
       "version_minor": 0,
       "model_id": "30c1b37a43b74a9a8aa87074f5a1938b"
      }
     },
     "metadata": {},
     "output_type": "display_data"
    },
    {
     "name": "stdout",
     "output_type": "stream",
     "text": [
      "Epoch 43 train loss: 0.976\n",
      "\tEval...\n"
     ]
    },
    {
     "data": {
      "text/plain": [
       "  0%|          | 0/62 [00:00<?, ?it/s]"
      ],
      "application/vnd.jupyter.widget-view+json": {
       "version_major": 2,
       "version_minor": 0,
       "model_id": "32341ffc83a14abf8a8a6d7d5f344753"
      }
     },
     "metadata": {},
     "output_type": "display_data"
    },
    {
     "name": "stdout",
     "output_type": "stream",
     "text": [
      "\tEvaluation rouge1 score: 0.1482 <> Best val rouge1 up to now:  0.16869\n",
      "Epoch:  44\n"
     ]
    },
    {
     "data": {
      "text/plain": [
       "  0%|          | 0/5 [00:00<?, ?it/s]"
      ],
      "application/vnd.jupyter.widget-view+json": {
       "version_major": 2,
       "version_minor": 0,
       "model_id": "9d831e44279b4347a63562ba698c6aca"
      }
     },
     "metadata": {},
     "output_type": "display_data"
    },
    {
     "name": "stdout",
     "output_type": "stream",
     "text": [
      "Epoch 44 train loss: 1.0367\n",
      "Epoch:  45\n"
     ]
    },
    {
     "data": {
      "text/plain": [
       "  0%|          | 0/5 [00:00<?, ?it/s]"
      ],
      "application/vnd.jupyter.widget-view+json": {
       "version_major": 2,
       "version_minor": 0,
       "model_id": "57630c9568fa408882692cd7af3a5f92"
      }
     },
     "metadata": {},
     "output_type": "display_data"
    },
    {
     "name": "stdout",
     "output_type": "stream",
     "text": [
      "Epoch 45 train loss: 1.0138\n",
      "\tEval...\n"
     ]
    },
    {
     "data": {
      "text/plain": [
       "  0%|          | 0/62 [00:00<?, ?it/s]"
      ],
      "application/vnd.jupyter.widget-view+json": {
       "version_major": 2,
       "version_minor": 0,
       "model_id": "7d8b202661574d82883534814628cda2"
      }
     },
     "metadata": {},
     "output_type": "display_data"
    },
    {
     "name": "stdout",
     "output_type": "stream",
     "text": [
      "\tEvaluation rouge1 score: 0.1718 <> Best val rouge1 up to now:  0.1718\n",
      "Epoch:  46\n"
     ]
    },
    {
     "data": {
      "text/plain": [
       "  0%|          | 0/5 [00:00<?, ?it/s]"
      ],
      "application/vnd.jupyter.widget-view+json": {
       "version_major": 2,
       "version_minor": 0,
       "model_id": "7cef97209aed48ac9422f82d45a2e2db"
      }
     },
     "metadata": {},
     "output_type": "display_data"
    },
    {
     "name": "stdout",
     "output_type": "stream",
     "text": [
      "Epoch 46 train loss: 0.9973\n",
      "Epoch:  47\n"
     ]
    },
    {
     "data": {
      "text/plain": [
       "  0%|          | 0/5 [00:00<?, ?it/s]"
      ],
      "application/vnd.jupyter.widget-view+json": {
       "version_major": 2,
       "version_minor": 0,
       "model_id": "ea8d649db0004dd58db70722e4a892ac"
      }
     },
     "metadata": {},
     "output_type": "display_data"
    },
    {
     "name": "stdout",
     "output_type": "stream",
     "text": [
      "Epoch 47 train loss: 0.9725\n",
      "\tEval...\n"
     ]
    },
    {
     "data": {
      "text/plain": [
       "  0%|          | 0/62 [00:00<?, ?it/s]"
      ],
      "application/vnd.jupyter.widget-view+json": {
       "version_major": 2,
       "version_minor": 0,
       "model_id": "9c39236e0aaf4064a5c74943fc058532"
      }
     },
     "metadata": {},
     "output_type": "display_data"
    },
    {
     "name": "stdout",
     "output_type": "stream",
     "text": [
      "\tEvaluation rouge1 score: 0.17374 <> Best val rouge1 up to now:  0.17374\n",
      "Epoch:  48\n"
     ]
    },
    {
     "data": {
      "text/plain": [
       "  0%|          | 0/5 [00:00<?, ?it/s]"
      ],
      "application/vnd.jupyter.widget-view+json": {
       "version_major": 2,
       "version_minor": 0,
       "model_id": "241cd89bff4144c28407ea7093bf86be"
      }
     },
     "metadata": {},
     "output_type": "display_data"
    },
    {
     "name": "stdout",
     "output_type": "stream",
     "text": [
      "Epoch 48 train loss: 0.9498\n",
      "Epoch:  49\n"
     ]
    },
    {
     "data": {
      "text/plain": [
       "  0%|          | 0/5 [00:00<?, ?it/s]"
      ],
      "application/vnd.jupyter.widget-view+json": {
       "version_major": 2,
       "version_minor": 0,
       "model_id": "9c15394e87b24e0b9b48e85a6c3e7fa8"
      }
     },
     "metadata": {},
     "output_type": "display_data"
    },
    {
     "name": "stdout",
     "output_type": "stream",
     "text": [
      "Epoch 49 train loss: 0.9323\n",
      "\tEval...\n"
     ]
    },
    {
     "data": {
      "text/plain": [
       "  0%|          | 0/62 [00:00<?, ?it/s]"
      ],
      "application/vnd.jupyter.widget-view+json": {
       "version_major": 2,
       "version_minor": 0,
       "model_id": "60733adfb21d45e7973332164ecdf13a"
      }
     },
     "metadata": {},
     "output_type": "display_data"
    },
    {
     "name": "stdout",
     "output_type": "stream",
     "text": [
      "\tEvaluation rouge1 score: 0.18746 <> Best val rouge1 up to now:  0.18746\n"
     ]
    }
   ],
   "execution_count": 34
  },
  {
   "metadata": {},
   "cell_type": "markdown",
   "source": "### Train the whole model",
   "id": "798b3e6c5f06b81f"
  },
  {
   "metadata": {
    "ExecuteTime": {
     "end_time": "2024-08-13T18:39:35.928790Z",
     "start_time": "2024-08-13T18:39:35.523680Z"
    }
   },
   "cell_type": "code",
   "source": [
    "model = torch.load('best_val_rouge1_model.pt', map_location=device)\n",
    "# unfreeze all layers\n",
    "for param in model.parameters():\n",
    "    param.requires_grad = True\n",
    "\n",
    "# Keep positional embeddings freezed\n",
    "model.transformer.wpe.weight.requires_grad = False\n",
    "\n",
    "# Use smaller LR\n",
    "optimizer = configure_optimizers(model=model, weight_decay=0.1, learning_rate=1e-4, device_type=device)"
   ],
   "id": "d4db26a461713cef",
   "outputs": [
    {
     "name": "stdout",
     "output_type": "stream",
     "text": [
      "num decayed parameter tensors: 49, with 123,532,800 parameters\n",
      "num non-decayed parameter tensors: 98, with 121,344 parameters\n"
     ]
    }
   ],
   "execution_count": 35
  },
  {
   "metadata": {
    "ExecuteTime": {
     "end_time": "2024-08-13T18:42:14.433068Z",
     "start_time": "2024-08-13T18:39:37.069065Z"
    }
   },
   "cell_type": "code",
   "source": "train_loop(50)",
   "id": "f1d9c7e5b392018b",
   "outputs": [
    {
     "name": "stdout",
     "output_type": "stream",
     "text": [
      "Epoch:  0\n"
     ]
    },
    {
     "data": {
      "text/plain": [
       "  0%|          | 0/5 [00:00<?, ?it/s]"
      ],
      "application/vnd.jupyter.widget-view+json": {
       "version_major": 2,
       "version_minor": 0,
       "model_id": "88285834bd884f4bb81d0ed3891644da"
      }
     },
     "metadata": {},
     "output_type": "display_data"
    },
    {
     "name": "stdout",
     "output_type": "stream",
     "text": [
      "Epoch 0 train loss: 1.284\n",
      "Epoch:  1\n"
     ]
    },
    {
     "data": {
      "text/plain": [
       "  0%|          | 0/5 [00:00<?, ?it/s]"
      ],
      "application/vnd.jupyter.widget-view+json": {
       "version_major": 2,
       "version_minor": 0,
       "model_id": "89cf46cf1fba4d4ba0fcf44a6e838e5a"
      }
     },
     "metadata": {},
     "output_type": "display_data"
    },
    {
     "name": "stdout",
     "output_type": "stream",
     "text": [
      "Epoch 1 train loss: 0.8933\n",
      "\tEval...\n"
     ]
    },
    {
     "data": {
      "text/plain": [
       "  0%|          | 0/62 [00:00<?, ?it/s]"
      ],
      "application/vnd.jupyter.widget-view+json": {
       "version_major": 2,
       "version_minor": 0,
       "model_id": "aaf4e2293ae0420a9bb5c3f0b5b66671"
      }
     },
     "metadata": {},
     "output_type": "display_data"
    },
    {
     "name": "stdout",
     "output_type": "stream",
     "text": [
      "\tEvaluation rouge1 score: 0.32989 <> Best val rouge1 up to now:  0.32989\n",
      "Epoch:  2\n"
     ]
    },
    {
     "data": {
      "text/plain": [
       "  0%|          | 0/5 [00:00<?, ?it/s]"
      ],
      "application/vnd.jupyter.widget-view+json": {
       "version_major": 2,
       "version_minor": 0,
       "model_id": "93aa2875af1a4112bbd3d5987a0995f2"
      }
     },
     "metadata": {},
     "output_type": "display_data"
    },
    {
     "name": "stdout",
     "output_type": "stream",
     "text": [
      "Epoch 2 train loss: 0.7545\n",
      "Epoch:  3\n"
     ]
    },
    {
     "data": {
      "text/plain": [
       "  0%|          | 0/5 [00:00<?, ?it/s]"
      ],
      "application/vnd.jupyter.widget-view+json": {
       "version_major": 2,
       "version_minor": 0,
       "model_id": "3b123014eeb0420f8664e072214680ed"
      }
     },
     "metadata": {},
     "output_type": "display_data"
    },
    {
     "name": "stdout",
     "output_type": "stream",
     "text": [
      "Epoch 3 train loss: 0.6531\n",
      "\tEval...\n"
     ]
    },
    {
     "data": {
      "text/plain": [
       "  0%|          | 0/62 [00:00<?, ?it/s]"
      ],
      "application/vnd.jupyter.widget-view+json": {
       "version_major": 2,
       "version_minor": 0,
       "model_id": "f68483d48b734ed0a14164c479c0d7f9"
      }
     },
     "metadata": {},
     "output_type": "display_data"
    },
    {
     "name": "stdout",
     "output_type": "stream",
     "text": [
      "\tEvaluation rouge1 score: 0.42963 <> Best val rouge1 up to now:  0.42963\n",
      "Epoch:  4\n"
     ]
    },
    {
     "data": {
      "text/plain": [
       "  0%|          | 0/5 [00:00<?, ?it/s]"
      ],
      "application/vnd.jupyter.widget-view+json": {
       "version_major": 2,
       "version_minor": 0,
       "model_id": "25b879a99e8c4895b5d926e47f914f10"
      }
     },
     "metadata": {},
     "output_type": "display_data"
    },
    {
     "name": "stdout",
     "output_type": "stream",
     "text": [
      "Epoch 4 train loss: 0.563\n",
      "Epoch:  5\n"
     ]
    },
    {
     "data": {
      "text/plain": [
       "  0%|          | 0/5 [00:00<?, ?it/s]"
      ],
      "application/vnd.jupyter.widget-view+json": {
       "version_major": 2,
       "version_minor": 0,
       "model_id": "810066563f324ad7afa09ea197688700"
      }
     },
     "metadata": {},
     "output_type": "display_data"
    },
    {
     "name": "stdout",
     "output_type": "stream",
     "text": [
      "Epoch 5 train loss: 0.5104\n",
      "\tEval...\n"
     ]
    },
    {
     "data": {
      "text/plain": [
       "  0%|          | 0/62 [00:00<?, ?it/s]"
      ],
      "application/vnd.jupyter.widget-view+json": {
       "version_major": 2,
       "version_minor": 0,
       "model_id": "89802433bd6140a88e2f8b9261d06360"
      }
     },
     "metadata": {},
     "output_type": "display_data"
    },
    {
     "name": "stdout",
     "output_type": "stream",
     "text": [
      "\tEvaluation rouge1 score: 0.51753 <> Best val rouge1 up to now:  0.51753\n",
      "Epoch:  6\n"
     ]
    },
    {
     "data": {
      "text/plain": [
       "  0%|          | 0/5 [00:00<?, ?it/s]"
      ],
      "application/vnd.jupyter.widget-view+json": {
       "version_major": 2,
       "version_minor": 0,
       "model_id": "768aa23c397543069e0ac4a40fa960a8"
      }
     },
     "metadata": {},
     "output_type": "display_data"
    },
    {
     "name": "stdout",
     "output_type": "stream",
     "text": [
      "Epoch 6 train loss: 0.4571\n",
      "Epoch:  7\n"
     ]
    },
    {
     "data": {
      "text/plain": [
       "  0%|          | 0/5 [00:00<?, ?it/s]"
      ],
      "application/vnd.jupyter.widget-view+json": {
       "version_major": 2,
       "version_minor": 0,
       "model_id": "95dd4976d30d4e7a98974d58897d9e23"
      }
     },
     "metadata": {},
     "output_type": "display_data"
    },
    {
     "name": "stdout",
     "output_type": "stream",
     "text": [
      "Epoch 7 train loss: 0.4094\n",
      "\tEval...\n"
     ]
    },
    {
     "data": {
      "text/plain": [
       "  0%|          | 0/62 [00:00<?, ?it/s]"
      ],
      "application/vnd.jupyter.widget-view+json": {
       "version_major": 2,
       "version_minor": 0,
       "model_id": "ae4b153f9b244a8ca47944ef4b8b39d7"
      }
     },
     "metadata": {},
     "output_type": "display_data"
    },
    {
     "name": "stdout",
     "output_type": "stream",
     "text": [
      "\tEvaluation rouge1 score: 0.55784 <> Best val rouge1 up to now:  0.55784\n",
      "Epoch:  8\n"
     ]
    },
    {
     "data": {
      "text/plain": [
       "  0%|          | 0/5 [00:00<?, ?it/s]"
      ],
      "application/vnd.jupyter.widget-view+json": {
       "version_major": 2,
       "version_minor": 0,
       "model_id": "f6db34de3605448c9a66b24aa2e7e3d9"
      }
     },
     "metadata": {},
     "output_type": "display_data"
    },
    {
     "name": "stdout",
     "output_type": "stream",
     "text": [
      "Epoch 8 train loss: 0.3783\n",
      "Epoch:  9\n"
     ]
    },
    {
     "data": {
      "text/plain": [
       "  0%|          | 0/5 [00:00<?, ?it/s]"
      ],
      "application/vnd.jupyter.widget-view+json": {
       "version_major": 2,
       "version_minor": 0,
       "model_id": "e46ba1e0bdbc44b2bbe34724f5ad8d12"
      }
     },
     "metadata": {},
     "output_type": "display_data"
    },
    {
     "name": "stdout",
     "output_type": "stream",
     "text": [
      "Epoch 9 train loss: 0.3569\n",
      "\tEval...\n"
     ]
    },
    {
     "data": {
      "text/plain": [
       "  0%|          | 0/62 [00:00<?, ?it/s]"
      ],
      "application/vnd.jupyter.widget-view+json": {
       "version_major": 2,
       "version_minor": 0,
       "model_id": "3a6eb7fc67344e2d8f819ada83668721"
      }
     },
     "metadata": {},
     "output_type": "display_data"
    },
    {
     "name": "stdout",
     "output_type": "stream",
     "text": [
      "\tEvaluation rouge1 score: 0.58696 <> Best val rouge1 up to now:  0.58696\n",
      "Epoch:  10\n"
     ]
    },
    {
     "data": {
      "text/plain": [
       "  0%|          | 0/5 [00:00<?, ?it/s]"
      ],
      "application/vnd.jupyter.widget-view+json": {
       "version_major": 2,
       "version_minor": 0,
       "model_id": "232f736f8b664ffb9812aad59cbb2965"
      }
     },
     "metadata": {},
     "output_type": "display_data"
    },
    {
     "name": "stdout",
     "output_type": "stream",
     "text": [
      "Epoch 10 train loss: 0.3301\n",
      "Epoch:  11\n"
     ]
    },
    {
     "data": {
      "text/plain": [
       "  0%|          | 0/5 [00:00<?, ?it/s]"
      ],
      "application/vnd.jupyter.widget-view+json": {
       "version_major": 2,
       "version_minor": 0,
       "model_id": "7e9ec594376d4e1d9f7e1b2ba6d1f007"
      }
     },
     "metadata": {},
     "output_type": "display_data"
    },
    {
     "name": "stdout",
     "output_type": "stream",
     "text": [
      "Epoch 11 train loss: 0.2938\n",
      "\tEval...\n"
     ]
    },
    {
     "data": {
      "text/plain": [
       "  0%|          | 0/62 [00:00<?, ?it/s]"
      ],
      "application/vnd.jupyter.widget-view+json": {
       "version_major": 2,
       "version_minor": 0,
       "model_id": "0c3ec19efb8f4f5d950241659f198a78"
      }
     },
     "metadata": {},
     "output_type": "display_data"
    },
    {
     "name": "stdout",
     "output_type": "stream",
     "text": [
      "\tEvaluation rouge1 score: 0.50499 <> Best val rouge1 up to now:  0.58696\n",
      "Epoch:  12\n"
     ]
    },
    {
     "data": {
      "text/plain": [
       "  0%|          | 0/5 [00:00<?, ?it/s]"
      ],
      "application/vnd.jupyter.widget-view+json": {
       "version_major": 2,
       "version_minor": 0,
       "model_id": "24daaafe3a224c1487c8488c399d27c8"
      }
     },
     "metadata": {},
     "output_type": "display_data"
    },
    {
     "name": "stdout",
     "output_type": "stream",
     "text": [
      "Epoch 12 train loss: 0.2866\n",
      "Epoch:  13\n"
     ]
    },
    {
     "data": {
      "text/plain": [
       "  0%|          | 0/5 [00:00<?, ?it/s]"
      ],
      "application/vnd.jupyter.widget-view+json": {
       "version_major": 2,
       "version_minor": 0,
       "model_id": "89cfe9135a5147b4a39b67f1628cb853"
      }
     },
     "metadata": {},
     "output_type": "display_data"
    },
    {
     "name": "stdout",
     "output_type": "stream",
     "text": [
      "Epoch 13 train loss: 0.2692\n",
      "\tEval...\n"
     ]
    },
    {
     "data": {
      "text/plain": [
       "  0%|          | 0/62 [00:00<?, ?it/s]"
      ],
      "application/vnd.jupyter.widget-view+json": {
       "version_major": 2,
       "version_minor": 0,
       "model_id": "099ef6231727470aa920aeeccbe87df1"
      }
     },
     "metadata": {},
     "output_type": "display_data"
    },
    {
     "name": "stdout",
     "output_type": "stream",
     "text": [
      "\tEvaluation rouge1 score: 0.54653 <> Best val rouge1 up to now:  0.58696\n",
      "Epoch:  14\n"
     ]
    },
    {
     "data": {
      "text/plain": [
       "  0%|          | 0/5 [00:00<?, ?it/s]"
      ],
      "application/vnd.jupyter.widget-view+json": {
       "version_major": 2,
       "version_minor": 0,
       "model_id": "114ddba0d6c1469688e9fd25862b045d"
      }
     },
     "metadata": {},
     "output_type": "display_data"
    },
    {
     "name": "stdout",
     "output_type": "stream",
     "text": [
      "Epoch 14 train loss: 0.198\n",
      "Epoch:  15\n"
     ]
    },
    {
     "data": {
      "text/plain": [
       "  0%|          | 0/5 [00:00<?, ?it/s]"
      ],
      "application/vnd.jupyter.widget-view+json": {
       "version_major": 2,
       "version_minor": 0,
       "model_id": "6b23f3cc3619439e8b06292806fa2929"
      }
     },
     "metadata": {},
     "output_type": "display_data"
    },
    {
     "name": "stdout",
     "output_type": "stream",
     "text": [
      "Epoch 15 train loss: 0.1882\n",
      "\tEval...\n"
     ]
    },
    {
     "data": {
      "text/plain": [
       "  0%|          | 0/62 [00:00<?, ?it/s]"
      ],
      "application/vnd.jupyter.widget-view+json": {
       "version_major": 2,
       "version_minor": 0,
       "model_id": "273f53dce4504e3aaa47c303c02d1fe4"
      }
     },
     "metadata": {},
     "output_type": "display_data"
    },
    {
     "name": "stdout",
     "output_type": "stream",
     "text": [
      "\tEvaluation rouge1 score: 0.52213 <> Best val rouge1 up to now:  0.58696\n",
      "Epoch:  16\n"
     ]
    },
    {
     "data": {
      "text/plain": [
       "  0%|          | 0/5 [00:00<?, ?it/s]"
      ],
      "application/vnd.jupyter.widget-view+json": {
       "version_major": 2,
       "version_minor": 0,
       "model_id": "6a2476742c4b454185f8c50c29c80537"
      }
     },
     "metadata": {},
     "output_type": "display_data"
    },
    {
     "name": "stdout",
     "output_type": "stream",
     "text": [
      "Epoch 16 train loss: 0.2405\n",
      "Epoch:  17\n"
     ]
    },
    {
     "data": {
      "text/plain": [
       "  0%|          | 0/5 [00:00<?, ?it/s]"
      ],
      "application/vnd.jupyter.widget-view+json": {
       "version_major": 2,
       "version_minor": 0,
       "model_id": "38b5f434fc5047df82a0b962981eee9b"
      }
     },
     "metadata": {},
     "output_type": "display_data"
    },
    {
     "name": "stdout",
     "output_type": "stream",
     "text": [
      "Epoch 17 train loss: 0.2194\n",
      "\tEval...\n"
     ]
    },
    {
     "data": {
      "text/plain": [
       "  0%|          | 0/62 [00:00<?, ?it/s]"
      ],
      "application/vnd.jupyter.widget-view+json": {
       "version_major": 2,
       "version_minor": 0,
       "model_id": "0545e6eb19fe4b6ca607c6a8a3658703"
      }
     },
     "metadata": {},
     "output_type": "display_data"
    },
    {
     "name": "stdout",
     "output_type": "stream",
     "text": [
      "\tEvaluation rouge1 score: 0.49095 <> Best val rouge1 up to now:  0.58696\n",
      "Epoch:  18\n"
     ]
    },
    {
     "data": {
      "text/plain": [
       "  0%|          | 0/5 [00:00<?, ?it/s]"
      ],
      "application/vnd.jupyter.widget-view+json": {
       "version_major": 2,
       "version_minor": 0,
       "model_id": "20e05d7af4e64647b6c9dc085a4120a1"
      }
     },
     "metadata": {},
     "output_type": "display_data"
    },
    {
     "name": "stdout",
     "output_type": "stream",
     "text": [
      "Epoch 18 train loss: 0.1809\n",
      "Epoch:  19\n"
     ]
    },
    {
     "data": {
      "text/plain": [
       "  0%|          | 0/5 [00:00<?, ?it/s]"
      ],
      "application/vnd.jupyter.widget-view+json": {
       "version_major": 2,
       "version_minor": 0,
       "model_id": "05e4e6e87c92410d9203ae0fc44013fb"
      }
     },
     "metadata": {},
     "output_type": "display_data"
    },
    {
     "name": "stdout",
     "output_type": "stream",
     "text": [
      "Epoch 19 train loss: 0.1723\n",
      "\tEval...\n"
     ]
    },
    {
     "data": {
      "text/plain": [
       "  0%|          | 0/62 [00:00<?, ?it/s]"
      ],
      "application/vnd.jupyter.widget-view+json": {
       "version_major": 2,
       "version_minor": 0,
       "model_id": "d8e3634c2faa4fca9d3cdf82ed55ed3b"
      }
     },
     "metadata": {},
     "output_type": "display_data"
    },
    {
     "name": "stdout",
     "output_type": "stream",
     "text": [
      "\tEvaluation rouge1 score: 0.52024 <> Best val rouge1 up to now:  0.58696\n",
      "Epoch:  20\n"
     ]
    },
    {
     "data": {
      "text/plain": [
       "  0%|          | 0/5 [00:00<?, ?it/s]"
      ],
      "application/vnd.jupyter.widget-view+json": {
       "version_major": 2,
       "version_minor": 0,
       "model_id": "6c23291e98b64f21827f1b5dc807f41c"
      }
     },
     "metadata": {},
     "output_type": "display_data"
    },
    {
     "name": "stdout",
     "output_type": "stream",
     "text": [
      "Epoch 20 train loss: 0.1975\n",
      "Epoch:  21\n"
     ]
    },
    {
     "data": {
      "text/plain": [
       "  0%|          | 0/5 [00:00<?, ?it/s]"
      ],
      "application/vnd.jupyter.widget-view+json": {
       "version_major": 2,
       "version_minor": 0,
       "model_id": "64e468bb8a334914a7aea66650dae52c"
      }
     },
     "metadata": {},
     "output_type": "display_data"
    },
    {
     "name": "stdout",
     "output_type": "stream",
     "text": [
      "Epoch 21 train loss: 0.1733\n",
      "\tEval...\n"
     ]
    },
    {
     "data": {
      "text/plain": [
       "  0%|          | 0/62 [00:00<?, ?it/s]"
      ],
      "application/vnd.jupyter.widget-view+json": {
       "version_major": 2,
       "version_minor": 0,
       "model_id": "4ee811e50a0641adba9e7fdf17215e5c"
      }
     },
     "metadata": {},
     "output_type": "display_data"
    },
    {
     "name": "stdout",
     "output_type": "stream",
     "text": [
      "\tEvaluation rouge1 score: 0.54529 <> Best val rouge1 up to now:  0.58696\n",
      "Epoch:  22\n"
     ]
    },
    {
     "data": {
      "text/plain": [
       "  0%|          | 0/5 [00:00<?, ?it/s]"
      ],
      "application/vnd.jupyter.widget-view+json": {
       "version_major": 2,
       "version_minor": 0,
       "model_id": "27e49e482f7a41c486f6c164e31a39d2"
      }
     },
     "metadata": {},
     "output_type": "display_data"
    },
    {
     "name": "stdout",
     "output_type": "stream",
     "text": [
      "Epoch 22 train loss: 0.1601\n",
      "Epoch:  23\n"
     ]
    },
    {
     "data": {
      "text/plain": [
       "  0%|          | 0/5 [00:00<?, ?it/s]"
      ],
      "application/vnd.jupyter.widget-view+json": {
       "version_major": 2,
       "version_minor": 0,
       "model_id": "800cb99945d64759b3777e917a0376f3"
      }
     },
     "metadata": {},
     "output_type": "display_data"
    },
    {
     "name": "stdout",
     "output_type": "stream",
     "text": [
      "Epoch 23 train loss: 0.1532\n",
      "\tEval...\n"
     ]
    },
    {
     "data": {
      "text/plain": [
       "  0%|          | 0/62 [00:00<?, ?it/s]"
      ],
      "application/vnd.jupyter.widget-view+json": {
       "version_major": 2,
       "version_minor": 0,
       "model_id": "5a5a928c72b347d29ff0fa91d35a1b1d"
      }
     },
     "metadata": {},
     "output_type": "display_data"
    },
    {
     "name": "stdout",
     "output_type": "stream",
     "text": [
      "\tEvaluation rouge1 score: 0.59223 <> Best val rouge1 up to now:  0.59223\n",
      "Epoch:  24\n"
     ]
    },
    {
     "data": {
      "text/plain": [
       "  0%|          | 0/5 [00:00<?, ?it/s]"
      ],
      "application/vnd.jupyter.widget-view+json": {
       "version_major": 2,
       "version_minor": 0,
       "model_id": "a45064a8e991403aa659e1d0d962ff94"
      }
     },
     "metadata": {},
     "output_type": "display_data"
    },
    {
     "name": "stdout",
     "output_type": "stream",
     "text": [
      "Epoch 24 train loss: 0.1369\n",
      "Epoch:  25\n"
     ]
    },
    {
     "data": {
      "text/plain": [
       "  0%|          | 0/5 [00:00<?, ?it/s]"
      ],
      "application/vnd.jupyter.widget-view+json": {
       "version_major": 2,
       "version_minor": 0,
       "model_id": "09dd28096f6947dcab43fafba386ba87"
      }
     },
     "metadata": {},
     "output_type": "display_data"
    },
    {
     "name": "stdout",
     "output_type": "stream",
     "text": [
      "Epoch 25 train loss: 0.1229\n",
      "\tEval...\n"
     ]
    },
    {
     "data": {
      "text/plain": [
       "  0%|          | 0/62 [00:00<?, ?it/s]"
      ],
      "application/vnd.jupyter.widget-view+json": {
       "version_major": 2,
       "version_minor": 0,
       "model_id": "7061ab554ba444218beb1454f56732aa"
      }
     },
     "metadata": {},
     "output_type": "display_data"
    },
    {
     "name": "stdout",
     "output_type": "stream",
     "text": [
      "\tEvaluation rouge1 score: 0.57127 <> Best val rouge1 up to now:  0.59223\n",
      "Epoch:  26\n"
     ]
    },
    {
     "data": {
      "text/plain": [
       "  0%|          | 0/5 [00:00<?, ?it/s]"
      ],
      "application/vnd.jupyter.widget-view+json": {
       "version_major": 2,
       "version_minor": 0,
       "model_id": "2d4577441c304320862e60a2c349884a"
      }
     },
     "metadata": {},
     "output_type": "display_data"
    },
    {
     "name": "stdout",
     "output_type": "stream",
     "text": [
      "Epoch 26 train loss: 0.11\n",
      "Epoch:  27\n"
     ]
    },
    {
     "data": {
      "text/plain": [
       "  0%|          | 0/5 [00:00<?, ?it/s]"
      ],
      "application/vnd.jupyter.widget-view+json": {
       "version_major": 2,
       "version_minor": 0,
       "model_id": "5cc13b65dad14b63a44847f99f35b696"
      }
     },
     "metadata": {},
     "output_type": "display_data"
    },
    {
     "name": "stdout",
     "output_type": "stream",
     "text": [
      "Epoch 27 train loss: 0.0951\n",
      "\tEval...\n"
     ]
    },
    {
     "data": {
      "text/plain": [
       "  0%|          | 0/62 [00:00<?, ?it/s]"
      ],
      "application/vnd.jupyter.widget-view+json": {
       "version_major": 2,
       "version_minor": 0,
       "model_id": "eb19e1ebea2145558f91c02757bf10d3"
      }
     },
     "metadata": {},
     "output_type": "display_data"
    },
    {
     "name": "stdout",
     "output_type": "stream",
     "text": [
      "\tEvaluation rouge1 score: 0.5942 <> Best val rouge1 up to now:  0.5942\n",
      "Epoch:  28\n"
     ]
    },
    {
     "data": {
      "text/plain": [
       "  0%|          | 0/5 [00:00<?, ?it/s]"
      ],
      "application/vnd.jupyter.widget-view+json": {
       "version_major": 2,
       "version_minor": 0,
       "model_id": "b3e00c702184450fb91770de4bf3fbae"
      }
     },
     "metadata": {},
     "output_type": "display_data"
    },
    {
     "name": "stdout",
     "output_type": "stream",
     "text": [
      "Epoch 28 train loss: 0.0778\n",
      "Epoch:  29\n"
     ]
    },
    {
     "data": {
      "text/plain": [
       "  0%|          | 0/5 [00:00<?, ?it/s]"
      ],
      "application/vnd.jupyter.widget-view+json": {
       "version_major": 2,
       "version_minor": 0,
       "model_id": "9f09a90c98944269adfdbff22c1f7d76"
      }
     },
     "metadata": {},
     "output_type": "display_data"
    },
    {
     "name": "stdout",
     "output_type": "stream",
     "text": [
      "Epoch 29 train loss: 0.0737\n",
      "\tEval...\n"
     ]
    },
    {
     "data": {
      "text/plain": [
       "  0%|          | 0/62 [00:00<?, ?it/s]"
      ],
      "application/vnd.jupyter.widget-view+json": {
       "version_major": 2,
       "version_minor": 0,
       "model_id": "4cb76e4d1265474ba63929c266d3621c"
      }
     },
     "metadata": {},
     "output_type": "display_data"
    },
    {
     "name": "stdout",
     "output_type": "stream",
     "text": [
      "\tEvaluation rouge1 score: 0.54941 <> Best val rouge1 up to now:  0.5942\n",
      "Epoch:  30\n"
     ]
    },
    {
     "data": {
      "text/plain": [
       "  0%|          | 0/5 [00:00<?, ?it/s]"
      ],
      "application/vnd.jupyter.widget-view+json": {
       "version_major": 2,
       "version_minor": 0,
       "model_id": "9b41b13c00284d1fa90556dc888a89ba"
      }
     },
     "metadata": {},
     "output_type": "display_data"
    },
    {
     "name": "stdout",
     "output_type": "stream",
     "text": [
      "Epoch 30 train loss: 0.0596\n",
      "Epoch:  31\n"
     ]
    },
    {
     "data": {
      "text/plain": [
       "  0%|          | 0/5 [00:00<?, ?it/s]"
      ],
      "application/vnd.jupyter.widget-view+json": {
       "version_major": 2,
       "version_minor": 0,
       "model_id": "04055c8b0d2c4379aa38bb16dfb632ff"
      }
     },
     "metadata": {},
     "output_type": "display_data"
    },
    {
     "name": "stdout",
     "output_type": "stream",
     "text": [
      "Epoch 31 train loss: 0.0502\n",
      "\tEval...\n"
     ]
    },
    {
     "data": {
      "text/plain": [
       "  0%|          | 0/62 [00:00<?, ?it/s]"
      ],
      "application/vnd.jupyter.widget-view+json": {
       "version_major": 2,
       "version_minor": 0,
       "model_id": "c78033e63bca428dae849d19229e4bd2"
      }
     },
     "metadata": {},
     "output_type": "display_data"
    },
    {
     "name": "stdout",
     "output_type": "stream",
     "text": [
      "\tEvaluation rouge1 score: 0.62682 <> Best val rouge1 up to now:  0.62682\n",
      "Epoch:  32\n"
     ]
    },
    {
     "data": {
      "text/plain": [
       "  0%|          | 0/5 [00:00<?, ?it/s]"
      ],
      "application/vnd.jupyter.widget-view+json": {
       "version_major": 2,
       "version_minor": 0,
       "model_id": "f6cc321c084240afb313c55bb0fc1fa1"
      }
     },
     "metadata": {},
     "output_type": "display_data"
    },
    {
     "name": "stdout",
     "output_type": "stream",
     "text": [
      "Epoch 32 train loss: 0.0219\n",
      "Epoch:  33\n"
     ]
    },
    {
     "data": {
      "text/plain": [
       "  0%|          | 0/5 [00:00<?, ?it/s]"
      ],
      "application/vnd.jupyter.widget-view+json": {
       "version_major": 2,
       "version_minor": 0,
       "model_id": "020997520a9d4bda954e0bb1370b446b"
      }
     },
     "metadata": {},
     "output_type": "display_data"
    },
    {
     "name": "stdout",
     "output_type": "stream",
     "text": [
      "Epoch 33 train loss: 0.0164\n",
      "\tEval...\n"
     ]
    },
    {
     "data": {
      "text/plain": [
       "  0%|          | 0/62 [00:00<?, ?it/s]"
      ],
      "application/vnd.jupyter.widget-view+json": {
       "version_major": 2,
       "version_minor": 0,
       "model_id": "c4511715c8b846f3917cb26668cbe153"
      }
     },
     "metadata": {},
     "output_type": "display_data"
    },
    {
     "name": "stdout",
     "output_type": "stream",
     "text": [
      "\tEvaluation rouge1 score: 0.4848 <> Best val rouge1 up to now:  0.62682\n",
      "Epoch:  34\n"
     ]
    },
    {
     "data": {
      "text/plain": [
       "  0%|          | 0/5 [00:00<?, ?it/s]"
      ],
      "application/vnd.jupyter.widget-view+json": {
       "version_major": 2,
       "version_minor": 0,
       "model_id": "8b383f3c5fb54998a75aefc5c554d7e1"
      }
     },
     "metadata": {},
     "output_type": "display_data"
    },
    {
     "name": "stdout",
     "output_type": "stream",
     "text": [
      "Epoch 34 train loss: 0.0413\n",
      "Epoch:  35\n"
     ]
    },
    {
     "data": {
      "text/plain": [
       "  0%|          | 0/5 [00:00<?, ?it/s]"
      ],
      "application/vnd.jupyter.widget-view+json": {
       "version_major": 2,
       "version_minor": 0,
       "model_id": "4e4065af4d6f4a56856eb77f871314c4"
      }
     },
     "metadata": {},
     "output_type": "display_data"
    },
    {
     "name": "stdout",
     "output_type": "stream",
     "text": [
      "Epoch 35 train loss: 0.0368\n",
      "\tEval...\n"
     ]
    },
    {
     "data": {
      "text/plain": [
       "  0%|          | 0/62 [00:00<?, ?it/s]"
      ],
      "application/vnd.jupyter.widget-view+json": {
       "version_major": 2,
       "version_minor": 0,
       "model_id": "045bb5a7dba249918d3528697ec322ad"
      }
     },
     "metadata": {},
     "output_type": "display_data"
    },
    {
     "name": "stdout",
     "output_type": "stream",
     "text": [
      "\tEvaluation rouge1 score: 0.59781 <> Best val rouge1 up to now:  0.62682\n",
      "Epoch:  36\n"
     ]
    },
    {
     "data": {
      "text/plain": [
       "  0%|          | 0/5 [00:00<?, ?it/s]"
      ],
      "application/vnd.jupyter.widget-view+json": {
       "version_major": 2,
       "version_minor": 0,
       "model_id": "2e5c7dedc7f54be2b63192e94dba13c7"
      }
     },
     "metadata": {},
     "output_type": "display_data"
    },
    {
     "name": "stdout",
     "output_type": "stream",
     "text": [
      "Epoch 36 train loss: 0.0316\n",
      "Epoch:  37\n"
     ]
    },
    {
     "data": {
      "text/plain": [
       "  0%|          | 0/5 [00:00<?, ?it/s]"
      ],
      "application/vnd.jupyter.widget-view+json": {
       "version_major": 2,
       "version_minor": 0,
       "model_id": "a656d63258264b1c85922e0b3b3f94ac"
      }
     },
     "metadata": {},
     "output_type": "display_data"
    },
    {
     "name": "stdout",
     "output_type": "stream",
     "text": [
      "Epoch 37 train loss: 0.032\n",
      "\tEval...\n"
     ]
    },
    {
     "data": {
      "text/plain": [
       "  0%|          | 0/62 [00:00<?, ?it/s]"
      ],
      "application/vnd.jupyter.widget-view+json": {
       "version_major": 2,
       "version_minor": 0,
       "model_id": "395d711d51de4d19b4466f9ab4255366"
      }
     },
     "metadata": {},
     "output_type": "display_data"
    },
    {
     "name": "stdout",
     "output_type": "stream",
     "text": [
      "\tEvaluation rouge1 score: 0.55349 <> Best val rouge1 up to now:  0.62682\n",
      "Epoch:  38\n"
     ]
    },
    {
     "data": {
      "text/plain": [
       "  0%|          | 0/5 [00:00<?, ?it/s]"
      ],
      "application/vnd.jupyter.widget-view+json": {
       "version_major": 2,
       "version_minor": 0,
       "model_id": "93cc8e5d3ed54dd2a4cb1b35d3f6509a"
      }
     },
     "metadata": {},
     "output_type": "display_data"
    },
    {
     "name": "stdout",
     "output_type": "stream",
     "text": [
      "Epoch 38 train loss: 0.0293\n",
      "Epoch:  39\n"
     ]
    },
    {
     "data": {
      "text/plain": [
       "  0%|          | 0/5 [00:00<?, ?it/s]"
      ],
      "application/vnd.jupyter.widget-view+json": {
       "version_major": 2,
       "version_minor": 0,
       "model_id": "b713e2fe973440bcafaa0fa2f0828a05"
      }
     },
     "metadata": {},
     "output_type": "display_data"
    },
    {
     "name": "stdout",
     "output_type": "stream",
     "text": [
      "Epoch 39 train loss: 0.0291\n",
      "\tEval...\n"
     ]
    },
    {
     "data": {
      "text/plain": [
       "  0%|          | 0/62 [00:00<?, ?it/s]"
      ],
      "application/vnd.jupyter.widget-view+json": {
       "version_major": 2,
       "version_minor": 0,
       "model_id": "57a779eaba994d6eb908c2637fdebdad"
      }
     },
     "metadata": {},
     "output_type": "display_data"
    },
    {
     "name": "stdout",
     "output_type": "stream",
     "text": [
      "\tEvaluation rouge1 score: 0.58894 <> Best val rouge1 up to now:  0.62682\n",
      "Epoch:  40\n"
     ]
    },
    {
     "data": {
      "text/plain": [
       "  0%|          | 0/5 [00:00<?, ?it/s]"
      ],
      "application/vnd.jupyter.widget-view+json": {
       "version_major": 2,
       "version_minor": 0,
       "model_id": "51337e551c5049cd91b61c301de024d7"
      }
     },
     "metadata": {},
     "output_type": "display_data"
    },
    {
     "name": "stdout",
     "output_type": "stream",
     "text": [
      "Epoch 40 train loss: 0.0218\n",
      "Epoch:  41\n"
     ]
    },
    {
     "data": {
      "text/plain": [
       "  0%|          | 0/5 [00:00<?, ?it/s]"
      ],
      "application/vnd.jupyter.widget-view+json": {
       "version_major": 2,
       "version_minor": 0,
       "model_id": "56ab2ba1d9c343e198244550a3013a98"
      }
     },
     "metadata": {},
     "output_type": "display_data"
    },
    {
     "name": "stdout",
     "output_type": "stream",
     "text": [
      "Epoch 41 train loss: 0.0272\n",
      "\tEval...\n"
     ]
    },
    {
     "data": {
      "text/plain": [
       "  0%|          | 0/62 [00:00<?, ?it/s]"
      ],
      "application/vnd.jupyter.widget-view+json": {
       "version_major": 2,
       "version_minor": 0,
       "model_id": "1663c8a9cc244b36970295d21071af35"
      }
     },
     "metadata": {},
     "output_type": "display_data"
    },
    {
     "name": "stdout",
     "output_type": "stream",
     "text": [
      "\tEvaluation rouge1 score: 0.61788 <> Best val rouge1 up to now:  0.62682\n",
      "Epoch:  42\n"
     ]
    },
    {
     "data": {
      "text/plain": [
       "  0%|          | 0/5 [00:00<?, ?it/s]"
      ],
      "application/vnd.jupyter.widget-view+json": {
       "version_major": 2,
       "version_minor": 0,
       "model_id": "56481cb6d6a1456c89c0f44842d05cb6"
      }
     },
     "metadata": {},
     "output_type": "display_data"
    },
    {
     "name": "stdout",
     "output_type": "stream",
     "text": [
      "Epoch 42 train loss: 0.0234\n",
      "Epoch:  43\n"
     ]
    },
    {
     "data": {
      "text/plain": [
       "  0%|          | 0/5 [00:00<?, ?it/s]"
      ],
      "application/vnd.jupyter.widget-view+json": {
       "version_major": 2,
       "version_minor": 0,
       "model_id": "bcc69a1264a94afab56cf2b2bb38eb1d"
      }
     },
     "metadata": {},
     "output_type": "display_data"
    },
    {
     "name": "stdout",
     "output_type": "stream",
     "text": [
      "Epoch 43 train loss: 0.0253\n",
      "\tEval...\n"
     ]
    },
    {
     "data": {
      "text/plain": [
       "  0%|          | 0/62 [00:00<?, ?it/s]"
      ],
      "application/vnd.jupyter.widget-view+json": {
       "version_major": 2,
       "version_minor": 0,
       "model_id": "fe02b7749f58490e9d6c74269e8447fa"
      }
     },
     "metadata": {},
     "output_type": "display_data"
    },
    {
     "name": "stdout",
     "output_type": "stream",
     "text": [
      "\tEvaluation rouge1 score: 0.62925 <> Best val rouge1 up to now:  0.62925\n",
      "Epoch:  44\n"
     ]
    },
    {
     "data": {
      "text/plain": [
       "  0%|          | 0/5 [00:00<?, ?it/s]"
      ],
      "application/vnd.jupyter.widget-view+json": {
       "version_major": 2,
       "version_minor": 0,
       "model_id": "47630c16392045ba8fb015f8f181aff2"
      }
     },
     "metadata": {},
     "output_type": "display_data"
    },
    {
     "name": "stdout",
     "output_type": "stream",
     "text": [
      "Epoch 44 train loss: 0.0197\n",
      "Epoch:  45\n"
     ]
    },
    {
     "data": {
      "text/plain": [
       "  0%|          | 0/5 [00:00<?, ?it/s]"
      ],
      "application/vnd.jupyter.widget-view+json": {
       "version_major": 2,
       "version_minor": 0,
       "model_id": "0314bd87a9b34abcac8872e3cc48484a"
      }
     },
     "metadata": {},
     "output_type": "display_data"
    },
    {
     "name": "stdout",
     "output_type": "stream",
     "text": [
      "Epoch 45 train loss: 0.0167\n",
      "\tEval...\n"
     ]
    },
    {
     "data": {
      "text/plain": [
       "  0%|          | 0/62 [00:00<?, ?it/s]"
      ],
      "application/vnd.jupyter.widget-view+json": {
       "version_major": 2,
       "version_minor": 0,
       "model_id": "2bf1bb74756b44b692090a7c8747ccfe"
      }
     },
     "metadata": {},
     "output_type": "display_data"
    },
    {
     "name": "stdout",
     "output_type": "stream",
     "text": [
      "\tEvaluation rouge1 score: 0.65356 <> Best val rouge1 up to now:  0.65356\n",
      "Epoch:  46\n"
     ]
    },
    {
     "data": {
      "text/plain": [
       "  0%|          | 0/5 [00:00<?, ?it/s]"
      ],
      "application/vnd.jupyter.widget-view+json": {
       "version_major": 2,
       "version_minor": 0,
       "model_id": "70eedbeba63b4f86a6ab1889d88f4af8"
      }
     },
     "metadata": {},
     "output_type": "display_data"
    },
    {
     "name": "stdout",
     "output_type": "stream",
     "text": [
      "Epoch 46 train loss: 0.0242\n",
      "Epoch:  47\n"
     ]
    },
    {
     "data": {
      "text/plain": [
       "  0%|          | 0/5 [00:00<?, ?it/s]"
      ],
      "application/vnd.jupyter.widget-view+json": {
       "version_major": 2,
       "version_minor": 0,
       "model_id": "f73c6a76630d4a40bc4d9ade3b6fc41d"
      }
     },
     "metadata": {},
     "output_type": "display_data"
    },
    {
     "name": "stdout",
     "output_type": "stream",
     "text": [
      "Epoch 47 train loss: 0.0202\n",
      "\tEval...\n"
     ]
    },
    {
     "data": {
      "text/plain": [
       "  0%|          | 0/62 [00:00<?, ?it/s]"
      ],
      "application/vnd.jupyter.widget-view+json": {
       "version_major": 2,
       "version_minor": 0,
       "model_id": "8fd46e60e6414ef0b061a033ecbdaef3"
      }
     },
     "metadata": {},
     "output_type": "display_data"
    },
    {
     "name": "stdout",
     "output_type": "stream",
     "text": [
      "\tEvaluation rouge1 score: 0.6576 <> Best val rouge1 up to now:  0.6576\n",
      "Epoch:  48\n"
     ]
    },
    {
     "data": {
      "text/plain": [
       "  0%|          | 0/5 [00:00<?, ?it/s]"
      ],
      "application/vnd.jupyter.widget-view+json": {
       "version_major": 2,
       "version_minor": 0,
       "model_id": "c27cb7ec95d54231a92b0ea60e833f57"
      }
     },
     "metadata": {},
     "output_type": "display_data"
    },
    {
     "name": "stdout",
     "output_type": "stream",
     "text": [
      "Epoch 48 train loss: 0.0137\n",
      "Epoch:  49\n"
     ]
    },
    {
     "data": {
      "text/plain": [
       "  0%|          | 0/5 [00:00<?, ?it/s]"
      ],
      "application/vnd.jupyter.widget-view+json": {
       "version_major": 2,
       "version_minor": 0,
       "model_id": "2d6c8e85ca934f5fb33335c069b7ef8e"
      }
     },
     "metadata": {},
     "output_type": "display_data"
    },
    {
     "name": "stdout",
     "output_type": "stream",
     "text": [
      "Epoch 49 train loss: 0.0193\n",
      "\tEval...\n"
     ]
    },
    {
     "data": {
      "text/plain": [
       "  0%|          | 0/62 [00:00<?, ?it/s]"
      ],
      "application/vnd.jupyter.widget-view+json": {
       "version_major": 2,
       "version_minor": 0,
       "model_id": "4d3204ba9b154d8783a4a062711c2d0d"
      }
     },
     "metadata": {},
     "output_type": "display_data"
    },
    {
     "name": "stdout",
     "output_type": "stream",
     "text": [
      "\tEvaluation rouge1 score: 0.64058 <> Best val rouge1 up to now:  0.6576\n"
     ]
    }
   ],
   "execution_count": 36
  },
  {
   "metadata": {},
   "cell_type": "markdown",
   "source": "# Evaluate the model and Generate outputs",
   "id": "80b5011e6898974"
  },
  {
   "metadata": {
    "ExecuteTime": {
     "end_time": "2024-08-13T18:43:43.854793Z",
     "start_time": "2024-08-13T18:43:43.186871Z"
    }
   },
   "cell_type": "code",
   "source": [
    "model = torch.load('best_train_loss_model.pt', map_location=device)\n",
    "model.eval();"
   ],
   "id": "df21b5a423cbf0f0",
   "outputs": [],
   "execution_count": 51
  },
  {
   "metadata": {
    "ExecuteTime": {
     "end_time": "2024-08-13T18:43:43.861199Z",
     "start_time": "2024-08-13T18:43:43.859068Z"
    }
   },
   "cell_type": "code",
   "source": "raw_datasets;",
   "id": "f6306565ed467b13",
   "outputs": [],
   "execution_count": 52
  },
  {
   "metadata": {
    "ExecuteTime": {
     "end_time": "2024-08-13T18:43:58.731510Z",
     "start_time": "2024-08-13T18:43:44.200067Z"
    }
   },
   "cell_type": "code",
   "source": "compute_rouge(model=model, split='train', dataset=raw_datasets)",
   "id": "607fde6a844b4095",
   "outputs": [
    {
     "data": {
      "text/plain": [
       "  0%|          | 0/244 [00:00<?, ?it/s]"
      ],
      "application/vnd.jupyter.widget-view+json": {
       "version_major": 2,
       "version_minor": 0,
       "model_id": "a98a7af98cb24cadb441cb88e4edcb46"
      }
     },
     "metadata": {},
     "output_type": "display_data"
    },
    {
     "data": {
      "text/plain": [
       "{'rouge1': 0.6906754788926923,\n",
       " 'rouge2': 0.5064207650273226,\n",
       " 'rougeL': 0.6876024590163938,\n",
       " 'rougeLsum': 0.6885287185492108}"
      ]
     },
     "execution_count": 53,
     "metadata": {},
     "output_type": "execute_result"
    }
   ],
   "execution_count": 53
  },
  {
   "metadata": {
    "ExecuteTime": {
     "end_time": "2024-08-13T18:44:01.357687Z",
     "start_time": "2024-08-13T18:43:58.813554Z"
    }
   },
   "cell_type": "code",
   "source": "compute_rouge(model=model, split='test', dataset=raw_datasets)",
   "id": "3d63b3826a50a1d9",
   "outputs": [
    {
     "data": {
      "text/plain": [
       "  0%|          | 0/62 [00:00<?, ?it/s]"
      ],
      "application/vnd.jupyter.widget-view+json": {
       "version_major": 2,
       "version_minor": 0,
       "model_id": "9be33f24718f456dbada4949bd538d90"
      }
     },
     "metadata": {},
     "output_type": "display_data"
    },
    {
     "data": {
      "text/plain": [
       "{'rouge1': 0.6193932411674347,\n",
       " 'rouge2': 0.43440860215053767,\n",
       " 'rougeL': 0.615937019969278,\n",
       " 'rougeLsum': 0.6181259600614438}"
      ]
     },
     "execution_count": 54,
     "metadata": {},
     "output_type": "execute_result"
    }
   ],
   "execution_count": 54
  },
  {
   "metadata": {
    "ExecuteTime": {
     "end_time": "2024-08-13T18:44:02.099695Z",
     "start_time": "2024-08-13T18:44:01.450207Z"
    }
   },
   "cell_type": "code",
   "source": [
    "model = torch.load('best_val_rouge1_model.pt', map_location=device)\n",
    "model.eval();"
   ],
   "id": "f2101ab271f89ac1",
   "outputs": [],
   "execution_count": 55
  },
  {
   "metadata": {
    "ExecuteTime": {
     "end_time": "2024-08-13T18:44:15.684506Z",
     "start_time": "2024-08-13T18:44:02.196927Z"
    }
   },
   "cell_type": "code",
   "source": "compute_rouge(model=model, split='train', dataset=raw_datasets)",
   "id": "2c214cba3182e7da",
   "outputs": [
    {
     "data": {
      "text/plain": [
       "  0%|          | 0/244 [00:00<?, ?it/s]"
      ],
      "application/vnd.jupyter.widget-view+json": {
       "version_major": 2,
       "version_minor": 0,
       "model_id": "f33d8cc0922649cfa37f3310ad61c6fc"
      }
     },
     "metadata": {},
     "output_type": "display_data"
    },
    {
     "data": {
      "text/plain": [
       "{'rouge1': 0.7123883743760799,\n",
       " 'rouge2': 0.527576112412178,\n",
       " 'rougeL': 0.7118757835970955,\n",
       " 'rougeLsum': 0.7098900302793751}"
      ]
     },
     "execution_count": 56,
     "metadata": {},
     "output_type": "execute_result"
    }
   ],
   "execution_count": 56
  },
  {
   "metadata": {
    "ExecuteTime": {
     "end_time": "2024-08-13T18:44:18.283536Z",
     "start_time": "2024-08-13T18:44:15.783227Z"
    }
   },
   "cell_type": "code",
   "source": "compute_rouge(model=model, split='test', dataset=raw_datasets)",
   "id": "eba24bd0fe94b4be",
   "outputs": [
    {
     "data": {
      "text/plain": [
       "  0%|          | 0/62 [00:00<?, ?it/s]"
      ],
      "application/vnd.jupyter.widget-view+json": {
       "version_major": 2,
       "version_minor": 0,
       "model_id": "32dcdf2d8b514411b13bb7dc9e99614d"
      }
     },
     "metadata": {},
     "output_type": "display_data"
    },
    {
     "data": {
      "text/plain": [
       "{'rouge1': 0.6575958987249308,\n",
       " 'rouge2': 0.40107526881720434,\n",
       " 'rougeL': 0.6445925042699234,\n",
       " 'rougeLsum': 0.6486333558914203}"
      ]
     },
     "execution_count": 57,
     "metadata": {},
     "output_type": "execute_result"
    }
   ],
   "execution_count": 57
  },
  {
   "metadata": {
    "ExecuteTime": {
     "end_time": "2024-08-13T18:14:08.442942Z",
     "start_time": "2024-08-13T18:14:08.440672Z"
    }
   },
   "cell_type": "code",
   "source": "# !pip freeze > requirements.txt",
   "id": "6e91af1633bd8932",
   "outputs": [],
   "execution_count": 47
  },
  {
   "metadata": {},
   "cell_type": "markdown",
   "source": "### Generate text",
   "id": "307218abfb4a8755"
  },
  {
   "metadata": {
    "ExecuteTime": {
     "end_time": "2024-08-13T18:44:36.274543Z",
     "start_time": "2024-08-13T18:44:36.268602Z"
    }
   },
   "cell_type": "code",
   "source": [
    "@torch.no_grad()\n",
    "def print_generated_text(model, split, dataset):\n",
    "    set_seed(42)\n",
    "    for i in range(len(dataset[split])):\n",
    "        input_text = pd.DataFrame(dataset[split])['Prompt'][i] + SPECIAL_TOKEN_TO_PREDICT\n",
    "\n",
    "        # Tokenize input\n",
    "        input_ids = tokenizer.encode(input_text, return_tensors='pt')\n",
    "        output = model.generate(input_ids=input_ids.to(device),\n",
    "                                do_sample=True,\n",
    "                                max_new_tokens=10,\n",
    "                                pad_token_id=tokenizer.pad_token_id,\n",
    "                                eos_token_id=tokenizer.eos_token_id,\n",
    "                                top_k=20,\n",
    "                                top_p=0.95,\n",
    "                                )\n",
    "\n",
    "        # Decode the output\n",
    "        decoded_output = tokenizer.decode(output[0], skip_special_tokens=False)\n",
    "\n",
    "        print(\"Prompt text:\")\n",
    "        print(input_text)\n",
    "        print(\"Generated text:\")\n",
    "        print(decoded_output)\n",
    "        print('Label text:')\n",
    "        print(' '.join(pd.DataFrame(dataset[split])['Nodes List'][i]))\n",
    "        print('*' * 50 + f'{i}' + '*' * 50)"
   ],
   "id": "1a1a2c931ef03e6e",
   "outputs": [],
   "execution_count": 58
  },
  {
   "metadata": {
    "ExecuteTime": {
     "end_time": "2024-08-13T18:44:40.540809Z",
     "start_time": "2024-08-13T18:44:38.157622Z"
    }
   },
   "cell_type": "code",
   "source": "print_generated_text(model=model, split='test', dataset=raw_datasets)",
   "id": "3839841ad0db7cd6",
   "outputs": [
    {
     "name": "stdout",
     "output_type": "stream",
     "text": [
      "Prompt text:\n",
      "Highlight a text box when the mouse enters and display a tooltip.>>\n",
      "Generated text:\n",
      "Highlight a text box when the mouse enters and display a tooltip.>> OnMouseEnter Tooltip OnMouseLeave Hide<|endoftext|>\n",
      "Label text:\n",
      "OnMouseEnter Highlight Tooltip\n",
      "**************************************************0**************************************************\n",
      "Prompt text:\n",
      "Highlight an element on mouse enter and hide the highlight on mouse leave.>>\n",
      "Generated text:\n",
      "Highlight an element on mouse enter and hide the highlight on mouse leave.>> OnMouseEnter Highlight OnMouseLeave Hide<|endoftext|>\n",
      "Label text:\n",
      "OnMouseEnter Highlight OnMouseLeave Hide\n",
      "**************************************************1**************************************************\n",
      "Prompt text:\n",
      "Display a modal dialog when a timer triggers every 5 seconds.>>\n",
      "Generated text:\n",
      "Display a modal dialog when a timer triggers every 5 seconds.>> OnTimer Navigate<|endoftext|>\n",
      "Label text:\n",
      "OnTimer DisplayModal\n",
      "**************************************************2**************************************************\n",
      "Prompt text:\n",
      "Log a message when the mouse enters a button area.>>\n",
      "Generated text:\n",
      "Log a message when the mouse enters a button area.>> OnMouseEnter PlaySound OnMouseLeave StopSound\n",
      "Label text:\n",
      "OnMouseEnter Log\n",
      "**************************************************3**************************************************\n",
      "Prompt text:\n",
      "Display an alert when the value of a specific variable is updated.>>\n",
      "Generated text:\n",
      "Display an alert when the value of a specific variable is updated.>> OnVariableChange Alert<|endoftext|>\n",
      "Label text:\n",
      "OnVariableChange Alert\n",
      "**************************************************4**************************************************\n",
      "Prompt text:\n",
      "Navigate to the dashboard page after successful login.>>\n",
      "Generated text:\n",
      "Navigate to the dashboard page after successful login.>> OnClick SendRequest Navigate<|endoftext|>\n",
      "Label text:\n",
      "Navigate Show\n",
      "**************************************************5**************************************************\n",
      "Prompt text:\n",
      "Filter out irrelevant data and then merge the filtered data with another dataset before showing it.>>\n",
      "Generated text:\n",
      "Filter out irrelevant data and then merge the filtered data with another dataset before showing it.>> Filter out irrelevant data and then merge the filtered data\n",
      "Label text:\n",
      "Filter Merge Show\n",
      "**************************************************6**************************************************\n",
      "Prompt text:\n",
      "Split a large file into smaller segments and delete the original file>>\n",
      "Generated text:\n",
      "Split a large file into smaller segments and delete the original file>> Split Delete<|endoftext|>\n",
      "Label text:\n",
      "Split Delete\n",
      "**************************************************7**************************************************\n",
      "Prompt text:\n",
      "Hide an element's tooltip when the mouse leaves the element.>>\n",
      "Generated text:\n",
      "Hide an element's tooltip when the mouse leaves the element.>> OnMouseLeave Tooltip<|endoftext|>\n",
      "Label text:\n",
      "OnMouseLeave Hide\n",
      "**************************************************8**************************************************\n",
      "Prompt text:\n",
      "Save form data when a submit button is clicked.>>\n",
      "Generated text:\n",
      "Save form data when a submit button is clicked.>> OnClick SendRequest Save<|endoftext|>\n",
      "Label text:\n",
      "OnClick Save\n",
      "**************************************************9**************************************************\n",
      "Prompt text:\n",
      "Fetch and store user data in a cache, then display the cached data in a tooltip when the user hovers over a profile picture.>>\n",
      "Generated text:\n",
      "Fetch and store user data in a cache, then display the cached data in a tooltip when the user hovers over a profile picture.>> OnClick FetchData Tooltip<|endoftext|>\n",
      "Label text:\n",
      "FetchData CacheData Tooltip\n",
      "**************************************************10**************************************************\n",
      "Prompt text:\n",
      "Group event logs by type, reduce them to a summary count, and render a chart with the summarized data.>>\n",
      "Generated text:\n",
      "Group event logs by type, reduce them to a summary count, and render a chart with the summarized data.>> OnTimerChart RenderChart<|endoftext|>\n",
      "Label text:\n",
      "GroupBy Reduce RenderChart\n",
      "**************************************************11**************************************************\n",
      "Prompt text:\n",
      "Navigate to a different page when a specific key is released>>\n",
      "Generated text:\n",
      "Navigate to a different page when a specific key is released>> OnKeyRelease Navigate<|endoftext|>\n",
      "Label text:\n",
      "OnKeyRelease Navigate\n",
      "**************************************************12**************************************************\n",
      "Prompt text:\n",
      "Show a tooltip with user information on mouse hover over a profile picture.>>\n",
      "Generated text:\n",
      "Show a tooltip with user information on mouse hover over a profile picture.>> OnMouseEnter PlaySound OnMouseLeave Pause\n",
      "Label text:\n",
      "Tooltip Show\n",
      "**************************************************13**************************************************\n",
      "Prompt text:\n",
      "Hide an element when the window is resized>>\n",
      "Generated text:\n",
      "Hide an element when the window is resized>> OnWindowResize Assign Highlight<|endoftext|>\n",
      "Label text:\n",
      "OnWindowResize Hide\n",
      "**************************************************14**************************************************\n",
      "Prompt text:\n",
      "Play a sound when the mouse enters a specific area.>>\n",
      "Generated text:\n",
      "Play a sound when the mouse enters a specific area.>> OnMouseEnter PlaySound OnMouseLeave StopSound\n",
      "Label text:\n",
      "OnMouseEnter PlaySound\n",
      "**************************************************15**************************************************\n",
      "Prompt text:\n",
      "Trigger an alert when a specific variable changes value>>\n",
      "Generated text:\n",
      "Trigger an alert when a specific variable changes value>> OnVariableChange Alert<|endoftext|>\n",
      "Label text:\n",
      "OnVariableChange Alert\n",
      "**************************************************16**************************************************\n",
      "Prompt text:\n",
      "Delete an old record and log the deletion event.>>\n",
      "Generated text:\n",
      "Delete an old record and log the deletion event.>> DeleteData Log<|endoftext|>\n",
      "Label text:\n",
      "DeleteData Log\n",
      "**************************************************17**************************************************\n",
      "Prompt text:\n",
      "Show a tooltip with additional details when the mouse hovers over a chart element, and hide the tooltip when the mouse leaves.>>\n",
      "Generated text:\n",
      "Show a tooltip with additional details when the mouse hovers over a chart element, and hide the tooltip when the mouse leaves.>> OnMouseEnter Tooltip OnMouseLeave Hide<|endoftext|>\n",
      "Label text:\n",
      "OnMouseEnter Tooltip OnMouseLeave Hide\n",
      "**************************************************18**************************************************\n",
      "Prompt text:\n",
      "Branch based on a user’s choice, fetch corresponding data, and display it.>>\n",
      "Generated text:\n",
      "Branch based on a user’s choice, fetch corresponding data, and display it.>> Branch FetchData DisplayData<|endoftext|>\n",
      "Label text:\n",
      "Branch FetchData Show\n",
      "**************************************************19**************************************************\n",
      "Prompt text:\n",
      "Highlight a selected element, and then update the display to reflect the selection.>>\n",
      "Generated text:\n",
      "Highlight a selected element, and then update the display to reflect the selection.>> OnClick SendRequest Save<|endoftext|>\n",
      "Label text:\n",
      "Highlight Update\n",
      "**************************************************20**************************************************\n",
      "Prompt text:\n",
      "Group comments by author, sort them by date, and display the sorted comments in a highlighted section.>>\n",
      "Generated text:\n",
      "Group comments by author, sort them by date, and display the sorted comments in a highlighted section.>> On the screen when the mouse pointer enters an element\n",
      "Label text:\n",
      "GroupBy Sort Highlight Show\n",
      "**************************************************21**************************************************\n",
      "Prompt text:\n",
      "Play a sound on a timer every 10 seconds and stop the sound when the timer ends.>>\n",
      "Generated text:\n",
      "Play a sound on a timer every 10 seconds and stop the sound when the timer ends.>> OnTimer PlaySound OnTimer StopSound<|endoftext|>\n",
      "Label text:\n",
      "OnTimer PlaySound OnTimer StopSound\n",
      "**************************************************22**************************************************\n",
      "Prompt text:\n",
      "Assign new values to multiple variables and log the updated values for debugging purposes.>>\n",
      "Generated text:\n",
      "Assign new values to multiple variables and log the updated values for debugging purposes.>> OnVariableChange Log Assign Log<|endoftext|>\n",
      "Label text:\n",
      "Assign Log\n",
      "**************************************************23**************************************************\n",
      "Prompt text:\n",
      "Fetch and cache search results, and then update the search results display using cached data.>>\n",
      "Generated text:\n",
      "Fetch and cache search results, and then update the search results display using cached data.>> FetchData UpdateData CacheData<|endoftext|>\n",
      "Label text:\n",
      "FetchData CacheData Update\n",
      "**************************************************24**************************************************\n",
      "Prompt text:\n",
      "Delete outdated records from the database and then close the modal dialog>>\n",
      "Generated text:\n",
      "Delete outdated records from the database and then close the modal dialog>> DeleteData UpdateData CloseModal<|endoftext|>\n",
      "Label text:\n",
      "DeleteData CloseModal\n",
      "**************************************************25**************************************************\n",
      "Prompt text:\n",
      "Trigger an alert when a variable changes to 'true' and log the event.>>\n",
      "Generated text:\n",
      "Trigger an alert when a variable changes to 'true' and log the event.>> OnVariableChange Assign Log<|endoftext|>\n",
      "Label text:\n",
      "OnVariableChange Alert Log\n",
      "**************************************************26**************************************************\n",
      "Prompt text:\n",
      "Sort a list of names alphabetically and display them on the screen.>>\n",
      "Generated text:\n",
      "Sort a list of names alphabetically and display them on the screen.>> Sort Show<|endoftext|>\n",
      "Label text:\n",
      "Sort Show\n",
      "**************************************************27**************************************************\n",
      "Prompt text:\n",
      "Reduce the number of items in a list to a specific threshold and log the result>>\n",
      "Generated text:\n",
      "Reduce the number of items in a list to a specific threshold and log the result>> Reduce Log<|endoftext|>\n",
      "Label text:\n",
      "Reduce Console\n",
      "**************************************************28**************************************************\n",
      "Prompt text:\n",
      "Delete old session data and log the deletion process for auditing purposes.>>\n",
      "Generated text:\n",
      "Delete old session data and log the deletion process for auditing purposes.>> DeleteData Log<|endoftext|>\n",
      "Label text:\n",
      "Delete Log\n",
      "**************************************************29**************************************************\n",
      "Prompt text:\n",
      "Display a modal dialog with user feedback when a button is clicked>>\n",
      "Generated text:\n",
      "Display a modal dialog with user feedback when a button is clicked>> OnClick Save Navigate<|endoftext|>\n",
      "Label text:\n",
      "OnClick DisplayModal\n",
      "**************************************************30**************************************************\n",
      "Prompt text:\n",
      "Fetch data, sort it by relevance, and then update the display with the sorted data.>>\n",
      "Generated text:\n",
      "Fetch data, sort it by relevance, and then update the display with the sorted data.>> FetchData Sort Update<|endoftext|>\n",
      "Label text:\n",
      "FetchData Sort Update\n",
      "**************************************************31**************************************************\n",
      "Prompt text:\n",
      "Update the user's settings based on form input and save them.>>\n",
      "Generated text:\n",
      "Update the user's settings based on form input and save them.>> OnSubmit Save Navigate<|endoftext|>\n",
      "Label text:\n",
      "UpdateData Save\n",
      "**************************************************32**************************************************\n",
      "Prompt text:\n",
      "Sort items by rating and then display the top-rated items on the screen.>>\n",
      "Generated text:\n",
      "Sort items by rating and then display the top-rated items on the screen.>> Sort Show<|endoftext|>\n",
      "Label text:\n",
      "Sort Show\n",
      "**************************************************33**************************************************\n",
      "Prompt text:\n",
      "Fetch user profile data and store it in local storage when a form is submitted>>\n",
      "Generated text:\n",
      "Fetch user profile data and store it in local storage when a form is submitted>> OnSubmit FetchData Log<|endoftext|>\n",
      "Label text:\n",
      "OnSubmit FetchData StoreData\n",
      "**************************************************34**************************************************\n",
      "Prompt text:\n",
      "Sort a list of user names alphabetically and display them>>\n",
      "Generated text:\n",
      "Sort a list of user names alphabetically and display them>> Sort Show<|endoftext|>\n",
      "Label text:\n",
      "Sort Show\n",
      "**************************************************35**************************************************\n",
      "Prompt text:\n",
      "Delete records older than 1 year and then update the display to reflect the changes.>>\n",
      "Generated text:\n",
      "Delete records older than 1 year and then update the display to reflect the changes.>> Delete Update<|endoftext|>\n",
      "Label text:\n",
      "Delete Update\n",
      "**************************************************36**************************************************\n",
      "Prompt text:\n",
      "Play a notification sound when a new message is received.>>\n",
      "Generated text:\n",
      "Play a notification sound when a new message is received.>> OnTimer PlaySound OnTimer AssignSound<|endoftext|>\n",
      "Label text:\n",
      "PlaySound Show\n",
      "**************************************************37**************************************************\n",
      "Prompt text:\n",
      "Filter items based on user preferences and then merge the filtered items with another dataset before displaying them.>>\n",
      "Generated text:\n",
      "Filter items based on user preferences and then merge the filtered items with another dataset before displaying them.>> Filter Merge Show<|endoftext|>\n",
      "Label text:\n",
      "Filter Merge Show\n",
      "**************************************************38**************************************************\n",
      "Prompt text:\n",
      "Adjust the layout of the page when the window is resized and log the new dimensions.>>\n",
      "Generated text:\n",
      "Adjust the layout of the page when the window is resized and log the new dimensions.>> OnWindowResize Log<|endoftext|>\n",
      "Label text:\n",
      "OnWindowResize Update Log\n",
      "**************************************************39**************************************************\n",
      "Prompt text:\n",
      "Display a tooltip with additional info when a key is released.>>\n",
      "Generated text:\n",
      "Display a tooltip with additional info when a key is released.>> OnKeyRelease Tooltip<|endoftext|>\n",
      "Label text:\n",
      "OnKeyRelease Tooltip\n",
      "**************************************************40**************************************************\n",
      "Prompt text:\n",
      "Fetch the latest news articles, filter out non-relevant ones, and display the filtered articles in a modal.>>\n",
      "Generated text:\n",
      "Fetch the latest news articles, filter out non-relevant ones, and display the filtered articles in a modal.>> Fetch the latest data, filter the filtered data\n",
      "Label text:\n",
      "FetchData Filter DisplayModal\n",
      "**************************************************41**************************************************\n",
      "Prompt text:\n",
      "Pause a currently playing sound when a specific key is pressed and resume it when the key is released.>>\n",
      "Generated text:\n",
      "Pause a currently playing sound when a specific key is pressed and resume it when the key is released.>> OnKeyPress PlaySound OnKeyRelease Pause\n",
      "Label text:\n",
      "OnKeyPress PauseSound OnKeyRelease PlaySound\n",
      "**************************************************42**************************************************\n",
      "Prompt text:\n",
      "Split a string into multiple parts and log each part separately.>>\n",
      "Generated text:\n",
      "Split a string into multiple parts and log each part separately.>> OnVariableChange Log Assign<|endoftext|>\n",
      "Label text:\n",
      "Split Log\n",
      "**************************************************43**************************************************\n",
      "Prompt text:\n",
      "Trigger a sound to play when the window is resized and stop the sound when the resize ends.>>\n",
      "Generated text:\n",
      "Trigger a sound to play when the window is resized and stop the sound when the resize ends.>> OnWindowResize PlaySound OnWindowResize\n",
      "Label text:\n",
      "OnWindowResize PlaySound OnWindowResize StopSound\n",
      "**************************************************44**************************************************\n",
      "Prompt text:\n",
      "Send a request when a variable changes and update the data displayed.>>\n",
      "Generated text:\n",
      "Send a request when a variable changes and update the data displayed.>> OnVariableChange SendRequest<|endoftext|>\n",
      "Label text:\n",
      "OnVariableChange SendRequest Update\n",
      "**************************************************45**************************************************\n",
      "Prompt text:\n",
      "Check if a user is logged in before navigating to the dashboard>>\n",
      "Generated text:\n",
      "Check if a user is logged in before navigating to the dashboard>> OnClick Delay Navigate<|endoftext|>\n",
      "Label text:\n",
      "Branch Navigate\n",
      "**************************************************46**************************************************\n",
      "Prompt text:\n",
      "Group data by category and sort the groups by name before displaying>>\n",
      "Generated text:\n",
      "Group data by category and sort the groups by name before displaying>> GroupBy Sort Show<|endoftext|>\n",
      "Label text:\n",
      "GroupBy Sort Show\n",
      "**************************************************47**************************************************\n",
      "Prompt text:\n",
      "Sort a list of tasks by priority and display the sorted list on the screen.>>\n",
      "Generated text:\n",
      "Sort a list of tasks by priority and display the sorted list on the screen.>> Branch Show<|endoftext|>\n",
      "Label text:\n",
      "Sort Show\n",
      "**************************************************48**************************************************\n",
      "Prompt text:\n",
      "Branch based on a user’s choice, fetch corresponding data, and display it.>>\n",
      "Generated text:\n",
      "Branch based on a user’s choice, fetch corresponding data, and display it.>> Branch FetchData DisplayData<|endoftext|>\n",
      "Label text:\n",
      "Branch FetchData Show\n",
      "**************************************************49**************************************************\n",
      "Prompt text:\n",
      "Assign a default value to a variable and log the operation.>>\n",
      "Generated text:\n",
      "Assign a default value to a variable and log the operation.>> OnVariableChange Assign Log<|endoftext|>\n",
      "Label text:\n",
      "Assign Log\n",
      "**************************************************50**************************************************\n",
      "Prompt text:\n",
      "Log a message when a key is released and display an alert with the key name.>>\n",
      "Generated text:\n",
      "Log a message when a key is released and display an alert with the key name.>> OnKeyRelease Console<|endoftext|>\n",
      "Label text:\n",
      "OnKeyRelease Log Alert\n",
      "**************************************************51**************************************************\n",
      "Prompt text:\n",
      "Filter data to remove invalid entries and then merge the remaining data>>\n",
      "Generated text:\n",
      "Filter data to remove invalid entries and then merge the remaining data>> DeleteData Merge DeleteData<|endoftext|>\n",
      "Label text:\n",
      "Filter Merge\n",
      "**************************************************52**************************************************\n",
      "Prompt text:\n",
      "Merge two datasets and update the chart with the combined data.>>\n",
      "Generated text:\n",
      "Merge two datasets and update the chart with the combined data.>> Merge RenderChart<|endoftext|>\n",
      "Label text:\n",
      "Merge RenderChart\n",
      "**************************************************53**************************************************\n",
      "Prompt text:\n",
      "Display an alert every 5 minutes.>>\n",
      "Generated text:\n",
      "Display an alert every 5 minutes.>> OnTimer Alert<|endoftext|>\n",
      "Label text:\n",
      "OnTimer Alert\n",
      "**************************************************54**************************************************\n",
      "Prompt text:\n",
      "Log a message when a key is released and then navigate to a different page.>>\n",
      "Generated text:\n",
      "Log a message when a key is released and then navigate to a different page.>> OnKeyRelease Navigate<|endoftext|>\n",
      "Label text:\n",
      "OnKeyRelease Log Navigate\n",
      "**************************************************55**************************************************\n",
      "Prompt text:\n",
      "Navigate to a different URL after 5 seconds when a key is pressed.>>\n",
      "Generated text:\n",
      "Navigate to a different URL after 5 seconds when a key is pressed.>> OnKeyPress Delay Navigate<|endoftext|>\n",
      "Label text:\n",
      "OnKeyPress Delay Navigate\n",
      "**************************************************56**************************************************\n",
      "Prompt text:\n",
      "Log the successful completion of a task and save it to a database.>>\n",
      "Generated text:\n",
      "Log the successful completion of a task and save it to a database.>> OnTimer Assign<|endoftext|>\n",
      "Label text:\n",
      "Log Save\n",
      "**************************************************57**************************************************\n",
      "Prompt text:\n",
      "Trigger a sound to play when a specific variable changes value>>\n",
      "Generated text:\n",
      "Trigger a sound to play when a specific variable changes value>> OnVariableChange PlaySound OnVariableChange PlaySound\n",
      "Label text:\n",
      "OnVariableChange PlaySound\n",
      "**************************************************58**************************************************\n",
      "Prompt text:\n",
      "Update user profile information and then fetch the updated data to display it.>>\n",
      "Generated text:\n",
      "Update user profile information and then fetch the updated data to display it.>> OnTimer FetchData UpdateData<|endoftext|>\n",
      "Label text:\n",
      "UpdateData FetchData Show\n",
      "**************************************************59**************************************************\n",
      "Prompt text:\n",
      "Show a success message when data is successfully saved.>>\n",
      "Generated text:\n",
      "Show a success message when data is successfully saved.>> OnTimer Save<|endoftext|>\n",
      "Label text:\n",
      "Show Log\n",
      "**************************************************60**************************************************\n",
      "Prompt text:\n",
      "Wait for 5 seconds and then display a message on the screen>>\n",
      "Generated text:\n",
      "Wait for 5 seconds and then display a message on the screen>> OnTimer Delay Show<|endoftext|>\n",
      "Label text:\n",
      "Delay Show\n",
      "**************************************************61**************************************************\n"
     ]
    }
   ],
   "execution_count": 59
  },
  {
   "metadata": {},
   "cell_type": "markdown",
   "source": " ### Generate list of the special tokens to detect if model engages unrelated node generation",
   "id": "fe1fdf643d5f49c"
  },
  {
   "metadata": {
    "ExecuteTime": {
     "end_time": "2024-08-14T07:25:40.893836Z",
     "start_time": "2024-08-14T07:25:40.888847Z"
    }
   },
   "cell_type": "code",
   "source": [
    "all_gt_label_nodes = df['Sequence of Nodes'].apply(lambda x: ' '.join(x.strip(\"[]\").split(\"],[\"))).values\n",
    "all_gt_label_nodes[:5]"
   ],
   "id": "e6ee4e72bba2a3d3",
   "outputs": [
    {
     "data": {
      "text/plain": [
       "array(['OnVariableChange Alert Log', 'OnVariableChange Assign Show',\n",
       "       'OnVariableChange SendRequest Update', 'OnKeyRelease Tooltip',\n",
       "       'OnKeyRelease Log StopSound'], dtype=object)"
      ]
     },
     "execution_count": 22,
     "metadata": {},
     "output_type": "execute_result"
    }
   ],
   "execution_count": 22
  },
  {
   "metadata": {
    "ExecuteTime": {
     "end_time": "2024-08-14T07:06:07.119687Z",
     "start_time": "2024-08-14T07:06:07.098004Z"
    }
   },
   "cell_type": "code",
   "source": [
    "label_token_list = []\n",
    "for gt_label in tqdm(all_gt_label_nodes):\n",
    "    tokens = tokenizer.encode(gt_label)\n",
    "    label_token_list.extend(tokens)"
   ],
   "id": "52ed338c8bd0b3f6",
   "outputs": [
    {
     "data": {
      "text/plain": [
       "  0%|          | 0/306 [00:00<?, ?it/s]"
      ],
      "application/vnd.jupyter.widget-view+json": {
       "version_major": 2,
       "version_minor": 0,
       "model_id": "f2231275a86142869bc62fff10139c96"
      }
     },
     "metadata": {},
     "output_type": "display_data"
    }
   ],
   "execution_count": 20
  },
  {
   "metadata": {
    "ExecuteTime": {
     "end_time": "2024-08-14T07:06:45.079283Z",
     "start_time": "2024-08-14T07:06:45.075762Z"
    }
   },
   "cell_type": "code",
   "source": [
    "import pickle\n",
    "\n",
    "# Save the list to a file\n",
    "with open('gt_token_ids.pkl', 'wb') as file:\n",
    "    pickle.dump(label_token_list, file)"
   ],
   "id": "cf04db06921fbba8",
   "outputs": [],
   "execution_count": 21
  },
  {
   "metadata": {},
   "cell_type": "markdown",
   "source": "### Used prompts to generate data using ChatGPT",
   "id": "99b1255283771a70"
  },
  {
   "metadata": {},
   "cell_type": "markdown",
   "source": [
    "Generate data for prompt to a sequence of nodes task. I will provide you the list of the possible event nodes and a few prompts to nodes examples. You need to generate more prompts and nodes examples for all the nodes in csv format. Generate 3 examples per each node. \n",
    "Possible nodes:\n",
    "Event Nodes\n",
    "[OnVariableChange]: Triggered when a specified variable changes value.\n",
    "[OnKeyRelease]: Triggered when a key is released.\n",
    "[OnKeyPress]: Triggered when a key is pressed.\n",
    "[OnClick]: Triggered when an element is clicked.\n",
    "[OnWindowResize]: Triggered when the window is resized.\n",
    "[OnMouseEnter]: Triggered when the mouse pointer enters an element.\n",
    "[OnMouseLeave]: Triggered when the mouse pointer leaves an element.\n",
    "[OnTimer]: Triggered at specified time intervals.\n",
    "Action Nodes\n",
    "[Console]: Prints a message to the console.\n",
    "[Alert]: Displays an alert message.\n",
    "[Log]: Logs information for debugging purposes.\n",
    "[Assign]: Assigns a value to a variable.\n",
    "[SendRequest]: Sends a network request.\n",
    "[Navigate]: Navigates to a different URL or page.\n",
    "[Save]: Saves data to local storage or a database.\n",
    "[Delete]: Deletes specified data or records.\n",
    "[PlaySound]: Plays an audio file.\n",
    "[PauseSound]: Pauses an audio file.\n",
    "[StopSound]: Stops an audio file.\n",
    "Transformation Nodes\n",
    "[Branch]: Conditional node that branches based on a true/false evaluation.\n",
    "[Map]: Transforms data from one format to another.\n",
    "[Filter]: Filters data based on specified criteria.\n",
    "[Reduce]: Reduces a list of items to a single value.\n",
    "[Sort]: Sorts data based on specified criteria.\n",
    "[GroupBy]: Groups data by a specified attribute.\n",
    "[Merge]: Merges multiple datasets into one.\n",
    "[Split]: Splits data into multiple parts based on criteria.\n",
    "Display Nodes\n",
    "[Show]: Displays information on the screen.\n",
    "[Hide]: Hides information from the screen.\n",
    "[Update]: Updates the display with new information.\n",
    "[DisplayModal]: Displays a modal dialog.\n",
    "[CloseModal]: Closes an open modal dialog.\n",
    "[Highlight]: Highlights an element on the screen.\n",
    "[Tooltip]: Shows a tooltip with additional information.\n",
    "[RenderChart]: Renders a chart with specified data.\n",
    "Data Nodes\n",
    "[FetchData]: Fetches data from an API or database.\n",
    "[StoreData]: Stores data in a variable or storage.\n",
    "[UpdateData]: Updates existing data.\n",
    "[DeleteData]: Deletes specified data.\n",
    "[CacheData]: Caches data for performance improvement.\n",
    "\n",
    "Examples\n",
    "Prompt: Navigate to a new page after a delay of 3 seconds when the user clicks a button.\n",
    "Sequence of Nodes:\n",
    "1. [OnClick]\n",
    "2. [Delay]\n",
    "3. [Navigate]\n",
    "Prompt: Fetch user data and display it in a modal when a button is clicked.\n",
    "Sequence of Nodes:\n",
    "1. [OnClick]\n",
    "2. [FetchData]\n",
    "3. [DisplayModal]\n",
    "Prompt: Reduce a list of scores to find the highest score and log the result.\n",
    "Sequence of Nodes:\n",
    "1. [Reduce]\n",
    "2. [Log]\n",
    "Prompt: Cache fetched data to improve performance and display the data on the screen.\n",
    "Sequence of Nodes:\n",
    "1. [FetchData]\n",
    "2. [CacheData]\n",
    "3. [Show]\n",
    "Prompt: Log a message when a key is pressed and display the key value on the screen.\n",
    "Sequence of Nodes:\n",
    "1. [OnKeyPress]\n",
    "2. [Log]\n",
    "3. [Show]\n",
    "Prompt: Highlight an element when the mouse enters it and remove the highlight when the mouse leaves.Sequence of Nodes:\n",
    "1. [OnMouseEnter]\n",
    "2. [Highlight]\n",
    "3. [OnMouseLeave]\n",
    "4. [Show]\n",
    "Prompt: Filter out items that are out of stock and sort the remaining items by price before displaying them on the screen.\n",
    "Sequence of Nodes:\n",
    "1. [Filter]\n",
    "2. [Sort]\n",
    "3. [Show]   "
   ],
   "id": "426e071fa88b2ea"
  },
  {
   "metadata": {},
   "cell_type": "markdown",
   "source": [
    "I will give you a few rows of a CSV file with columns of \"Prompt\"  and \"Sequence of Nodes\". You need to generate more similar examples in the same CSV format, but change the ordering of node names in the \"Sequence of Nodes\" column depending on the prompt text in the \"Prompt\" column. Remember that node ordering in the \"Sequence of Nodes\" column should follow the logic of the prompt text and, also, use only the provided examples of node names in \"Sequence of Nodes\". Do not create new node names apart from what is already used in the example. CSV examples with 4 rows.\n",
    "Prompt,Sequence of Nodes\n",
    "\"Send a request when a variable changes and update the data displayed.\",\"[OnVariableChange],[SendRequest],[Update]\"\n",
    "\"Send a request to save form data when the submit button is clicked.\",\"[OnClick],[SendRequest],[Save]\"\n",
    "\"Send a network request when a key is pressed.\",\"[OnKeyPress],[SendRequest]\"\n",
    "\"Remove a specific record from the database after a successful network request\",\"[SendRequest],[DeleteData]\""
   ],
   "id": "5cfb2ebb45f2fc88"
  }
 ],
 "metadata": {
  "kernelspec": {
   "display_name": "Python 3",
   "language": "python",
   "name": "python3"
  },
  "language_info": {
   "codemirror_mode": {
    "name": "ipython",
    "version": 2
   },
   "file_extension": ".py",
   "mimetype": "text/x-python",
   "name": "python",
   "nbconvert_exporter": "python",
   "pygments_lexer": "ipython2",
   "version": "2.7.6"
  }
 },
 "nbformat": 4,
 "nbformat_minor": 5
}
